{
 "cells": [
  {
   "cell_type": "markdown",
   "metadata": {},
   "source": [
    "# Описание проекта\n",
    "Мы работаем в интернет-магазине «Стримчик», который продаёт по всему миру компьютерные игры. Из открытых источников доступны исторические данные о продажах игр, оценки пользователей и экспертов, жанры и платформы (например, Xbox или PlayStation). Нам нужно выявить определяющие успешность игры закономерности. Это позволит сделать ставку на потенциально популярный продукт и спланировать рекламные кампании. <br>\n",
    "Перед нами данные до 2016 года. Представим, что сейчас декабрь 2016 г., и вы планируете кампанию на 2017-й. Нужно отработать принцип работы с данными. Неважно, прогнозируете ли вы продажи на 2017 год по данным 2016-го или же 2027-й — по данным 2026 года. <br>\n",
    "\n",
    "Описание данных: <br>\n",
    "- Name — название игры\n",
    "- Platform — платформа\n",
    "- Year_of_Release — год выпуска\n",
    "- Genre — жанр игры\n",
    "- NA_sales — продажи в Северной Америке (миллионы проданных копий)\n",
    "- EU_sales — продажи в Европе (миллионы проданных копий)\n",
    "- JP_sales — продажи в Японии (миллионы проданных копий)\n",
    "- Other_sales — продажи в других странах (миллионы проданных копий)\n",
    "- Critic_Score — оценка критиков (максимум 100)\n",
    "- User_Score — оценка пользователей (максимум 10)\n",
    "- Rating — рейтинг от организации ESRB (англ. Entertainment Software Rating Board). Эта ассоциация определяет рейтинг компьютерных игр и присваивает им подходящую возрастную категорию.\n",
    "\n",
    "Данные за 2016 год могут быть неполными."
   ]
  },
  {
   "cell_type": "code",
   "execution_count": 1,
   "metadata": {},
   "outputs": [],
   "source": [
    "#импортируем библиотеки\n",
    "import pandas as pd\n",
    "import numpy as np\n",
    "import seaborn as sns\n",
    "import matplotlib.pyplot as plt"
   ]
  },
  {
   "cell_type": "markdown",
   "metadata": {},
   "source": [
    "# Шаг 1. Откроем файл с данными и изучим общую информацию"
   ]
  },
  {
   "cell_type": "code",
   "execution_count": 2,
   "metadata": {},
   "outputs": [
    {
     "data": {
      "text/html": [
       "<div>\n",
       "<style scoped>\n",
       "    .dataframe tbody tr th:only-of-type {\n",
       "        vertical-align: middle;\n",
       "    }\n",
       "\n",
       "    .dataframe tbody tr th {\n",
       "        vertical-align: top;\n",
       "    }\n",
       "\n",
       "    .dataframe thead th {\n",
       "        text-align: right;\n",
       "    }\n",
       "</style>\n",
       "<table border=\"1\" class=\"dataframe\">\n",
       "  <thead>\n",
       "    <tr style=\"text-align: right;\">\n",
       "      <th></th>\n",
       "      <th>Name</th>\n",
       "      <th>Platform</th>\n",
       "      <th>Year_of_Release</th>\n",
       "      <th>Genre</th>\n",
       "      <th>NA_sales</th>\n",
       "      <th>EU_sales</th>\n",
       "      <th>JP_sales</th>\n",
       "      <th>Other_sales</th>\n",
       "      <th>Critic_Score</th>\n",
       "      <th>User_Score</th>\n",
       "      <th>Rating</th>\n",
       "    </tr>\n",
       "  </thead>\n",
       "  <tbody>\n",
       "    <tr>\n",
       "      <th>0</th>\n",
       "      <td>Wii Sports</td>\n",
       "      <td>Wii</td>\n",
       "      <td>2006.0</td>\n",
       "      <td>Sports</td>\n",
       "      <td>41.36</td>\n",
       "      <td>28.96</td>\n",
       "      <td>3.77</td>\n",
       "      <td>8.45</td>\n",
       "      <td>76.0</td>\n",
       "      <td>8</td>\n",
       "      <td>E</td>\n",
       "    </tr>\n",
       "    <tr>\n",
       "      <th>1</th>\n",
       "      <td>Super Mario Bros.</td>\n",
       "      <td>NES</td>\n",
       "      <td>1985.0</td>\n",
       "      <td>Platform</td>\n",
       "      <td>29.08</td>\n",
       "      <td>3.58</td>\n",
       "      <td>6.81</td>\n",
       "      <td>0.77</td>\n",
       "      <td>NaN</td>\n",
       "      <td>NaN</td>\n",
       "      <td>NaN</td>\n",
       "    </tr>\n",
       "    <tr>\n",
       "      <th>2</th>\n",
       "      <td>Mario Kart Wii</td>\n",
       "      <td>Wii</td>\n",
       "      <td>2008.0</td>\n",
       "      <td>Racing</td>\n",
       "      <td>15.68</td>\n",
       "      <td>12.76</td>\n",
       "      <td>3.79</td>\n",
       "      <td>3.29</td>\n",
       "      <td>82.0</td>\n",
       "      <td>8.3</td>\n",
       "      <td>E</td>\n",
       "    </tr>\n",
       "    <tr>\n",
       "      <th>3</th>\n",
       "      <td>Wii Sports Resort</td>\n",
       "      <td>Wii</td>\n",
       "      <td>2009.0</td>\n",
       "      <td>Sports</td>\n",
       "      <td>15.61</td>\n",
       "      <td>10.93</td>\n",
       "      <td>3.28</td>\n",
       "      <td>2.95</td>\n",
       "      <td>80.0</td>\n",
       "      <td>8</td>\n",
       "      <td>E</td>\n",
       "    </tr>\n",
       "    <tr>\n",
       "      <th>4</th>\n",
       "      <td>Pokemon Red/Pokemon Blue</td>\n",
       "      <td>GB</td>\n",
       "      <td>1996.0</td>\n",
       "      <td>Role-Playing</td>\n",
       "      <td>11.27</td>\n",
       "      <td>8.89</td>\n",
       "      <td>10.22</td>\n",
       "      <td>1.00</td>\n",
       "      <td>NaN</td>\n",
       "      <td>NaN</td>\n",
       "      <td>NaN</td>\n",
       "    </tr>\n",
       "  </tbody>\n",
       "</table>\n",
       "</div>"
      ],
      "text/plain": [
       "                       Name Platform  Year_of_Release         Genre  NA_sales  \\\n",
       "0                Wii Sports      Wii           2006.0        Sports     41.36   \n",
       "1         Super Mario Bros.      NES           1985.0      Platform     29.08   \n",
       "2            Mario Kart Wii      Wii           2008.0        Racing     15.68   \n",
       "3         Wii Sports Resort      Wii           2009.0        Sports     15.61   \n",
       "4  Pokemon Red/Pokemon Blue       GB           1996.0  Role-Playing     11.27   \n",
       "\n",
       "   EU_sales  JP_sales  Other_sales  Critic_Score User_Score Rating  \n",
       "0     28.96      3.77         8.45          76.0          8      E  \n",
       "1      3.58      6.81         0.77           NaN        NaN    NaN  \n",
       "2     12.76      3.79         3.29          82.0        8.3      E  \n",
       "3     10.93      3.28         2.95          80.0          8      E  \n",
       "4      8.89     10.22         1.00           NaN        NaN    NaN  "
      ]
     },
     "execution_count": 2,
     "metadata": {},
     "output_type": "execute_result"
    }
   ],
   "source": [
    "#смотрим данные\n",
    "import pandas as pd\n",
    "\n",
    "try:\n",
    "    data = pd.read_csv(\"/datasets/games.csv\")\n",
    "except:\n",
    "    data = pd.read_csv('https://code.s3.yandex.net/datasets/games.csv')\n",
    "\n",
    "data.head(5)"
   ]
  },
  {
   "cell_type": "code",
   "execution_count": 3,
   "metadata": {},
   "outputs": [
    {
     "data": {
      "text/plain": [
       "(16715, 11)"
      ]
     },
     "execution_count": 3,
     "metadata": {},
     "output_type": "execute_result"
    }
   ],
   "source": [
    "data.shape"
   ]
  },
  {
   "cell_type": "code",
   "execution_count": 4,
   "metadata": {},
   "outputs": [
    {
     "name": "stdout",
     "output_type": "stream",
     "text": [
      "<class 'pandas.core.frame.DataFrame'>\n",
      "RangeIndex: 16715 entries, 0 to 16714\n",
      "Data columns (total 11 columns):\n",
      " #   Column           Non-Null Count  Dtype  \n",
      "---  ------           --------------  -----  \n",
      " 0   Name             16713 non-null  object \n",
      " 1   Platform         16715 non-null  object \n",
      " 2   Year_of_Release  16446 non-null  float64\n",
      " 3   Genre            16713 non-null  object \n",
      " 4   NA_sales         16715 non-null  float64\n",
      " 5   EU_sales         16715 non-null  float64\n",
      " 6   JP_sales         16715 non-null  float64\n",
      " 7   Other_sales      16715 non-null  float64\n",
      " 8   Critic_Score     8137 non-null   float64\n",
      " 9   User_Score       10014 non-null  object \n",
      " 10  Rating           9949 non-null   object \n",
      "dtypes: float64(6), object(5)\n",
      "memory usage: 1.4+ MB\n"
     ]
    }
   ],
   "source": [
    "data.info()"
   ]
  },
  {
   "cell_type": "code",
   "execution_count": 5,
   "metadata": {},
   "outputs": [
    {
     "data": {
      "text/html": [
       "<div>\n",
       "<style scoped>\n",
       "    .dataframe tbody tr th:only-of-type {\n",
       "        vertical-align: middle;\n",
       "    }\n",
       "\n",
       "    .dataframe tbody tr th {\n",
       "        vertical-align: top;\n",
       "    }\n",
       "\n",
       "    .dataframe thead th {\n",
       "        text-align: right;\n",
       "    }\n",
       "</style>\n",
       "<table border=\"1\" class=\"dataframe\">\n",
       "  <thead>\n",
       "    <tr style=\"text-align: right;\">\n",
       "      <th></th>\n",
       "      <th>Year_of_Release</th>\n",
       "      <th>NA_sales</th>\n",
       "      <th>EU_sales</th>\n",
       "      <th>JP_sales</th>\n",
       "      <th>Other_sales</th>\n",
       "      <th>Critic_Score</th>\n",
       "    </tr>\n",
       "  </thead>\n",
       "  <tbody>\n",
       "    <tr>\n",
       "      <th>count</th>\n",
       "      <td>16446.000000</td>\n",
       "      <td>16715.000000</td>\n",
       "      <td>16715.000000</td>\n",
       "      <td>16715.000000</td>\n",
       "      <td>16715.000000</td>\n",
       "      <td>8137.000000</td>\n",
       "    </tr>\n",
       "    <tr>\n",
       "      <th>mean</th>\n",
       "      <td>2006.484616</td>\n",
       "      <td>0.263377</td>\n",
       "      <td>0.145060</td>\n",
       "      <td>0.077617</td>\n",
       "      <td>0.047342</td>\n",
       "      <td>68.967679</td>\n",
       "    </tr>\n",
       "    <tr>\n",
       "      <th>std</th>\n",
       "      <td>5.877050</td>\n",
       "      <td>0.813604</td>\n",
       "      <td>0.503339</td>\n",
       "      <td>0.308853</td>\n",
       "      <td>0.186731</td>\n",
       "      <td>13.938165</td>\n",
       "    </tr>\n",
       "    <tr>\n",
       "      <th>min</th>\n",
       "      <td>1980.000000</td>\n",
       "      <td>0.000000</td>\n",
       "      <td>0.000000</td>\n",
       "      <td>0.000000</td>\n",
       "      <td>0.000000</td>\n",
       "      <td>13.000000</td>\n",
       "    </tr>\n",
       "    <tr>\n",
       "      <th>25%</th>\n",
       "      <td>2003.000000</td>\n",
       "      <td>0.000000</td>\n",
       "      <td>0.000000</td>\n",
       "      <td>0.000000</td>\n",
       "      <td>0.000000</td>\n",
       "      <td>60.000000</td>\n",
       "    </tr>\n",
       "    <tr>\n",
       "      <th>50%</th>\n",
       "      <td>2007.000000</td>\n",
       "      <td>0.080000</td>\n",
       "      <td>0.020000</td>\n",
       "      <td>0.000000</td>\n",
       "      <td>0.010000</td>\n",
       "      <td>71.000000</td>\n",
       "    </tr>\n",
       "    <tr>\n",
       "      <th>75%</th>\n",
       "      <td>2010.000000</td>\n",
       "      <td>0.240000</td>\n",
       "      <td>0.110000</td>\n",
       "      <td>0.040000</td>\n",
       "      <td>0.030000</td>\n",
       "      <td>79.000000</td>\n",
       "    </tr>\n",
       "    <tr>\n",
       "      <th>max</th>\n",
       "      <td>2016.000000</td>\n",
       "      <td>41.360000</td>\n",
       "      <td>28.960000</td>\n",
       "      <td>10.220000</td>\n",
       "      <td>10.570000</td>\n",
       "      <td>98.000000</td>\n",
       "    </tr>\n",
       "  </tbody>\n",
       "</table>\n",
       "</div>"
      ],
      "text/plain": [
       "       Year_of_Release      NA_sales      EU_sales      JP_sales  \\\n",
       "count     16446.000000  16715.000000  16715.000000  16715.000000   \n",
       "mean       2006.484616      0.263377      0.145060      0.077617   \n",
       "std           5.877050      0.813604      0.503339      0.308853   \n",
       "min        1980.000000      0.000000      0.000000      0.000000   \n",
       "25%        2003.000000      0.000000      0.000000      0.000000   \n",
       "50%        2007.000000      0.080000      0.020000      0.000000   \n",
       "75%        2010.000000      0.240000      0.110000      0.040000   \n",
       "max        2016.000000     41.360000     28.960000     10.220000   \n",
       "\n",
       "        Other_sales  Critic_Score  \n",
       "count  16715.000000   8137.000000  \n",
       "mean       0.047342     68.967679  \n",
       "std        0.186731     13.938165  \n",
       "min        0.000000     13.000000  \n",
       "25%        0.000000     60.000000  \n",
       "50%        0.010000     71.000000  \n",
       "75%        0.030000     79.000000  \n",
       "max       10.570000     98.000000  "
      ]
     },
     "execution_count": 5,
     "metadata": {},
     "output_type": "execute_result"
    }
   ],
   "source": [
    "data.describe()"
   ]
  },
  {
   "cell_type": "code",
   "execution_count": 6,
   "metadata": {},
   "outputs": [
    {
     "data": {
      "text/plain": [
       "array([[<AxesSubplot:title={'center':'Year_of_Release'}>,\n",
       "        <AxesSubplot:title={'center':'NA_sales'}>],\n",
       "       [<AxesSubplot:title={'center':'EU_sales'}>,\n",
       "        <AxesSubplot:title={'center':'JP_sales'}>],\n",
       "       [<AxesSubplot:title={'center':'Other_sales'}>,\n",
       "        <AxesSubplot:title={'center':'Critic_Score'}>]], dtype=object)"
      ]
     },
     "execution_count": 6,
     "metadata": {},
     "output_type": "execute_result"
    },
    {
     "data": {
      "image/png": "[encoded data removed]",
      "text/plain": [
       "<Figure size 432x288 with 6 Axes>"
      ]
     },
     "metadata": {
      "needs_background": "light"
     },
     "output_type": "display_data"
    }
   ],
   "source": [
    "data.hist()"
   ]
  },
  {
   "cell_type": "markdown",
   "metadata": {},
   "source": [
    "Всего у нас 16715 значений, после обработки должно остаться как минимум 80% (13372 значения)"
   ]
  },
  {
   "cell_type": "markdown",
   "metadata": {},
   "source": [
    "# Шаг 2. Подготовим данные"
   ]
  },
  {
   "cell_type": "markdown",
   "metadata": {},
   "source": [
    "Заменим названия столбцов (приведите к нижнему регистру); <br>\n",
    "Преобразуем данные в нужные типы. Опишите, в каких столбцах заменили тип данных и почему; <br>\n",
    "Обработаем пропуски при необходимости <br>"
   ]
  },
  {
   "cell_type": "code",
   "execution_count": 7,
   "metadata": {},
   "outputs": [],
   "source": [
    "#Заменила названия столбцов (приведите к нижнему регистру);\n",
    "data.columns = [\"name\", \"platform\", \"year_of_release\", \"genre\", \"na_sales\", \"eu_sales\", \"jp_sales\", \"other_sales\", \"critic_score\", \"user_score\", \"rating\"]"
   ]
  },
  {
   "cell_type": "code",
   "execution_count": 8,
   "metadata": {},
   "outputs": [
    {
     "data": {
      "text/plain": [
       "Index(['name', 'platform', 'year_of_release', 'genre', 'na_sales', 'eu_sales',\n",
       "       'jp_sales', 'other_sales', 'critic_score', 'user_score', 'rating'],\n",
       "      dtype='object')"
      ]
     },
     "execution_count": 8,
     "metadata": {},
     "output_type": "execute_result"
    }
   ],
   "source": [
    "data.columns = data.columns.str.lower()\n",
    "data.columns"
   ]
  },
  {
   "cell_type": "code",
   "execution_count": 9,
   "metadata": {},
   "outputs": [
    {
     "data": {
      "text/html": [
       "<div>\n",
       "<style scoped>\n",
       "    .dataframe tbody tr th:only-of-type {\n",
       "        vertical-align: middle;\n",
       "    }\n",
       "\n",
       "    .dataframe tbody tr th {\n",
       "        vertical-align: top;\n",
       "    }\n",
       "\n",
       "    .dataframe thead th {\n",
       "        text-align: right;\n",
       "    }\n",
       "</style>\n",
       "<table border=\"1\" class=\"dataframe\">\n",
       "  <thead>\n",
       "    <tr style=\"text-align: right;\">\n",
       "      <th></th>\n",
       "      <th>name</th>\n",
       "      <th>platform</th>\n",
       "      <th>year_of_release</th>\n",
       "      <th>genre</th>\n",
       "      <th>na_sales</th>\n",
       "      <th>eu_sales</th>\n",
       "      <th>jp_sales</th>\n",
       "      <th>other_sales</th>\n",
       "      <th>critic_score</th>\n",
       "      <th>user_score</th>\n",
       "      <th>rating</th>\n",
       "    </tr>\n",
       "  </thead>\n",
       "  <tbody>\n",
       "    <tr>\n",
       "      <th>0</th>\n",
       "      <td>Wii Sports</td>\n",
       "      <td>Wii</td>\n",
       "      <td>2006.0</td>\n",
       "      <td>Sports</td>\n",
       "      <td>41.36</td>\n",
       "      <td>28.96</td>\n",
       "      <td>3.77</td>\n",
       "      <td>8.45</td>\n",
       "      <td>76.0</td>\n",
       "      <td>8</td>\n",
       "      <td>E</td>\n",
       "    </tr>\n",
       "    <tr>\n",
       "      <th>1</th>\n",
       "      <td>Super Mario Bros.</td>\n",
       "      <td>NES</td>\n",
       "      <td>1985.0</td>\n",
       "      <td>Platform</td>\n",
       "      <td>29.08</td>\n",
       "      <td>3.58</td>\n",
       "      <td>6.81</td>\n",
       "      <td>0.77</td>\n",
       "      <td>NaN</td>\n",
       "      <td>NaN</td>\n",
       "      <td>NaN</td>\n",
       "    </tr>\n",
       "    <tr>\n",
       "      <th>2</th>\n",
       "      <td>Mario Kart Wii</td>\n",
       "      <td>Wii</td>\n",
       "      <td>2008.0</td>\n",
       "      <td>Racing</td>\n",
       "      <td>15.68</td>\n",
       "      <td>12.76</td>\n",
       "      <td>3.79</td>\n",
       "      <td>3.29</td>\n",
       "      <td>82.0</td>\n",
       "      <td>8.3</td>\n",
       "      <td>E</td>\n",
       "    </tr>\n",
       "    <tr>\n",
       "      <th>3</th>\n",
       "      <td>Wii Sports Resort</td>\n",
       "      <td>Wii</td>\n",
       "      <td>2009.0</td>\n",
       "      <td>Sports</td>\n",
       "      <td>15.61</td>\n",
       "      <td>10.93</td>\n",
       "      <td>3.28</td>\n",
       "      <td>2.95</td>\n",
       "      <td>80.0</td>\n",
       "      <td>8</td>\n",
       "      <td>E</td>\n",
       "    </tr>\n",
       "    <tr>\n",
       "      <th>4</th>\n",
       "      <td>Pokemon Red/Pokemon Blue</td>\n",
       "      <td>GB</td>\n",
       "      <td>1996.0</td>\n",
       "      <td>Role-Playing</td>\n",
       "      <td>11.27</td>\n",
       "      <td>8.89</td>\n",
       "      <td>10.22</td>\n",
       "      <td>1.00</td>\n",
       "      <td>NaN</td>\n",
       "      <td>NaN</td>\n",
       "      <td>NaN</td>\n",
       "    </tr>\n",
       "  </tbody>\n",
       "</table>\n",
       "</div>"
      ],
      "text/plain": [
       "                       name platform  year_of_release         genre  na_sales  \\\n",
       "0                Wii Sports      Wii           2006.0        Sports     41.36   \n",
       "1         Super Mario Bros.      NES           1985.0      Platform     29.08   \n",
       "2            Mario Kart Wii      Wii           2008.0        Racing     15.68   \n",
       "3         Wii Sports Resort      Wii           2009.0        Sports     15.61   \n",
       "4  Pokemon Red/Pokemon Blue       GB           1996.0  Role-Playing     11.27   \n",
       "\n",
       "   eu_sales  jp_sales  other_sales  critic_score user_score rating  \n",
       "0     28.96      3.77         8.45          76.0          8      E  \n",
       "1      3.58      6.81         0.77           NaN        NaN    NaN  \n",
       "2     12.76      3.79         3.29          82.0        8.3      E  \n",
       "3     10.93      3.28         2.95          80.0          8      E  \n",
       "4      8.89     10.22         1.00           NaN        NaN    NaN  "
      ]
     },
     "execution_count": 9,
     "metadata": {},
     "output_type": "execute_result"
    }
   ],
   "source": [
    "data.head(5)"
   ]
  },
  {
   "cell_type": "markdown",
   "metadata": {},
   "source": [
    "Преобразуем данные в нужные типы. Опишем, в каких столбцах заменили тип данных и почему"
   ]
  },
  {
   "cell_type": "code",
   "execution_count": 10,
   "metadata": {},
   "outputs": [
    {
     "name": "stdout",
     "output_type": "stream",
     "text": [
      "['Wii Sports' 'Super Mario Bros.' 'Mario Kart Wii' ...\n",
      " 'Woody Woodpecker in Crazy Castle 5' 'LMA Manager 2007'\n",
      " 'Haitaka no Psychedelica']\n",
      " \n",
      "['Wii' 'NES' 'GB' 'DS' 'X360' 'PS3' 'PS2' 'SNES' 'GBA' 'PS4' '3DS' 'N64'\n",
      " 'PS' 'XB' 'PC' '2600' 'PSP' 'XOne' 'WiiU' 'GC' 'GEN' 'DC' 'PSV' 'SAT'\n",
      " 'SCD' 'WS' 'NG' 'TG16' '3DO' 'GG' 'PCFX']\n",
      " \n",
      "[2006. 1985. 2008. 2009. 1996. 1989. 1984. 2005. 1999. 2007. 2010. 2013.\n",
      " 2004. 1990. 1988. 2002. 2001. 2011. 1998. 2015. 2012. 2014. 1992. 1997.\n",
      " 1993. 1994. 1982. 2016. 2003. 1986. 2000.   nan 1995. 1991. 1981. 1987.\n",
      " 1980. 1983.]\n",
      " \n",
      "['Sports' 'Platform' 'Racing' 'Role-Playing' 'Puzzle' 'Misc' 'Shooter'\n",
      " 'Simulation' 'Action' 'Fighting' 'Adventure' 'Strategy' nan]\n",
      " \n",
      "[4.136e+01 2.908e+01 1.568e+01 1.561e+01 1.127e+01 2.320e+01 1.128e+01\n",
      " 1.396e+01 1.444e+01 2.693e+01 9.050e+00 9.710e+00 9.000e+00 8.920e+00\n",
      " 1.500e+01 9.010e+00 7.020e+00 9.430e+00 1.278e+01 4.740e+00 6.380e+00\n",
      " 1.083e+01 9.540e+00 9.660e+00 8.410e+00 6.060e+00 3.430e+00 5.510e+00\n",
      " 6.850e+00 9.040e+00 5.890e+00 6.030e+00 9.700e+00 5.280e+00 4.990e+00\n",
      " 8.250e+00 8.520e+00 5.540e+00 6.990e+00 6.620e+00 5.030e+00 5.990e+00\n",
      " 3.960e+00 2.500e+00 7.970e+00 6.910e+00 4.340e+00 4.350e+00 3.010e+00\n",
      " 6.160e+00 6.760e+00 4.020e+00 4.890e+00 2.960e+00 4.760e+00 5.010e+00\n",
      " 6.730e+00 5.950e+00 3.660e+00 5.550e+00 7.040e+00 6.650e+00 3.880e+00\n",
      " 5.800e+00 4.100e+00 5.930e+00 4.360e+00 5.700e+00 2.030e+00 4.400e+00\n",
      " 5.050e+00 3.540e+00 1.120e+00 6.820e+00 1.750e+00 3.740e+00 1.060e+00\n",
      " 2.790e+00 2.910e+00 9.900e-01 2.570e+00 2.990e+00 2.280e+00 7.280e+00\n",
      " 2.760e+00 2.900e+00 2.810e+00 6.600e-01 3.780e+00 3.270e+00 3.560e+00\n",
      " 5.390e+00 4.590e+00 4.810e+00 4.460e+00 3.480e+00 2.850e+00 2.530e+00\n",
      " 2.980e+00 3.680e+00 3.150e+00 4.410e+00 4.120e+00 2.710e+00 2.930e+00\n",
      " 3.230e+00 4.050e+00 4.150e+00 2.770e+00 3.450e+00 3.110e+00 8.400e-01\n",
      " 1.660e+00 7.800e-01 2.640e+00 3.170e+00 4.980e+00 2.550e+00 3.640e+00\n",
      " 3.700e+00 4.010e+00 2.470e+00 8.000e-02 3.920e+00 8.000e-01 2.450e+00\n",
      " 4.470e+00 3.180e+00 2.630e+00 1.880e+00 2.410e+00 2.800e+00 6.300e-01\n",
      " 2.260e+00 2.490e+00 3.570e+00 3.070e+00 2.970e+00 2.950e+00 2.540e+00\n",
      " 3.280e+00 3.140e+00 4.700e-01 2.620e+00 3.210e+00 2.070e+00 2.730e+00\n",
      " 1.850e+00 2.180e+00 1.740e+00 3.020e+00 1.620e+00 3.130e+00 1.920e+00\n",
      " 3.330e+00 3.220e+00 2.300e+00 4.260e+00 9.700e-01 6.500e-01 1.210e+00\n",
      " 1.090e+00 2.100e+00 2.440e+00 1.980e+00 3.810e+00 3.590e+00 1.630e+00\n",
      " 1.960e+00 3.400e+00 6.100e-01 2.050e+00 1.700e+00 3.420e+00 3.360e+00\n",
      " 3.490e+00 3.050e+00 1.830e+00 2.310e+00 3.980e+00 0.000e+00 2.600e+00\n",
      " 1.910e+00 2.740e+00 2.830e+00 2.360e+00 1.730e+00 1.940e+00 2.290e+00\n",
      " 1.820e+00 2.420e+00 3.040e+00 1.800e+00 2.080e+00 1.870e+00 4.180e+00\n",
      " 3.190e+00 4.210e+00 3.630e+00 2.780e+00 2.000e-01 1.610e+00 1.540e+00\n",
      " 2.520e+00 2.660e+00 1.000e-01 2.820e+00 2.190e+00 1.560e+00 3.030e+00\n",
      " 2.200e+00 2.090e+00 2.110e+00 1.480e+00 4.000e+00 5.800e-01 2.510e+00\n",
      " 3.000e+00 2.240e+00 1.460e+00 1.410e+00 9.200e-01 8.800e-01 1.280e+00\n",
      " 2.250e+00 3.380e+00 2.040e+00 3.790e+00 4.030e+00 1.650e+00 7.100e-01\n",
      " 1.420e+00 1.100e+00 2.320e+00 1.200e-01 2.350e+00 2.120e+00 1.400e+00\n",
      " 1.680e+00 1.130e+00 1.220e+00 2.670e+00 1.020e+00 1.190e+00 1.530e+00\n",
      " 2.150e+00 9.000e-01 1.970e+00 6.800e-01 1.160e+00 9.300e-01 1.440e+00\n",
      " 1.600e-01 2.130e+00 2.210e+00 1.780e+00 8.600e-01 1.350e+00 1.050e+00\n",
      " 2.230e+00 2.400e+00 1.370e+00 1.300e+00 1.950e+00 1.930e+00 1.330e+00\n",
      " 1.490e+00 1.580e+00 5.000e-02 6.000e-01 2.020e+00 2.380e+00 1.600e+00\n",
      " 2.010e+00 1.570e+00 1.230e+00 1.900e+00 2.140e+00 1.170e+00 2.270e+00\n",
      " 1.640e+00 5.900e-01 1.550e+00 4.600e-01 8.100e-01 1.450e+00 2.700e-01\n",
      " 1.470e+00 1.990e+00 1.500e+00 9.000e-02 2.610e+00 1.890e+00 5.000e-01\n",
      " 8.900e-01 9.500e-01 2.340e+00 7.200e-01 1.720e+00 1.180e+00 1.760e+00\n",
      " 7.300e-01 1.270e+00 2.060e+00 5.500e-01 1.520e+00 1.690e+00 2.170e+00\n",
      " 5.100e-01 1.000e+00 1.290e+00 1.380e+00 1.150e+00 1.670e+00 1.360e+00\n",
      " 1.010e+00 1.040e+00 1.840e+00 2.220e+00 7.900e-01 1.510e+00 1.070e+00\n",
      " 1.320e+00 1.590e+00 2.000e-02 2.900e-01 1.250e+00 2.560e+00 1.430e+00\n",
      " 1.200e+00 4.100e-01 2.800e-01 4.300e-01 6.900e-01 2.000e+00 7.600e-01\n",
      " 1.860e+00 4.800e-01 6.200e-01 1.310e+00 3.700e-01 1.500e-01 6.400e-01\n",
      " 2.600e-01 4.900e-01 1.110e+00 1.300e-01 1.810e+00 1.030e+00 1.260e+00\n",
      " 8.700e-01 7.700e-01 9.600e-01 1.390e+00 1.080e+00 8.500e-01 9.100e-01\n",
      " 3.000e-01 3.800e-01 9.400e-01 7.000e-02 1.340e+00 1.240e+00 3.400e-01\n",
      " 1.400e-01 1.000e-02 5.200e-01 8.200e-01 8.300e-01 1.100e-01 2.500e-01\n",
      " 1.770e+00 3.600e-01 7.500e-01 7.400e-01 1.800e-01 2.200e-01 5.300e-01\n",
      " 4.200e-01 3.200e-01 3.900e-01 2.400e-01 2.300e-01 6.000e-02 4.500e-01\n",
      " 7.000e-01 6.700e-01 3.500e-01 5.600e-01 1.140e+00 9.800e-01 5.700e-01\n",
      " 5.400e-01 4.000e-02 1.700e-01 4.400e-01 3.000e-02 3.300e-01 3.100e-01\n",
      " 4.000e-01 2.100e-01 1.900e-01]\n",
      " \n",
      "[2.896e+01 3.580e+00 1.276e+01 1.093e+01 8.890e+00 2.260e+00 9.140e+00\n",
      " 9.180e+00 6.940e+00 6.300e-01 1.095e+01 7.470e+00 6.180e+00 8.030e+00\n",
      " 4.890e+00 8.490e+00 9.090e+00 4.000e-01 3.750e+00 9.200e+00 4.460e+00\n",
      " 2.710e+00 3.440e+00 5.140e+00 5.490e+00 3.900e+00 5.350e+00 3.170e+00\n",
      " 5.090e+00 4.240e+00 5.040e+00 5.860e+00 3.680e+00 4.190e+00 5.730e+00\n",
      " 3.590e+00 4.510e+00 2.550e+00 4.020e+00 4.370e+00 6.310e+00 3.450e+00\n",
      " 2.810e+00 2.850e+00 3.490e+00 1.000e-02 3.350e+00 2.040e+00 3.070e+00\n",
      " 3.870e+00 3.000e+00 4.820e+00 3.640e+00 2.150e+00 3.690e+00 2.650e+00\n",
      " 2.560e+00 3.110e+00 3.140e+00 1.940e+00 1.950e+00 2.470e+00 2.280e+00\n",
      " 3.420e+00 3.630e+00 2.360e+00 1.710e+00 1.850e+00 2.790e+00 1.240e+00\n",
      " 6.120e+00 1.530e+00 3.470e+00 2.240e+00 5.010e+00 2.010e+00 1.720e+00\n",
      " 2.070e+00 6.420e+00 3.860e+00 4.500e-01 3.480e+00 1.890e+00 5.750e+00\n",
      " 2.170e+00 1.370e+00 2.350e+00 1.180e+00 2.110e+00 1.880e+00 2.830e+00\n",
      " 2.990e+00 2.890e+00 3.270e+00 2.220e+00 2.140e+00 1.450e+00 1.750e+00\n",
      " 1.040e+00 1.770e+00 3.020e+00 2.750e+00 2.160e+00 1.900e+00 2.590e+00\n",
      " 2.200e+00 4.300e+00 9.300e-01 2.530e+00 2.520e+00 1.790e+00 1.300e+00\n",
      " 2.600e+00 1.580e+00 1.200e+00 1.560e+00 1.340e+00 1.260e+00 8.300e-01\n",
      " 6.210e+00 2.800e+00 1.590e+00 1.730e+00 4.330e+00 1.830e+00 0.000e+00\n",
      " 2.180e+00 1.980e+00 1.470e+00 6.700e-01 1.550e+00 1.910e+00 6.900e-01\n",
      " 6.000e-01 1.930e+00 1.640e+00 5.500e-01 2.190e+00 1.110e+00 2.290e+00\n",
      " 2.500e+00 9.600e-01 1.210e+00 1.120e+00 7.700e-01 1.690e+00 1.080e+00\n",
      " 7.900e-01 2.370e+00 2.460e+00 2.600e-01 7.500e-01 1.250e+00 2.430e+00\n",
      " 9.800e-01 7.400e-01 2.230e+00 6.100e-01 2.450e+00 1.410e+00 1.800e+00\n",
      " 3.280e+00 1.160e+00 1.990e+00 1.380e+00 1.360e+00 1.170e+00 1.190e+00\n",
      " 9.900e-01 1.680e+00 2.000e+00 1.330e+00 1.570e+00 1.480e+00 2.100e+00\n",
      " 1.270e+00 1.970e+00 9.100e-01 1.390e+00 1.960e+00 2.400e-01 1.510e+00\n",
      " 1.400e-01 1.290e+00 2.390e+00 1.030e+00 5.000e-01 5.800e-01 1.310e+00\n",
      " 2.020e+00 1.320e+00 1.010e+00 2.270e+00 2.300e+00 1.820e+00 2.780e+00\n",
      " 4.400e-01 4.800e-01 2.700e-01 2.100e-01 2.480e+00 5.100e-01 1.520e+00\n",
      " 4.000e-02 2.800e-01 1.350e+00 8.700e-01 2.130e+00 1.130e+00 1.760e+00\n",
      " 7.600e-01 2.120e+00 6.600e-01 1.600e+00 1.440e+00 1.430e+00 1.700e+00\n",
      " 4.700e-01 1.870e+00 8.600e-01 7.300e-01 1.280e+00 8.100e-01 1.090e+00\n",
      " 6.800e-01 1.220e+00 1.400e+00 1.020e+00 1.490e+00 1.140e+00 4.900e-01\n",
      " 9.000e-01 3.800e-01 1.420e+00 9.500e-01 1.620e+00 7.100e-01 1.050e+00\n",
      " 9.200e-01 3.300e-01 3.000e-01 1.670e+00 1.000e+00 8.900e-01 1.000e-01\n",
      " 7.200e-01 5.900e-01 5.600e-01 1.600e-01 9.700e-01 6.200e-01 8.500e-01\n",
      " 9.400e-01 8.800e-01 8.400e-01 1.060e+00 2.000e-01 1.150e+00 8.000e-01\n",
      " 1.100e+00 7.000e-01 1.920e+00 3.200e-01 1.500e-01 5.300e-01 9.000e-02\n",
      " 1.460e+00 2.900e-01 2.200e-01 1.230e+00 7.000e-02 1.700e-01 5.400e-01\n",
      " 3.600e-01 3.100e-01 1.840e+00 5.200e-01 1.100e-01 6.400e-01 1.200e-01\n",
      " 2.050e+00 1.630e+00 8.200e-01 8.000e-02 5.700e-01 1.650e+00 1.900e-01\n",
      " 2.000e-02 4.300e-01 2.500e-01 1.500e+00 1.800e-01 3.900e-01 1.300e-01\n",
      " 1.070e+00 4.600e-01 4.100e-01 6.000e-02 3.000e-02 3.700e-01 5.000e-02\n",
      " 2.300e-01 6.500e-01 4.200e-01 3.400e-01 3.500e-01 7.800e-01]\n",
      " \n",
      "[3.770e+00 6.810e+00 3.790e+00 3.280e+00 1.022e+01 4.220e+00 6.500e+00\n",
      " 2.930e+00 4.700e+00 2.800e-01 1.930e+00 4.130e+00 7.200e+00 3.600e+00\n",
      " 2.400e-01 2.530e+00 9.800e-01 4.100e-01 3.540e+00 4.160e+00 6.040e+00\n",
      " 4.180e+00 3.840e+00 6.000e-02 4.700e-01 5.380e+00 5.320e+00 5.650e+00\n",
      " 1.870e+00 1.300e-01 3.120e+00 3.600e-01 1.100e-01 4.350e+00 6.500e-01\n",
      " 7.000e-02 8.000e-02 4.900e-01 3.000e-01 2.660e+00 2.690e+00 4.800e-01\n",
      " 3.800e-01 5.330e+00 1.910e+00 3.960e+00 3.100e+00 1.100e+00 1.200e+00\n",
      " 1.400e-01 2.540e+00 2.140e+00 8.100e-01 2.120e+00 4.400e-01 3.150e+00\n",
      " 1.250e+00 4.000e-02 0.000e+00 2.470e+00 2.230e+00 1.690e+00 1.000e-02\n",
      " 3.000e+00 2.000e-02 4.390e+00 1.980e+00 1.000e-01 3.810e+00 5.000e-02\n",
      " 2.490e+00 1.580e+00 3.140e+00 2.730e+00 6.600e-01 2.200e-01 3.630e+00\n",
      " 1.450e+00 1.310e+00 2.430e+00 7.000e-01 3.500e-01 1.400e+00 6.000e-01\n",
      " 2.260e+00 1.420e+00 1.280e+00 1.390e+00 8.700e-01 1.700e-01 9.400e-01\n",
      " 1.900e-01 2.100e-01 1.600e+00 1.600e-01 1.030e+00 2.500e-01 2.060e+00\n",
      " 1.490e+00 1.290e+00 9.000e-02 2.870e+00 3.000e-02 7.800e-01 8.300e-01\n",
      " 2.330e+00 2.020e+00 1.360e+00 1.810e+00 1.970e+00 9.100e-01 9.900e-01\n",
      " 9.500e-01 2.000e+00 1.010e+00 2.780e+00 2.110e+00 1.090e+00 2.000e-01\n",
      " 1.900e+00 1.270e+00 3.610e+00 1.570e+00 2.200e+00 1.700e+00 1.080e+00\n",
      " 1.500e-01 1.110e+00 2.900e-01 1.540e+00 1.200e-01 8.900e-01 4.870e+00\n",
      " 1.520e+00 1.320e+00 1.150e+00 4.100e+00 1.460e+00 4.600e-01 1.050e+00\n",
      " 1.610e+00 2.600e-01 1.380e+00 6.200e-01 7.300e-01 5.700e-01 3.100e-01\n",
      " 5.800e-01 1.760e+00 2.100e+00 9.000e-01 5.100e-01 6.400e-01 2.460e+00\n",
      " 2.300e-01 3.700e-01 9.200e-01 1.070e+00 2.620e+00 1.120e+00 5.400e-01\n",
      " 2.700e-01 5.900e-01 3.670e+00 5.500e-01 1.750e+00 3.440e+00 3.300e-01\n",
      " 2.550e+00 2.320e+00 2.790e+00 7.400e-01 3.180e+00 8.200e-01 7.700e-01\n",
      " 4.000e-01 2.350e+00 3.190e+00 8.000e-01 7.600e-01 3.030e+00 8.800e-01\n",
      " 4.500e-01 1.160e+00 3.400e-01 1.190e+00 1.130e+00 2.130e+00 1.960e+00\n",
      " 7.100e-01 1.040e+00 2.680e+00 6.800e-01 2.650e+00 9.600e-01 2.410e+00\n",
      " 5.200e-01 1.800e-01 1.340e+00 1.480e+00 2.340e+00 1.060e+00 1.210e+00\n",
      " 2.290e+00 1.630e+00 2.050e+00 2.170e+00 1.560e+00 1.350e+00 1.330e+00\n",
      " 6.300e-01 7.900e-01 7.500e-01 5.300e-01 1.530e+00 1.300e+00 3.900e-01\n",
      " 6.900e-01 4.200e-01 9.300e-01 5.600e-01 8.400e-01 7.200e-01 3.200e-01\n",
      " 1.710e+00 1.650e+00 6.100e-01 1.510e+00 1.500e+00 1.440e+00 1.240e+00\n",
      " 1.180e+00 1.370e+00 1.000e+00 1.260e+00 8.500e-01 4.300e-01 6.700e-01\n",
      " 1.140e+00 8.600e-01 1.170e+00 5.000e-01 1.020e+00 9.700e-01]\n",
      " \n",
      "[8.450e+00 7.700e-01 3.290e+00 2.950e+00 1.000e+00 5.800e-01 2.880e+00\n",
      " 2.840e+00 2.240e+00 4.700e-01 2.740e+00 1.900e+00 7.100e-01 2.150e+00\n",
      " 1.690e+00 1.770e+00 3.960e+00 1.057e+01 5.500e-01 2.040e+00 1.360e+00\n",
      " 4.200e-01 4.600e-01 1.410e+00 1.780e+00 5.000e-01 1.180e+00 8.000e-01\n",
      " 1.160e+00 1.320e+00 5.900e-01 2.380e+00 1.130e+00 7.800e-01 2.420e+00\n",
      " 1.120e+00 1.280e+00 1.570e+00 1.300e+00 1.010e+00 9.100e-01 1.790e+00\n",
      " 1.970e+00 8.600e-01 1.210e+00 2.300e-01 7.600e-01 7.400e-01 7.530e+00\n",
      " 2.900e-01 1.030e+00 5.200e-01 2.110e+00 1.600e+00 1.610e+00 3.500e-01\n",
      " 9.700e-01 1.060e+00 6.300e-01 1.500e-01 7.900e-01 9.600e-01 1.250e+00\n",
      " 9.000e-01 8.100e-01 3.900e-01 6.800e-01 8.500e-01 1.800e-01 8.000e-02\n",
      " 6.700e-01 7.000e-01 4.100e-01 3.300e-01 6.000e-01 5.400e-01 1.730e+00\n",
      " 1.230e+00 1.600e-01 1.110e+00 3.100e-01 4.800e-01 6.200e-01 1.900e-01\n",
      " 6.900e-01 1.020e+00 7.300e-01 1.080e+00 4.500e-01 2.800e-01 5.100e-01\n",
      " 2.200e-01 1.090e+00 9.900e-01 3.000e-01 6.400e-01 6.600e-01 9.800e-01\n",
      " 1.390e+00 1.400e-01 1.370e+00 7.000e-02 2.100e-01 6.100e-01 1.700e-01\n",
      " 1.200e-01 0.000e+00 7.200e-01 2.400e-01 8.200e-01 1.740e+00 8.700e-01\n",
      " 9.200e-01 5.700e-01 1.100e-01 4.000e-02 5.600e-01 2.000e-01 3.400e-01\n",
      " 9.000e-02 8.300e-01 4.400e-01 6.000e-02 3.200e-01 3.800e-01 1.480e+00\n",
      " 3.700e-01 1.000e-01 2.500e-01 3.600e-01 1.300e-01 4.300e-01 5.000e-02\n",
      " 2.000e-02 2.600e-01 4.000e-01 7.500e-01 1.930e+00 8.400e-01 5.300e-01\n",
      " 8.900e-01 1.670e+00 2.700e-01 2.930e+00 4.900e-01 1.000e-02 2.460e+00\n",
      " 3.000e-02 1.510e+00 2.050e+00 1.680e+00 1.820e+00 1.330e+00 9.400e-01\n",
      " 9.300e-01]\n",
      " \n",
      "[76. nan 82. 80. 89. 58. 87. 91. 61. 97. 95. 77. 88. 83. 94. 93. 85. 86.\n",
      " 98. 96. 90. 84. 73. 74. 78. 92. 71. 72. 68. 62. 49. 67. 81. 66. 56. 79.\n",
      " 70. 59. 64. 75. 60. 63. 69. 50. 25. 42. 44. 55. 48. 57. 29. 47. 65. 54.\n",
      " 20. 53. 37. 38. 33. 52. 30. 32. 43. 45. 51. 40. 46. 39. 34. 35. 41. 36.\n",
      " 28. 31. 27. 26. 19. 23. 24. 21. 17. 22. 13.]\n",
      " \n",
      "['8' nan '8.3' '8.5' '6.6' '8.4' '8.6' '7.7' '6.3' '7.4' '8.2' '9' '7.9'\n",
      " '8.1' '8.7' '7.1' '3.4' '5.3' '4.8' '3.2' '8.9' '6.4' '7.8' '7.5' '2.6'\n",
      " '7.2' '9.2' '7' '7.3' '4.3' '7.6' '5.7' '5' '9.1' '6.5' 'tbd' '8.8' '6.9'\n",
      " '9.4' '6.8' '6.1' '6.7' '5.4' '4' '4.9' '4.5' '9.3' '6.2' '4.2' '6' '3.7'\n",
      " '4.1' '5.8' '5.6' '5.5' '4.4' '4.6' '5.9' '3.9' '3.1' '2.9' '5.2' '3.3'\n",
      " '4.7' '5.1' '3.5' '2.5' '1.9' '3' '2.7' '2.2' '2' '9.5' '2.1' '3.6' '2.8'\n",
      " '1.8' '3.8' '0' '1.6' '9.6' '2.4' '1.7' '1.1' '0.3' '1.5' '0.7' '1.2'\n",
      " '2.3' '0.5' '1.3' '0.2' '0.6' '1.4' '0.9' '1' '9.7']\n",
      " \n",
      "['E' nan 'M' 'T' 'E10+' 'K-A' 'AO' 'EC' 'RP']\n"
     ]
    }
   ],
   "source": [
    "#Посмотрим какие уникальные значения присутствуют в датасете:\n",
    "print(data[\"name\"].unique())\n",
    "print(\" \")\n",
    "print(data[\"platform\"].unique())\n",
    "print(\" \")\n",
    "print(data[\"year_of_release\"].unique())\n",
    "print(\" \")\n",
    "print(data[\"genre\"].unique())\n",
    "print(\" \")\n",
    "print(data[\"na_sales\"].unique())\n",
    "print(\" \")\n",
    "print(data[\"eu_sales\"].unique())\n",
    "print(\" \")\n",
    "print(data[\"jp_sales\"].unique())\n",
    "print(\" \")\n",
    "print(data[\"other_sales\"].unique())\n",
    "print(\" \")\n",
    "print(data[\"critic_score\"].unique())\n",
    "print(\" \")\n",
    "print(data[\"user_score\"].unique())\n",
    "print(\" \")\n",
    "print(data[\"rating\"].unique())"
   ]
  },
  {
   "cell_type": "markdown",
   "metadata": {},
   "source": [
    "Неявные дупликаты в названиях я не нашла, так что заменять никакие значения не будем.\n",
    "\n",
    "\n",
    "Аномальных значений тоже нет\n"
   ]
  },
  {
   "cell_type": "code",
   "execution_count": 11,
   "metadata": {},
   "outputs": [
    {
     "name": "stdout",
     "output_type": "stream",
     "text": [
      "<class 'pandas.core.frame.DataFrame'>\n",
      "RangeIndex: 16715 entries, 0 to 16714\n",
      "Data columns (total 11 columns):\n",
      " #   Column           Non-Null Count  Dtype  \n",
      "---  ------           --------------  -----  \n",
      " 0   name             16713 non-null  object \n",
      " 1   platform         16715 non-null  object \n",
      " 2   year_of_release  16446 non-null  float64\n",
      " 3   genre            16713 non-null  object \n",
      " 4   na_sales         16715 non-null  float64\n",
      " 5   eu_sales         16715 non-null  float64\n",
      " 6   jp_sales         16715 non-null  float64\n",
      " 7   other_sales      16715 non-null  float64\n",
      " 8   critic_score     8137 non-null   float64\n",
      " 9   user_score       10014 non-null  object \n",
      " 10  rating           9949 non-null   object \n",
      "dtypes: float64(6), object(5)\n",
      "memory usage: 1.4+ MB\n"
     ]
    }
   ],
   "source": [
    "data.info()"
   ]
  },
  {
   "cell_type": "markdown",
   "metadata": {},
   "source": [
    "Поменяем year_of_release с float на int, и в user_score с object на float"
   ]
  },
  {
   "cell_type": "code",
   "execution_count": 12,
   "metadata": {},
   "outputs": [],
   "source": [
    "data[\"year_of_release\"] = data[\"year_of_release\"].astype(\"Int64\")\n",
    "#data[\"user_score\"] = data[\"user_score\"].astype(\"float\")\n",
    "#Не могу пока поменять на float столбец \"user_score\" потому что там присутствует значение tbd, надо его изменить"
   ]
  },
  {
   "cell_type": "markdown",
   "metadata": {},
   "source": [
    "Посмотрела что значит tbd\n",
    "\n",
    "\"Как и в случае с предыдущими примерами, эта аббревиатура не скрывает в себе никаких таинственных смыслов и расшифровывается очень просто - To Be Determined, то есть \"Будет определено\". Очень часто подобное сокращение можно встретить в анонсах компьютерных игр в графе \"Дата выхода\". Когда разработчик той или иной игры уже сообщил о том, что она готовится к выходу, но пока еще не может назвать точную дату, именно это сокращение и используется\"\n",
    "\n",
    "https://fb.ru/article/171345/tbd---chto-znachit-eto-sokraschenie?ysclid=ld475gaio8936321784"
   ]
  },
  {
   "cell_type": "code",
   "execution_count": 13,
   "metadata": {},
   "outputs": [],
   "source": [
    "#Изменим tbd на NaN \n",
    "data['user_score'].replace(\"tbd\", np.NaN, inplace=True)\n",
    "data[\"user_score\"] = data[\"user_score\"].astype(\"float\")"
   ]
  },
  {
   "cell_type": "code",
   "execution_count": 14,
   "metadata": {},
   "outputs": [
    {
     "data": {
      "text/plain": [
       "name                  2\n",
       "platform              0\n",
       "year_of_release     269\n",
       "genre                 2\n",
       "na_sales              0\n",
       "eu_sales              0\n",
       "jp_sales              0\n",
       "other_sales           0\n",
       "critic_score       8578\n",
       "user_score         9125\n",
       "rating             6766\n",
       "dtype: int64"
      ]
     },
     "execution_count": 14,
     "metadata": {},
     "output_type": "execute_result"
    }
   ],
   "source": [
    "#Посмотрим на пропуски\n",
    "data.isna().sum()"
   ]
  },
  {
   "cell_type": "markdown",
   "metadata": {},
   "source": [
    "Удалим значения где нет name, потому что при анализе видеоигр мы должны знать название игры, а если его нет, то проанализировать полноценно мы не сможем.\n",
    "\n",
    "Количество игр без названия маленькое, так что мы можем позволить себе их удалить.\n",
    "\n",
    "Причиной таких пропусков стало, скорее всего, невнимательно заполнение датасета или нехотение заполнять данные по этим видеоиграм"
   ]
  },
  {
   "cell_type": "code",
   "execution_count": 15,
   "metadata": {},
   "outputs": [],
   "source": [
    "data = data.dropna(subset=['name'])"
   ]
  },
  {
   "cell_type": "code",
   "execution_count": 16,
   "metadata": {},
   "outputs": [
    {
     "data": {
      "text/plain": [
       "0"
      ]
     },
     "execution_count": 16,
     "metadata": {},
     "output_type": "execute_result"
    }
   ],
   "source": [
    "#Посмтрим на дупликаты, если они есть, то удалим их\n",
    "data.duplicated().sum()"
   ]
  },
  {
   "cell_type": "code",
   "execution_count": 17,
   "metadata": {},
   "outputs": [],
   "source": [
    "#Обработаем остальные пропуски \n",
    "#Объясните, почему заполнили пропуски определённым образом или почему не стали это делать;\n",
    "#Опишите причины, которые могли привести к пропускам; "
   ]
  },
  {
   "cell_type": "markdown",
   "metadata": {},
   "source": [
    "В year_of_release мы пропуски не сможем обработать, потому что мы не можем заменить ничем значения выпуска года игры, скорее всего там забыли указать дату выхода игры при заполнении датафрейма или просто не знают точную дату выхода, поэтому удалим пропуски\n",
    "В rating тоже не сможем обработать пропуски, но я думаю, что лучше оставить пропуски, так как тут слишком много значений \n",
    "В critic_score пропуски заменим на -1(чтобы нам самим понимать, что там был пропуск), пропуски могли возникнуть из-за того, что забыли заполнить эти данные или не проводили опрс среди критиков до данным видеоиграм\n",
    "В user_score пропуски заменим на -1(чтобы знать, что там есть пропуски), пропуски могли возникнуть из-за того, что забыли заполнить эти данные или не проводили опрс среди пользователей до данным видеоиграм"
   ]
  },
  {
   "cell_type": "code",
   "execution_count": 18,
   "metadata": {},
   "outputs": [
    {
     "data": {
      "text/plain": [
       "(16713, 11)"
      ]
     },
     "execution_count": 18,
     "metadata": {},
     "output_type": "execute_result"
    }
   ],
   "source": [
    "#Сначала посмотрим сколько у нас осталось данных\n",
    "data.shape"
   ]
  },
  {
   "cell_type": "code",
   "execution_count": 19,
   "metadata": {},
   "outputs": [],
   "source": [
    "#Можем удалить игры без даты выхода\n",
    "data = data.dropna(subset=['year_of_release'])"
   ]
  },
  {
   "cell_type": "code",
   "execution_count": 20,
   "metadata": {},
   "outputs": [],
   "source": [
    "data[\"critic_score\"] = data[\"critic_score\"].fillna(-1)\n",
    "data[\"user_score\"] = data[\"user_score\"].fillna(-1)"
   ]
  },
  {
   "cell_type": "code",
   "execution_count": 21,
   "metadata": {},
   "outputs": [
    {
     "data": {
      "text/plain": [
       "name                  0\n",
       "platform              0\n",
       "year_of_release       0\n",
       "genre                 0\n",
       "na_sales              0\n",
       "eu_sales              0\n",
       "jp_sales              0\n",
       "other_sales           0\n",
       "critic_score          0\n",
       "user_score            0\n",
       "rating             6676\n",
       "dtype: int64"
      ]
     },
     "execution_count": 21,
     "metadata": {},
     "output_type": "execute_result"
    }
   ],
   "source": [
    "data.isna().sum()"
   ]
  },
  {
   "cell_type": "code",
   "execution_count": 22,
   "metadata": {},
   "outputs": [],
   "source": [
    "data[\"rating\"] = data[\"rating\"].fillna(\"неизвестно\")"
   ]
  },
  {
   "cell_type": "code",
   "execution_count": 23,
   "metadata": {},
   "outputs": [
    {
     "data": {
      "text/html": [
       "<div>\n",
       "<style scoped>\n",
       "    .dataframe tbody tr th:only-of-type {\n",
       "        vertical-align: middle;\n",
       "    }\n",
       "\n",
       "    .dataframe tbody tr th {\n",
       "        vertical-align: top;\n",
       "    }\n",
       "\n",
       "    .dataframe thead th {\n",
       "        text-align: right;\n",
       "    }\n",
       "</style>\n",
       "<table border=\"1\" class=\"dataframe\">\n",
       "  <thead>\n",
       "    <tr style=\"text-align: right;\">\n",
       "      <th></th>\n",
       "      <th>name</th>\n",
       "      <th>platform</th>\n",
       "      <th>year_of_release</th>\n",
       "      <th>genre</th>\n",
       "      <th>na_sales</th>\n",
       "      <th>eu_sales</th>\n",
       "      <th>jp_sales</th>\n",
       "      <th>other_sales</th>\n",
       "      <th>critic_score</th>\n",
       "      <th>user_score</th>\n",
       "      <th>rating</th>\n",
       "      <th>sales_sum</th>\n",
       "    </tr>\n",
       "  </thead>\n",
       "  <tbody>\n",
       "    <tr>\n",
       "      <th>0</th>\n",
       "      <td>Wii Sports</td>\n",
       "      <td>Wii</td>\n",
       "      <td>2006</td>\n",
       "      <td>Sports</td>\n",
       "      <td>41.36</td>\n",
       "      <td>28.96</td>\n",
       "      <td>3.77</td>\n",
       "      <td>8.45</td>\n",
       "      <td>76.0</td>\n",
       "      <td>8.0</td>\n",
       "      <td>E</td>\n",
       "      <td>82.54</td>\n",
       "    </tr>\n",
       "    <tr>\n",
       "      <th>1</th>\n",
       "      <td>Super Mario Bros.</td>\n",
       "      <td>NES</td>\n",
       "      <td>1985</td>\n",
       "      <td>Platform</td>\n",
       "      <td>29.08</td>\n",
       "      <td>3.58</td>\n",
       "      <td>6.81</td>\n",
       "      <td>0.77</td>\n",
       "      <td>-1.0</td>\n",
       "      <td>-1.0</td>\n",
       "      <td>неизвестно</td>\n",
       "      <td>40.24</td>\n",
       "    </tr>\n",
       "    <tr>\n",
       "      <th>2</th>\n",
       "      <td>Mario Kart Wii</td>\n",
       "      <td>Wii</td>\n",
       "      <td>2008</td>\n",
       "      <td>Racing</td>\n",
       "      <td>15.68</td>\n",
       "      <td>12.76</td>\n",
       "      <td>3.79</td>\n",
       "      <td>3.29</td>\n",
       "      <td>82.0</td>\n",
       "      <td>8.3</td>\n",
       "      <td>E</td>\n",
       "      <td>35.52</td>\n",
       "    </tr>\n",
       "    <tr>\n",
       "      <th>3</th>\n",
       "      <td>Wii Sports Resort</td>\n",
       "      <td>Wii</td>\n",
       "      <td>2009</td>\n",
       "      <td>Sports</td>\n",
       "      <td>15.61</td>\n",
       "      <td>10.93</td>\n",
       "      <td>3.28</td>\n",
       "      <td>2.95</td>\n",
       "      <td>80.0</td>\n",
       "      <td>8.0</td>\n",
       "      <td>E</td>\n",
       "      <td>32.77</td>\n",
       "    </tr>\n",
       "    <tr>\n",
       "      <th>4</th>\n",
       "      <td>Pokemon Red/Pokemon Blue</td>\n",
       "      <td>GB</td>\n",
       "      <td>1996</td>\n",
       "      <td>Role-Playing</td>\n",
       "      <td>11.27</td>\n",
       "      <td>8.89</td>\n",
       "      <td>10.22</td>\n",
       "      <td>1.00</td>\n",
       "      <td>-1.0</td>\n",
       "      <td>-1.0</td>\n",
       "      <td>неизвестно</td>\n",
       "      <td>31.38</td>\n",
       "    </tr>\n",
       "    <tr>\n",
       "      <th>...</th>\n",
       "      <td>...</td>\n",
       "      <td>...</td>\n",
       "      <td>...</td>\n",
       "      <td>...</td>\n",
       "      <td>...</td>\n",
       "      <td>...</td>\n",
       "      <td>...</td>\n",
       "      <td>...</td>\n",
       "      <td>...</td>\n",
       "      <td>...</td>\n",
       "      <td>...</td>\n",
       "      <td>...</td>\n",
       "    </tr>\n",
       "    <tr>\n",
       "      <th>16710</th>\n",
       "      <td>Samurai Warriors: Sanada Maru</td>\n",
       "      <td>PS3</td>\n",
       "      <td>2016</td>\n",
       "      <td>Action</td>\n",
       "      <td>0.00</td>\n",
       "      <td>0.00</td>\n",
       "      <td>0.01</td>\n",
       "      <td>0.00</td>\n",
       "      <td>-1.0</td>\n",
       "      <td>-1.0</td>\n",
       "      <td>неизвестно</td>\n",
       "      <td>0.01</td>\n",
       "    </tr>\n",
       "    <tr>\n",
       "      <th>16711</th>\n",
       "      <td>LMA Manager 2007</td>\n",
       "      <td>X360</td>\n",
       "      <td>2006</td>\n",
       "      <td>Sports</td>\n",
       "      <td>0.00</td>\n",
       "      <td>0.01</td>\n",
       "      <td>0.00</td>\n",
       "      <td>0.00</td>\n",
       "      <td>-1.0</td>\n",
       "      <td>-1.0</td>\n",
       "      <td>неизвестно</td>\n",
       "      <td>0.01</td>\n",
       "    </tr>\n",
       "    <tr>\n",
       "      <th>16712</th>\n",
       "      <td>Haitaka no Psychedelica</td>\n",
       "      <td>PSV</td>\n",
       "      <td>2016</td>\n",
       "      <td>Adventure</td>\n",
       "      <td>0.00</td>\n",
       "      <td>0.00</td>\n",
       "      <td>0.01</td>\n",
       "      <td>0.00</td>\n",
       "      <td>-1.0</td>\n",
       "      <td>-1.0</td>\n",
       "      <td>неизвестно</td>\n",
       "      <td>0.01</td>\n",
       "    </tr>\n",
       "    <tr>\n",
       "      <th>16713</th>\n",
       "      <td>Spirits &amp; Spells</td>\n",
       "      <td>GBA</td>\n",
       "      <td>2003</td>\n",
       "      <td>Platform</td>\n",
       "      <td>0.01</td>\n",
       "      <td>0.00</td>\n",
       "      <td>0.00</td>\n",
       "      <td>0.00</td>\n",
       "      <td>-1.0</td>\n",
       "      <td>-1.0</td>\n",
       "      <td>неизвестно</td>\n",
       "      <td>0.01</td>\n",
       "    </tr>\n",
       "    <tr>\n",
       "      <th>16714</th>\n",
       "      <td>Winning Post 8 2016</td>\n",
       "      <td>PSV</td>\n",
       "      <td>2016</td>\n",
       "      <td>Simulation</td>\n",
       "      <td>0.00</td>\n",
       "      <td>0.00</td>\n",
       "      <td>0.01</td>\n",
       "      <td>0.00</td>\n",
       "      <td>-1.0</td>\n",
       "      <td>-1.0</td>\n",
       "      <td>неизвестно</td>\n",
       "      <td>0.01</td>\n",
       "    </tr>\n",
       "  </tbody>\n",
       "</table>\n",
       "<p>16444 rows × 12 columns</p>\n",
       "</div>"
      ],
      "text/plain": [
       "                                name platform  year_of_release         genre  \\\n",
       "0                         Wii Sports      Wii             2006        Sports   \n",
       "1                  Super Mario Bros.      NES             1985      Platform   \n",
       "2                     Mario Kart Wii      Wii             2008        Racing   \n",
       "3                  Wii Sports Resort      Wii             2009        Sports   \n",
       "4           Pokemon Red/Pokemon Blue       GB             1996  Role-Playing   \n",
       "...                              ...      ...              ...           ...   \n",
       "16710  Samurai Warriors: Sanada Maru      PS3             2016        Action   \n",
       "16711               LMA Manager 2007     X360             2006        Sports   \n",
       "16712        Haitaka no Psychedelica      PSV             2016     Adventure   \n",
       "16713               Spirits & Spells      GBA             2003      Platform   \n",
       "16714            Winning Post 8 2016      PSV             2016    Simulation   \n",
       "\n",
       "       na_sales  eu_sales  jp_sales  other_sales  critic_score  user_score  \\\n",
       "0         41.36     28.96      3.77         8.45          76.0         8.0   \n",
       "1         29.08      3.58      6.81         0.77          -1.0        -1.0   \n",
       "2         15.68     12.76      3.79         3.29          82.0         8.3   \n",
       "3         15.61     10.93      3.28         2.95          80.0         8.0   \n",
       "4         11.27      8.89     10.22         1.00          -1.0        -1.0   \n",
       "...         ...       ...       ...          ...           ...         ...   \n",
       "16710      0.00      0.00      0.01         0.00          -1.0        -1.0   \n",
       "16711      0.00      0.01      0.00         0.00          -1.0        -1.0   \n",
       "16712      0.00      0.00      0.01         0.00          -1.0        -1.0   \n",
       "16713      0.01      0.00      0.00         0.00          -1.0        -1.0   \n",
       "16714      0.00      0.00      0.01         0.00          -1.0        -1.0   \n",
       "\n",
       "           rating  sales_sum  \n",
       "0               E      82.54  \n",
       "1      неизвестно      40.24  \n",
       "2               E      35.52  \n",
       "3               E      32.77  \n",
       "4      неизвестно      31.38  \n",
       "...           ...        ...  \n",
       "16710  неизвестно       0.01  \n",
       "16711  неизвестно       0.01  \n",
       "16712  неизвестно       0.01  \n",
       "16713  неизвестно       0.01  \n",
       "16714  неизвестно       0.01  \n",
       "\n",
       "[16444 rows x 12 columns]"
      ]
     },
     "execution_count": 23,
     "metadata": {},
     "output_type": "execute_result"
    }
   ],
   "source": [
    "#Посчитаем суммарные продажи во всех регионах и запишите их в отдельный столбец\n",
    "data[\"sales_sum\"] = data[[\"na_sales\", \"eu_sales\", \"jp_sales\", \"other_sales\"]].sum(axis = 1)\n",
    "data"
   ]
  },
  {
   "cell_type": "code",
   "execution_count": 24,
   "metadata": {},
   "outputs": [
    {
     "data": {
      "text/plain": [
       "(16444, 12)"
      ]
     },
     "execution_count": 24,
     "metadata": {},
     "output_type": "execute_result"
    }
   ],
   "source": [
    "data.shape"
   ]
  },
  {
   "cell_type": "markdown",
   "metadata": {},
   "source": [
    "# Шаг 3. Проведем исследовательский анализ данных\n"
   ]
  },
  {
   "cell_type": "markdown",
   "metadata": {},
   "source": [
    "Посмотрим, сколько игр выпускалось в разные годы. Важны ли данные за все периоды?"
   ]
  },
  {
   "cell_type": "code",
   "execution_count": 25,
   "metadata": {},
   "outputs": [],
   "source": [
    "years = data.pivot_table(index = \"year_of_release\", values = \"platform\", aggfunc= [\"count\"])"
   ]
  },
  {
   "cell_type": "code",
   "execution_count": 26,
   "metadata": {},
   "outputs": [
    {
     "data": {
      "image/png": "[encoded data removed]",
      "text/plain": [
       "<Figure size 432x288 with 1 Axes>"
      ]
     },
     "metadata": {
      "needs_background": "light"
     },
     "output_type": "display_data"
    }
   ],
   "source": [
    "years.plot()\n",
    "plt.show()"
   ]
  },
  {
   "cell_type": "markdown",
   "metadata": {},
   "source": [
    "Посмотрим, как менялись продажи по платформам. Выберите платформы с наибольшими суммарными продажами и постройте распределение по годам. За какой характерный срок появляются новые и исчезают старые платформы?"
   ]
  },
  {
   "cell_type": "code",
   "execution_count": 27,
   "metadata": {},
   "outputs": [
    {
     "data": {
      "text/plain": [
       "platform  sales_sum\n",
       "2600      0.07         2\n",
       "          0.13         1\n",
       "          0.14         1\n",
       "          0.15         2\n",
       "          0.16         3\n",
       "                      ..\n",
       "XOne      4.22         1\n",
       "          4.49         1\n",
       "          5.26         1\n",
       "          5.47         1\n",
       "          7.39         1\n",
       "Name: name, Length: 3939, dtype: int64"
      ]
     },
     "execution_count": 27,
     "metadata": {},
     "output_type": "execute_result"
    }
   ],
   "source": [
    "platform = data[[\"platform\", \"sales_sum\", 'name', \"year_of_release\"]]\n",
    "pl = platform.groupby([\"platform\", \"sales_sum\"])[\"name\"].count()\n",
    "pl"
   ]
  },
  {
   "cell_type": "markdown",
   "metadata": {},
   "source": [
    "Возьмем данные за соответствующий актуальный период. Основной фактор — эти данные помогут построить прогноз на 2017 год.\n",
    "Не учитываем в работе данные за предыдущие годы."
   ]
  },
  {
   "cell_type": "markdown",
   "metadata": {},
   "source": [
    "Года важны за тот период, который мы хотим проанализировать (2015 и 2016) для 2017. Потому что до 2015 года нет смысла анализировать рынок продаж видеоигр, так как динамика может сильно варьироваться и не зависит от предыдущих лет"
   ]
  },
  {
   "cell_type": "code",
   "execution_count": 28,
   "metadata": {},
   "outputs": [
    {
     "data": {
      "image/png": "[encoded data removed]",
      "text/plain": [
       "<Figure size 1080x504 with 1 Axes>"
      ]
     },
     "metadata": {
      "needs_background": "light"
     },
     "output_type": "display_data"
    }
   ],
   "source": [
    "data_1 = data.query(\"2015 <= year_of_release <= 2016\")\n",
    "platform_data = data_1.pivot_table(index='year_of_release', columns = 'platform', values='sales_sum', aggfunc='sum')\n",
    "platform_data.plot(grid=True, figsize=(15, 7))\n",
    "plt.show()"
   ]
  },
  {
   "cell_type": "code",
   "execution_count": 29,
   "metadata": {},
   "outputs": [
    {
     "data": {
      "text/plain": [
       "(16444, 12)"
      ]
     },
     "execution_count": 29,
     "metadata": {},
     "output_type": "execute_result"
    }
   ],
   "source": [
    "data.shape"
   ]
  },
  {
   "cell_type": "markdown",
   "metadata": {},
   "source": [
    "Выберем несколько потенциально прибыльных платформ, чтобы ответить на вопрос \"Какие платформы лидируют по продажам, растут или падают?\"\n",
    "Построим график «ящик с усами» по глобальным продажам игр в разбивке по платформам. Опишем результат.\n"
   ]
  },
  {
   "cell_type": "code",
   "execution_count": 30,
   "metadata": {},
   "outputs": [
    {
     "data": {
      "text/html": [
       "<div>\n",
       "<style scoped>\n",
       "    .dataframe tbody tr th:only-of-type {\n",
       "        vertical-align: middle;\n",
       "    }\n",
       "\n",
       "    .dataframe tbody tr th {\n",
       "        vertical-align: top;\n",
       "    }\n",
       "\n",
       "    .dataframe thead th {\n",
       "        text-align: right;\n",
       "    }\n",
       "</style>\n",
       "<table border=\"1\" class=\"dataframe\">\n",
       "  <thead>\n",
       "    <tr style=\"text-align: right;\">\n",
       "      <th>platform</th>\n",
       "      <th>3DS</th>\n",
       "      <th>PC</th>\n",
       "      <th>PS3</th>\n",
       "      <th>PS4</th>\n",
       "      <th>PSP</th>\n",
       "      <th>PSV</th>\n",
       "      <th>Wii</th>\n",
       "      <th>WiiU</th>\n",
       "      <th>X360</th>\n",
       "      <th>XOne</th>\n",
       "    </tr>\n",
       "    <tr>\n",
       "      <th>year_of_release</th>\n",
       "      <th></th>\n",
       "      <th></th>\n",
       "      <th></th>\n",
       "      <th></th>\n",
       "      <th></th>\n",
       "      <th></th>\n",
       "      <th></th>\n",
       "      <th></th>\n",
       "      <th></th>\n",
       "      <th></th>\n",
       "    </tr>\n",
       "  </thead>\n",
       "  <tbody>\n",
       "    <tr>\n",
       "      <th>2015</th>\n",
       "      <td>27.78</td>\n",
       "      <td>8.52</td>\n",
       "      <td>16.82</td>\n",
       "      <td>118.90</td>\n",
       "      <td>0.12</td>\n",
       "      <td>6.25</td>\n",
       "      <td>1.14</td>\n",
       "      <td>16.35</td>\n",
       "      <td>11.96</td>\n",
       "      <td>60.14</td>\n",
       "    </tr>\n",
       "    <tr>\n",
       "      <th>2016</th>\n",
       "      <td>15.14</td>\n",
       "      <td>5.25</td>\n",
       "      <td>3.60</td>\n",
       "      <td>69.25</td>\n",
       "      <td>NaN</td>\n",
       "      <td>4.25</td>\n",
       "      <td>0.18</td>\n",
       "      <td>4.60</td>\n",
       "      <td>1.52</td>\n",
       "      <td>26.15</td>\n",
       "    </tr>\n",
       "  </tbody>\n",
       "</table>\n",
       "</div>"
      ],
      "text/plain": [
       "platform           3DS    PC    PS3     PS4   PSP   PSV   Wii   WiiU   X360  \\\n",
       "year_of_release                                                               \n",
       "2015             27.78  8.52  16.82  118.90  0.12  6.25  1.14  16.35  11.96   \n",
       "2016             15.14  5.25   3.60   69.25   NaN  4.25  0.18   4.60   1.52   \n",
       "\n",
       "platform          XOne  \n",
       "year_of_release         \n",
       "2015             60.14  \n",
       "2016             26.15  "
      ]
     },
     "execution_count": 30,
     "metadata": {},
     "output_type": "execute_result"
    }
   ],
   "source": [
    "#platform_data.sort_values(by = 'sales_sum')\n",
    "platform_data"
   ]
  },
  {
   "cell_type": "code",
   "execution_count": 31,
   "metadata": {},
   "outputs": [
    {
     "data": {
      "text/plain": [
       "platform\n",
       "PS4     188.15\n",
       "XOne     86.29\n",
       "3DS      42.92\n",
       "WiiU     20.95\n",
       "PS3      20.42\n",
       "PC       13.77\n",
       "X360     13.48\n",
       "PSV      10.50\n",
       "Wii       1.32\n",
       "PSP       0.12\n",
       "Name: sales_sum, dtype: float64"
      ]
     },
     "execution_count": 31,
     "metadata": {},
     "output_type": "execute_result"
    }
   ],
   "source": [
    "pl_data = data[[\"platform\", \"sales_sum\", 'name', \"year_of_release\"]]\n",
    "pl_data=data.query(\"2015 <= year_of_release <= 2016\")\n",
    "pl_data.groupby(\"platform\")[\"sales_sum\"].sum().sort_values(ascending = False)"
   ]
  },
  {
   "cell_type": "markdown",
   "metadata": {},
   "source": [
    "ВЫВОД: PS4 и XOne лидируют по продажам, но падает выручка, возможно потому что клиентская база уже не покупает данные видеоин=гры, так как уже у людей есть этот продукт. Возможно в 2017 году, когда эти компании выпустят новые игры, то продажи возрастут "
   ]
  },
  {
   "cell_type": "markdown",
   "metadata": {},
   "source": [
    "Посмотрим, как влияют на продажи внутри одной популярной платформы отзывы пользователей и критиков. Построим диаграмму рассеяния и посчитаем корреляцию между отзывами и продажами. Сформулируем выводы."
   ]
  },
  {
   "cell_type": "code",
   "execution_count": 32,
   "metadata": {},
   "outputs": [],
   "source": [
    "data_score = data_1.query('platform == \"XOne\" & critic_score != -1 & user_score != -1')[[\"critic_score\", \"user_score\", \"sales_sum\"]]"
   ]
  },
  {
   "cell_type": "code",
   "execution_count": 33,
   "metadata": {},
   "outputs": [
    {
     "data": {
      "text/html": [
       "<div>\n",
       "<style scoped>\n",
       "    .dataframe tbody tr th:only-of-type {\n",
       "        vertical-align: middle;\n",
       "    }\n",
       "\n",
       "    .dataframe tbody tr th {\n",
       "        vertical-align: top;\n",
       "    }\n",
       "\n",
       "    .dataframe thead th {\n",
       "        text-align: right;\n",
       "    }\n",
       "</style>\n",
       "<table border=\"1\" class=\"dataframe\">\n",
       "  <thead>\n",
       "    <tr style=\"text-align: right;\">\n",
       "      <th></th>\n",
       "      <th>critic_score</th>\n",
       "      <th>user_score</th>\n",
       "      <th>sales_sum</th>\n",
       "    </tr>\n",
       "  </thead>\n",
       "  <tbody>\n",
       "    <tr>\n",
       "      <th>critic_score</th>\n",
       "      <td>1.000000</td>\n",
       "      <td>0.459443</td>\n",
       "      <td>0.422519</td>\n",
       "    </tr>\n",
       "    <tr>\n",
       "      <th>user_score</th>\n",
       "      <td>0.459443</td>\n",
       "      <td>1.000000</td>\n",
       "      <td>-0.068684</td>\n",
       "    </tr>\n",
       "    <tr>\n",
       "      <th>sales_sum</th>\n",
       "      <td>0.422519</td>\n",
       "      <td>-0.068684</td>\n",
       "      <td>1.000000</td>\n",
       "    </tr>\n",
       "  </tbody>\n",
       "</table>\n",
       "</div>"
      ],
      "text/plain": [
       "              critic_score  user_score  sales_sum\n",
       "critic_score      1.000000    0.459443   0.422519\n",
       "user_score        0.459443    1.000000  -0.068684\n",
       "sales_sum         0.422519   -0.068684   1.000000"
      ]
     },
     "execution_count": 33,
     "metadata": {},
     "output_type": "execute_result"
    }
   ],
   "source": [
    "data_score.corr()"
   ]
  },
  {
   "cell_type": "code",
   "execution_count": 74,
   "metadata": {},
   "outputs": [
    {
     "data": {
      "image/png": "[encoded data removed]",
      "text/plain": [
       "<Figure size 648x648 with 9 Axes>"
      ]
     },
     "metadata": {
      "needs_background": "light"
     },
     "output_type": "display_data"
    },
    {
     "data": {
      "text/plain": [
       "Text(0.5, 1.0, 'Корреляция между оценкой пользователей и продажами')"
      ]
     },
     "execution_count": 74,
     "metadata": {},
     "output_type": "execute_result"
    },
    {
     "data": {
      "image/png": "[encoded data removed]",
      "text/plain": [
       "<Figure size 432x288 with 1 Axes>"
      ]
     },
     "metadata": {
      "needs_background": "light"
     },
     "output_type": "display_data"
    },
    {
     "data": {
      "image/png": "[encoded data removed]",
      "text/plain": [
       "<Figure size 432x288 with 1 Axes>"
      ]
     },
     "metadata": {
      "needs_background": "light"
     },
     "output_type": "display_data"
    }
   ],
   "source": [
    "pd.plotting.scatter_matrix(data_score, figsize=(9, 9)) \n",
    "\n",
    "plt.show()\n",
    "\n",
    "data_score.plot(x = \"critic_score\", y = \"sales_sum\", kind = \"scatter\")\n",
    "plt.title(\"Корреляция между оценкой критиков и продажами\")\n",
    "data_score.plot(x = \"user_score\", y = \"sales_sum\", kind = \"scatter\")\n",
    "plt.title(\"Корреляция между оценкой пользователей и продажами\")"
   ]
  },
  {
   "cell_type": "markdown",
   "metadata": {},
   "source": [
    "Видна слабая зависимость продаж от отзывов пользователей 6%\n",
    "Коэффициент корреляции Пирсона: -0.06\n",
    "\n",
    "Несмотря на более ответственное отношение критиков к процессу оценки, зависимость продаж от полученных баллов также невелика (коэффициент корреляции Пирсона 42,2%)\n",
    "Коэффициент корреляции Пирсона: 0.422\n",
    "Анализ не выявил сильной зависимости продаж от каких либо отзывов. Этот факт необходимо учитывать при бланировании рекламных компаний в предстоящем году."
   ]
  },
  {
   "cell_type": "markdown",
   "metadata": {},
   "source": [
    "Вывод: Нет корреляции между отзывами и продажами Платформы \"XOne\""
   ]
  },
  {
   "cell_type": "markdown",
   "metadata": {},
   "source": [
    "Соотнесём выводы с продажами игр на других платформах."
   ]
  },
  {
   "cell_type": "code",
   "execution_count": 35,
   "metadata": {},
   "outputs": [],
   "source": [
    "data_all_platfotms_score = data_1.query('critic_score != -1 & user_score != -1')[[\"critic_score\", \"user_score\", \"sales_sum\"]]"
   ]
  },
  {
   "cell_type": "code",
   "execution_count": 36,
   "metadata": {},
   "outputs": [
    {
     "data": {
      "text/html": [
       "<div>\n",
       "<style scoped>\n",
       "    .dataframe tbody tr th:only-of-type {\n",
       "        vertical-align: middle;\n",
       "    }\n",
       "\n",
       "    .dataframe tbody tr th {\n",
       "        vertical-align: top;\n",
       "    }\n",
       "\n",
       "    .dataframe thead th {\n",
       "        text-align: right;\n",
       "    }\n",
       "</style>\n",
       "<table border=\"1\" class=\"dataframe\">\n",
       "  <thead>\n",
       "    <tr style=\"text-align: right;\">\n",
       "      <th></th>\n",
       "      <th>critic_score</th>\n",
       "      <th>user_score</th>\n",
       "      <th>sales_sum</th>\n",
       "    </tr>\n",
       "  </thead>\n",
       "  <tbody>\n",
       "    <tr>\n",
       "      <th>critic_score</th>\n",
       "      <td>1.000000</td>\n",
       "      <td>0.467901</td>\n",
       "      <td>0.323375</td>\n",
       "    </tr>\n",
       "    <tr>\n",
       "      <th>user_score</th>\n",
       "      <td>0.467901</td>\n",
       "      <td>1.000000</td>\n",
       "      <td>-0.014618</td>\n",
       "    </tr>\n",
       "    <tr>\n",
       "      <th>sales_sum</th>\n",
       "      <td>0.323375</td>\n",
       "      <td>-0.014618</td>\n",
       "      <td>1.000000</td>\n",
       "    </tr>\n",
       "  </tbody>\n",
       "</table>\n",
       "</div>"
      ],
      "text/plain": [
       "              critic_score  user_score  sales_sum\n",
       "critic_score      1.000000    0.467901   0.323375\n",
       "user_score        0.467901    1.000000  -0.014618\n",
       "sales_sum         0.323375   -0.014618   1.000000"
      ]
     },
     "execution_count": 36,
     "metadata": {},
     "output_type": "execute_result"
    }
   ],
   "source": [
    "data_all_platfotms_score.corr()"
   ]
  },
  {
   "cell_type": "code",
   "execution_count": 37,
   "metadata": {},
   "outputs": [
    {
     "data": {
      "image/png": "[encoded data removed]",
      "text/plain": [
       "<Figure size 648x648 with 9 Axes>"
      ]
     },
     "metadata": {
      "needs_background": "light"
     },
     "output_type": "display_data"
    }
   ],
   "source": [
    "pd.plotting.scatter_matrix(data_all_platfotms_score, figsize=(9, 9)) \n",
    "plt.show()"
   ]
  },
  {
   "cell_type": "markdown",
   "metadata": {},
   "source": [
    "Нет сильной корреляции между выручкой платформ и отзывами покупателей и критиков.\n",
    "Вывод: Все пользователь, которые играют в видеоигры непонятно чего хотят"
   ]
  },
  {
   "cell_type": "code",
   "execution_count": 71,
   "metadata": {},
   "outputs": [],
   "source": [
    "data_score_2 = data.query('platform == [\"Will\", \"PS2\"] & critic_score != -1 & user_score != -1')[[\"critic_score\", \"user_score\", \"sales_sum\"]]"
   ]
  },
  {
   "cell_type": "code",
   "execution_count": 73,
   "metadata": {},
   "outputs": [
    {
     "data": {
      "text/html": [
       "<div>\n",
       "<style scoped>\n",
       "    .dataframe tbody tr th:only-of-type {\n",
       "        vertical-align: middle;\n",
       "    }\n",
       "\n",
       "    .dataframe tbody tr th {\n",
       "        vertical-align: top;\n",
       "    }\n",
       "\n",
       "    .dataframe thead th {\n",
       "        text-align: right;\n",
       "    }\n",
       "</style>\n",
       "<table border=\"1\" class=\"dataframe\">\n",
       "  <thead>\n",
       "    <tr style=\"text-align: right;\">\n",
       "      <th></th>\n",
       "      <th>critic_score</th>\n",
       "      <th>user_score</th>\n",
       "      <th>sales_sum</th>\n",
       "    </tr>\n",
       "  </thead>\n",
       "  <tbody>\n",
       "    <tr>\n",
       "      <th>critic_score</th>\n",
       "      <td>1.000000</td>\n",
       "      <td>0.565841</td>\n",
       "      <td>0.386415</td>\n",
       "    </tr>\n",
       "    <tr>\n",
       "      <th>user_score</th>\n",
       "      <td>0.565841</td>\n",
       "      <td>1.000000</td>\n",
       "      <td>0.171690</td>\n",
       "    </tr>\n",
       "    <tr>\n",
       "      <th>sales_sum</th>\n",
       "      <td>0.386415</td>\n",
       "      <td>0.171690</td>\n",
       "      <td>1.000000</td>\n",
       "    </tr>\n",
       "  </tbody>\n",
       "</table>\n",
       "</div>"
      ],
      "text/plain": [
       "              critic_score  user_score  sales_sum\n",
       "critic_score      1.000000    0.565841   0.386415\n",
       "user_score        0.565841    1.000000   0.171690\n",
       "sales_sum         0.386415    0.171690   1.000000"
      ]
     },
     "execution_count": 73,
     "metadata": {},
     "output_type": "execute_result"
    }
   ],
   "source": [
    "data_score_2.corr()"
   ]
  },
  {
   "cell_type": "code",
   "execution_count": 75,
   "metadata": {},
   "outputs": [
    {
     "data": {
      "image/png": "[encoded data removed]",
      "text/plain": [
       "<Figure size 648x648 with 9 Axes>"
      ]
     },
     "metadata": {
      "needs_background": "light"
     },
     "output_type": "display_data"
    },
    {
     "data": {
      "text/plain": [
       "Text(0.5, 1.0, 'Корреляция между оценкой пользователей и продажами')"
      ]
     },
     "execution_count": 75,
     "metadata": {},
     "output_type": "execute_result"
    },
    {
     "data": {
      "image/png": "[encoded data removed]",
      "text/plain": [
       "<Figure size 432x288 with 1 Axes>"
      ]
     },
     "metadata": {
      "needs_background": "light"
     },
     "output_type": "display_data"
    },
    {
     "data": {
      "image/png": "[encoded data removed]",
      "text/plain": [
       "<Figure size 432x288 with 1 Axes>"
      ]
     },
     "metadata": {
      "needs_background": "light"
     },
     "output_type": "display_data"
    }
   ],
   "source": [
    "pd.plotting.scatter_matrix(data_score_2, figsize=(9, 9)) \n",
    "\n",
    "plt.show()\n",
    "\n",
    "data_score_2.plot(x = \"critic_score\", y = \"sales_sum\", kind = \"scatter\")\n",
    "plt.title(\"Корреляция между оценкой критиков и продажами\")\n",
    "data_score_2.plot(x = \"user_score\", y = \"sales_sum\", kind = \"scatter\")\n",
    "plt.title(\"Корреляция между оценкой пользователей и продажами\")"
   ]
  },
  {
   "cell_type": "markdown",
   "metadata": {},
   "source": [
    "Видна слабая зависимость продаж от отзывов пользователей 17% Коэффициент корреляции Пирсона: 0.17\n",
    "\n",
    "Несмотря на более ответственное отношение критиков к процессу оценки, зависимость продаж от полученных баллов также невелика (коэффициент корреляции Пирсона 38,6%) Коэффициент корреляции Пирсона: 0.386 Анализ не выявил сильной зависимости продаж от каких либо отзывов. Этот факт необходимо учитывать при бланировании рекламных компаний в предстоящем году."
   ]
  },
  {
   "cell_type": "markdown",
   "metadata": {},
   "source": [
    "Посмотрим на общее распределение игр по жанрам. "
   ]
  },
  {
   "cell_type": "code",
   "execution_count": 42,
   "metadata": {},
   "outputs": [
    {
     "data": {
      "text/plain": [
       "genre\n",
       "Shooter         105.73\n",
       "Action          102.13\n",
       "Sports           64.33\n",
       "Role-Playing     55.82\n",
       "Misc             14.17\n",
       "Fighting         12.37\n",
       "Adventure        11.98\n",
       "Racing           10.86\n",
       "Platform          9.28\n",
       "Simulation        7.55\n",
       "Strategy          2.98\n",
       "Puzzle            0.72\n",
       "Name: sales_sum, dtype: float64"
      ]
     },
     "execution_count": 42,
     "metadata": {},
     "output_type": "execute_result"
    }
   ],
   "source": [
    "genre_data = data[[\"year_of_release\", \"genre\", \"sales_sum\"]].query(' 2015<= year_of_release <= 2016')\n",
    "genre_data.groupby(\"genre\")[\"sales_sum\"].sum().sort_values(ascending = False)"
   ]
  },
  {
   "cell_type": "code",
   "execution_count": 82,
   "metadata": {},
   "outputs": [
    {
     "data": {
      "text/plain": [
       "genre\n",
       "Shooter         0.380\n",
       "Sports          0.120\n",
       "Role-Playing    0.115\n",
       "Platform        0.100\n",
       "Simulation      0.100\n",
       "Fighting        0.090\n",
       "Action          0.060\n",
       "Misc            0.060\n",
       "Racing          0.055\n",
       "Strategy        0.050\n",
       "Adventure       0.030\n",
       "Puzzle          0.030\n",
       "Name: sales_sum, dtype: float64"
      ]
     },
     "execution_count": 82,
     "metadata": {},
     "output_type": "execute_result"
    }
   ],
   "source": [
    "genre_data = data[[\"year_of_release\", \"genre\", \"sales_sum\"]].query('2015<= year_of_release <= 2016')\n",
    "genre_data.groupby(\"genre\")[\"sales_sum\"].median().sort_values(ascending = False)"
   ]
  },
  {
   "cell_type": "markdown",
   "metadata": {},
   "source": [
    "Ответим на вопросы: Что можно сказать о самых прибыльных жанрах? Выделяются ли жанры с высокими и низкими продажами? <br>\n",
    "Вывод: самые прибыльные жанры выделяются от жанров с низкимии продажамиShooter, Action, Sports, Role-Playing"
   ]
  },
  {
   "cell_type": "markdown",
   "metadata": {},
   "source": [
    "Если рассматривать медианы, то выдяляющимися жанрами являеются Shooter, Sports, Role-Playing"
   ]
  },
  {
   "cell_type": "markdown",
   "metadata": {},
   "source": [
    "# Шаг 4. Составим портрет пользователя каждого региона\n"
   ]
  },
  {
   "cell_type": "code",
   "execution_count": 43,
   "metadata": {},
   "outputs": [
    {
     "data": {
      "text/html": [
       "<div>\n",
       "<style scoped>\n",
       "    .dataframe tbody tr th:only-of-type {\n",
       "        vertical-align: middle;\n",
       "    }\n",
       "\n",
       "    .dataframe tbody tr th {\n",
       "        vertical-align: top;\n",
       "    }\n",
       "\n",
       "    .dataframe thead th {\n",
       "        text-align: right;\n",
       "    }\n",
       "</style>\n",
       "<table border=\"1\" class=\"dataframe\">\n",
       "  <thead>\n",
       "    <tr style=\"text-align: right;\">\n",
       "      <th></th>\n",
       "      <th>platform</th>\n",
       "      <th>genre</th>\n",
       "      <th>na_sales</th>\n",
       "      <th>eu_sales</th>\n",
       "      <th>jp_sales</th>\n",
       "      <th>rating</th>\n",
       "      <th>sales_sum</th>\n",
       "    </tr>\n",
       "  </thead>\n",
       "  <tbody>\n",
       "    <tr>\n",
       "      <th>31</th>\n",
       "      <td>PS4</td>\n",
       "      <td>Shooter</td>\n",
       "      <td>6.03</td>\n",
       "      <td>5.86</td>\n",
       "      <td>0.36</td>\n",
       "      <td>неизвестно</td>\n",
       "      <td>14.63</td>\n",
       "    </tr>\n",
       "    <tr>\n",
       "      <th>77</th>\n",
       "      <td>PS4</td>\n",
       "      <td>Sports</td>\n",
       "      <td>1.12</td>\n",
       "      <td>6.12</td>\n",
       "      <td>0.06</td>\n",
       "      <td>E</td>\n",
       "      <td>8.58</td>\n",
       "    </tr>\n",
       "    <tr>\n",
       "      <th>87</th>\n",
       "      <td>PS4</td>\n",
       "      <td>Shooter</td>\n",
       "      <td>2.99</td>\n",
       "      <td>3.49</td>\n",
       "      <td>0.22</td>\n",
       "      <td>неизвестно</td>\n",
       "      <td>7.98</td>\n",
       "    </tr>\n",
       "    <tr>\n",
       "      <th>94</th>\n",
       "      <td>PS4</td>\n",
       "      <td>Sports</td>\n",
       "      <td>0.66</td>\n",
       "      <td>5.75</td>\n",
       "      <td>0.08</td>\n",
       "      <td>E</td>\n",
       "      <td>7.60</td>\n",
       "    </tr>\n",
       "    <tr>\n",
       "      <th>99</th>\n",
       "      <td>XOne</td>\n",
       "      <td>Shooter</td>\n",
       "      <td>4.59</td>\n",
       "      <td>2.11</td>\n",
       "      <td>0.01</td>\n",
       "      <td>неизвестно</td>\n",
       "      <td>7.39</td>\n",
       "    </tr>\n",
       "    <tr>\n",
       "      <th>...</th>\n",
       "      <td>...</td>\n",
       "      <td>...</td>\n",
       "      <td>...</td>\n",
       "      <td>...</td>\n",
       "      <td>...</td>\n",
       "      <td>...</td>\n",
       "      <td>...</td>\n",
       "    </tr>\n",
       "    <tr>\n",
       "      <th>16699</th>\n",
       "      <td>PSV</td>\n",
       "      <td>Action</td>\n",
       "      <td>0.00</td>\n",
       "      <td>0.00</td>\n",
       "      <td>0.01</td>\n",
       "      <td>неизвестно</td>\n",
       "      <td>0.01</td>\n",
       "    </tr>\n",
       "    <tr>\n",
       "      <th>16703</th>\n",
       "      <td>PSV</td>\n",
       "      <td>Adventure</td>\n",
       "      <td>0.00</td>\n",
       "      <td>0.00</td>\n",
       "      <td>0.01</td>\n",
       "      <td>неизвестно</td>\n",
       "      <td>0.01</td>\n",
       "    </tr>\n",
       "    <tr>\n",
       "      <th>16710</th>\n",
       "      <td>PS3</td>\n",
       "      <td>Action</td>\n",
       "      <td>0.00</td>\n",
       "      <td>0.00</td>\n",
       "      <td>0.01</td>\n",
       "      <td>неизвестно</td>\n",
       "      <td>0.01</td>\n",
       "    </tr>\n",
       "    <tr>\n",
       "      <th>16712</th>\n",
       "      <td>PSV</td>\n",
       "      <td>Adventure</td>\n",
       "      <td>0.00</td>\n",
       "      <td>0.00</td>\n",
       "      <td>0.01</td>\n",
       "      <td>неизвестно</td>\n",
       "      <td>0.01</td>\n",
       "    </tr>\n",
       "    <tr>\n",
       "      <th>16714</th>\n",
       "      <td>PSV</td>\n",
       "      <td>Simulation</td>\n",
       "      <td>0.00</td>\n",
       "      <td>0.00</td>\n",
       "      <td>0.01</td>\n",
       "      <td>неизвестно</td>\n",
       "      <td>0.01</td>\n",
       "    </tr>\n",
       "  </tbody>\n",
       "</table>\n",
       "<p>1108 rows × 7 columns</p>\n",
       "</div>"
      ],
      "text/plain": [
       "      platform       genre  na_sales  eu_sales  jp_sales      rating  \\\n",
       "31         PS4     Shooter      6.03      5.86      0.36  неизвестно   \n",
       "77         PS4      Sports      1.12      6.12      0.06           E   \n",
       "87         PS4     Shooter      2.99      3.49      0.22  неизвестно   \n",
       "94         PS4      Sports      0.66      5.75      0.08           E   \n",
       "99        XOne     Shooter      4.59      2.11      0.01  неизвестно   \n",
       "...        ...         ...       ...       ...       ...         ...   \n",
       "16699      PSV      Action      0.00      0.00      0.01  неизвестно   \n",
       "16703      PSV   Adventure      0.00      0.00      0.01  неизвестно   \n",
       "16710      PS3      Action      0.00      0.00      0.01  неизвестно   \n",
       "16712      PSV   Adventure      0.00      0.00      0.01  неизвестно   \n",
       "16714      PSV  Simulation      0.00      0.00      0.01  неизвестно   \n",
       "\n",
       "       sales_sum  \n",
       "31         14.63  \n",
       "77          8.58  \n",
       "87          7.98  \n",
       "94          7.60  \n",
       "99          7.39  \n",
       "...          ...  \n",
       "16699       0.01  \n",
       "16703       0.01  \n",
       "16710       0.01  \n",
       "16712       0.01  \n",
       "16714       0.01  \n",
       "\n",
       "[1108 rows x 7 columns]"
      ]
     },
     "execution_count": 43,
     "metadata": {},
     "output_type": "execute_result"
    }
   ],
   "source": [
    "#Определим для пользователя каждого региона (NA, EU, JP): Самые популярные платформы (топ-5). Опишем различия в долях продаж.\n",
    "data_2015_2016 = data.query(\"2015 <= year_of_release <= 2016\")\n",
    "data_2015_2016[[\"platform\", \"genre\", \"na_sales\", \"eu_sales\", \"jp_sales\", \"rating\", \"sales_sum\"]]"
   ]
  },
  {
   "cell_type": "code",
   "execution_count": 44,
   "metadata": {},
   "outputs": [],
   "source": [
    "na_top_platform = data_2015_2016.groupby(\"platform\")[\"na_sales\"].sum()\n",
    "eu_top_platform = data_2015_2016.groupby(\"platform\")[\"eu_sales\"].sum()\n",
    "jp_top_platform = data_2015_2016.groupby(\"platform\")[\"jp_sales\"].sum()"
   ]
  },
  {
   "cell_type": "code",
   "execution_count": 45,
   "metadata": {},
   "outputs": [
    {
     "data": {
      "text/plain": [
       "platform\n",
       "X360    0.597181\n",
       "XOne    0.582918\n",
       "WiiU    0.422912\n",
       "Wii     0.371212\n",
       "PS4     0.339410\n",
       "PS3     0.277179\n",
       "PC      0.270153\n",
       "3DS     0.240214\n",
       "PSV     0.051429\n",
       "PSP     0.000000\n",
       "dtype: float64"
      ]
     },
     "execution_count": 45,
     "metadata": {},
     "output_type": "execute_result"
    }
   ],
   "source": [
    "#Проанализируем продажи платформ в Северной Америке (миллионы проданных копий) \n",
    "\n",
    "na_platform = data_2015_2016.groupby(\"platform\")[\"na_sales\"].sum() / data_2015_2016.groupby(\"platform\")[\"sales_sum\"].sum()\n",
    "na_platform.sort_values(ascending = False)"
   ]
  },
  {
   "cell_type": "code",
   "execution_count": 46,
   "metadata": {},
   "outputs": [
    {
     "data": {
      "text/plain": [
       "platform\n",
       "PC      0.660857\n",
       "Wii     0.553030\n",
       "PS4     0.444007\n",
       "PS3     0.357493\n",
       "XOne    0.325646\n",
       "X360    0.312315\n",
       "WiiU    0.309785\n",
       "3DS     0.172181\n",
       "PSV     0.102857\n",
       "PSP     0.000000\n",
       "dtype: float64"
      ]
     },
     "execution_count": 46,
     "metadata": {},
     "output_type": "execute_result"
    }
   ],
   "source": [
    "#Проанализируем продажи платформ в Европе\n",
    "eu_platform = data_2015_2016.groupby(\"platform\")[\"eu_sales\"].sum() / data_2015_2016.groupby(\"platform\")[\"sales_sum\"].sum()\n",
    "eu_platform.sort_values(ascending = False)"
   ]
  },
  {
   "cell_type": "code",
   "execution_count": 47,
   "metadata": {},
   "outputs": [
    {
     "data": {
      "text/plain": [
       "platform\n",
       "PSP     1.000000\n",
       "PSV     0.800952\n",
       "3DS     0.548695\n",
       "PS3     0.243389\n",
       "WiiU    0.196659\n",
       "PS4     0.064045\n",
       "XOne    0.002086\n",
       "PC      0.000000\n",
       "Wii     0.000000\n",
       "X360    0.000000\n",
       "dtype: float64"
      ]
     },
     "execution_count": 47,
     "metadata": {},
     "output_type": "execute_result"
    }
   ],
   "source": [
    "# Проанализируем продажи платформ в Японии\n",
    "jp_platform = data_2015_2016.groupby(\"platform\")[\"jp_sales\"].sum() / data_2015_2016.groupby(\"platform\")[\"sales_sum\"].sum()\n",
    "jp_platform.sort_values(ascending = False)"
   ]
  },
  {
   "cell_type": "code",
   "execution_count": 48,
   "metadata": {},
   "outputs": [
    {
     "name": "stdout",
     "output_type": "stream",
     "text": [
      "Таблица с продажами платформ в Северной Америке\n",
      "platform\n",
      "PS4     63.86\n",
      "XOne    50.30\n",
      "3DS     10.31\n",
      "WiiU     8.86\n",
      "X360     8.05\n",
      "Name: na_sales, dtype: float64\n",
      "\n"
     ]
    },
    {
     "data": {
      "text/plain": [
       "[]"
      ]
     },
     "execution_count": 48,
     "metadata": {},
     "output_type": "execute_result"
    },
    {
     "data": {
      "image/png": "[encoded data removed]",
      "text/plain": [
       "<Figure size 432x288 with 1 Axes>"
      ]
     },
     "metadata": {
      "needs_background": "light"
     },
     "output_type": "display_data"
    }
   ],
   "source": [
    "print(\"Таблица с продажами платформ в Северной Америке\")\n",
    "print(na_top_platform.sort_values(ascending = False).head(5))\n",
    "print()\n",
    "na_top_platform.sort_values(ascending = False).head(5).plot(kind = \"bar\")\n",
    "plt.plot()"
   ]
  },
  {
   "cell_type": "markdown",
   "metadata": {},
   "source": [
    "Самые большие в Северной Америке у платформ PS4 и XOne"
   ]
  },
  {
   "cell_type": "code",
   "execution_count": 49,
   "metadata": {},
   "outputs": [
    {
     "name": "stdout",
     "output_type": "stream",
     "text": [
      "Таблица с продажами платформ в Европе\n",
      "platform\n",
      "PS4     83.54\n",
      "XOne    28.10\n",
      "PC       9.10\n",
      "3DS      7.39\n",
      "PS3      7.30\n",
      "Name: eu_sales, dtype: float64\n",
      "\n"
     ]
    },
    {
     "data": {
      "text/plain": [
       "[]"
      ]
     },
     "execution_count": 49,
     "metadata": {},
     "output_type": "execute_result"
    },
    {
     "data": {
      "image/png": "[encoded data removed]",
      "text/plain": [
       "<Figure size 432x288 with 1 Axes>"
      ]
     },
     "metadata": {
      "needs_background": "light"
     },
     "output_type": "display_data"
    }
   ],
   "source": [
    "print(\"Таблица с продажами платформ в Европе\")\n",
    "\n",
    "print(eu_top_platform.sort_values(ascending = False).head(5))\n",
    "print()\n",
    "eu_top_platform.sort_values(ascending = False).head(5).plot(kind = \"bar\")\n",
    "plt.plot()"
   ]
  },
  {
   "cell_type": "markdown",
   "metadata": {},
   "source": [
    "У платформ PS4 и XOne самые большие продажи в Европе"
   ]
  },
  {
   "cell_type": "code",
   "execution_count": 50,
   "metadata": {},
   "outputs": [
    {
     "name": "stdout",
     "output_type": "stream",
     "text": [
      "Таблица с продажами платформ в Японии\n",
      "platform\n",
      "3DS     23.55\n",
      "PS4     12.05\n",
      "PSV      8.41\n",
      "PS3      4.97\n",
      "WiiU     4.12\n",
      "Name: jp_sales, dtype: float64\n",
      "\n"
     ]
    },
    {
     "data": {
      "text/plain": [
       "[]"
      ]
     },
     "execution_count": 50,
     "metadata": {},
     "output_type": "execute_result"
    },
    {
     "data": {
      "image/png": "[encoded data removed]",
      "text/plain": [
       "<Figure size 432x288 with 1 Axes>"
      ]
     },
     "metadata": {
      "needs_background": "light"
     },
     "output_type": "display_data"
    }
   ],
   "source": [
    "print(\"Таблица с продажами платформ в Японии\")\n",
    "print(jp_top_platform.sort_values(ascending = False).head(5))\n",
    "print()\n",
    "jp_top_platform.sort_values(ascending = False).head(5).plot(kind = \"bar\")\n",
    "plt.plot()"
   ]
  },
  {
   "cell_type": "markdown",
   "metadata": {},
   "source": [
    "Самые большие продажи в Японии у платформ 3DS и PS4"
   ]
  },
  {
   "cell_type": "markdown",
   "metadata": {},
   "source": [
    "В Европе платформы распределены равномерно, это значит, что есть конкуренция, спрос и продажи.\n",
    "\n",
    "Большую часть продаж в Японии занимают национальные платформы, которые продаются полностью или преимущественно в Японии (3DS, PSP, PSV,).\n",
    "Платформы WiiU, PS3 популярны одинаково как в Японии так и в других странах.\n",
    "В Северной Америке платформы распределены ещё более равномерно чем даже в Европе, что говорит о самой высокой конкуренции, а также о стабильном спросе."
   ]
  },
  {
   "cell_type": "code",
   "execution_count": 51,
   "metadata": {},
   "outputs": [],
   "source": [
    "#Определим для пользователя каждого региона (NA, EU, JP): Самые популярные жанры (топ-5). Поясним разницу.\n",
    "na_top_genre = data_2015_2016.groupby(\"genre\")[\"na_sales\"].sum()\n",
    "eu_top_genre = data_2015_2016.groupby(\"genre\")[\"eu_sales\"].sum()\n",
    "jp_top_genre = data_2015_2016.groupby(\"genre\")[\"jp_sales\"].sum()"
   ]
  },
  {
   "cell_type": "code",
   "execution_count": 52,
   "metadata": {},
   "outputs": [
    {
     "name": "stdout",
     "output_type": "stream",
     "text": [
      "genre\n",
      "Shooter         48.18\n",
      "Action          33.68\n",
      "Sports          26.31\n",
      "Role-Playing    19.82\n",
      "Misc             5.58\n",
      "Name: na_sales, dtype: float64\n"
     ]
    },
    {
     "data": {
      "text/plain": [
       "[]"
      ]
     },
     "execution_count": 52,
     "metadata": {},
     "output_type": "execute_result"
    },
    {
     "data": {
      "image/png": "[encoded data removed]",
      "text/plain": [
       "<Figure size 432x288 with 1 Axes>"
      ]
     },
     "metadata": {
      "needs_background": "light"
     },
     "output_type": "display_data"
    }
   ],
   "source": [
    "print(na_top_genre.sort_values(ascending = False).head(5))\n",
    "na_top_genre.sort_values(ascending = False).head(5).plot(kind = \"bar\")\n",
    "plt.plot()"
   ]
  },
  {
   "cell_type": "markdown",
   "metadata": {},
   "source": [
    "Самые популярные жанры в Северной Америке: Shooter, Action, Sports"
   ]
  },
  {
   "cell_type": "code",
   "execution_count": 53,
   "metadata": {},
   "outputs": [
    {
     "name": "stdout",
     "output_type": "stream",
     "text": [
      "genre\n",
      "Shooter         40.28\n",
      "Action          34.82\n",
      "Sports          27.82\n",
      "Role-Playing    17.21\n",
      "Racing           6.52\n",
      "Name: eu_sales, dtype: float64\n"
     ]
    },
    {
     "data": {
      "text/plain": [
       "[]"
      ]
     },
     "execution_count": 53,
     "metadata": {},
     "output_type": "execute_result"
    },
    {
     "data": {
      "image/png": "[encoded data removed]",
      "text/plain": [
       "<Figure size 432x288 with 1 Axes>"
      ]
     },
     "metadata": {
      "needs_background": "light"
     },
     "output_type": "display_data"
    }
   ],
   "source": [
    "print(eu_top_genre.sort_values(ascending = False).head(5))\n",
    "eu_top_genre.sort_values(ascending = False).head(5).plot(kind = \"bar\")\n",
    "plt.plot()"
   ]
  },
  {
   "cell_type": "markdown",
   "metadata": {},
   "source": [
    "Самые популярные жанры в Европе: Shooter, Action, Sports"
   ]
  },
  {
   "cell_type": "code",
   "execution_count": 54,
   "metadata": {},
   "outputs": [
    {
     "name": "stdout",
     "output_type": "stream",
     "text": [
      "genre\n",
      "Action          23.05\n",
      "Role-Playing    13.41\n",
      "Shooter          3.79\n",
      "Misc             3.19\n",
      "Adventure        2.22\n",
      "Name: jp_sales, dtype: float64\n"
     ]
    },
    {
     "data": {
      "text/plain": [
       "[]"
      ]
     },
     "execution_count": 54,
     "metadata": {},
     "output_type": "execute_result"
    },
    {
     "data": {
      "image/png": "[encoded data removed]",
      "text/plain": [
       "<Figure size 432x288 with 1 Axes>"
      ]
     },
     "metadata": {
      "needs_background": "light"
     },
     "output_type": "display_data"
    }
   ],
   "source": [
    "print(jp_top_genre.sort_values(ascending = False).head(5))\n",
    "jp_top_genre.sort_values(ascending = False).head(5).plot(kind = \"bar\")\n",
    "plt.plot()"
   ]
  },
  {
   "cell_type": "markdown",
   "metadata": {},
   "source": [
    "Самые популярные жанры в Японии: Action, Role-Playing"
   ]
  },
  {
   "cell_type": "code",
   "execution_count": 55,
   "metadata": {},
   "outputs": [],
   "source": [
    "#Определим для пользователя каждого региона (NA, EU, JP): Влияет ли рейтинг ESRB на продажи в отдельном регионе?\n",
    "na_top_rating = data_2015_2016.groupby(\"rating\")[\"na_sales\"].sum()\n",
    "eu_top_rating = data_2015_2016.groupby(\"rating\")[\"eu_sales\"].sum()\n",
    "jp_top_rating = data_2015_2016.groupby(\"rating\")[\"jp_sales\"].sum()"
   ]
  },
  {
   "cell_type": "code",
   "execution_count": 56,
   "metadata": {},
   "outputs": [
    {
     "name": "stdout",
     "output_type": "stream",
     "text": [
      "rating\n",
      "M             47.03\n",
      "неизвестно    37.44\n",
      "E             26.59\n",
      "T             22.86\n",
      "E10+          17.87\n",
      "Name: na_sales, dtype: float64\n"
     ]
    },
    {
     "data": {
      "text/plain": [
       "[]"
      ]
     },
     "execution_count": 56,
     "metadata": {},
     "output_type": "execute_result"
    },
    {
     "data": {
      "image/png": "[encoded data removed]",
      "text/plain": [
       "<Figure size 432x288 with 1 Axes>"
      ]
     },
     "metadata": {
      "needs_background": "light"
     },
     "output_type": "display_data"
    }
   ],
   "source": [
    "print(na_top_rating.sort_values(ascending = False).head(5))\n",
    "na_top_rating.sort_values(ascending = False).head(5).plot(kind = \"bar\")\n",
    "plt.plot()"
   ]
  },
  {
   "cell_type": "markdown",
   "metadata": {},
   "source": [
    "По рейтингу ESRB самые популярные игры в Северной Америке - Для взрослых (M), для всех (E), для подростков (T)"
   ]
  },
  {
   "cell_type": "code",
   "execution_count": 57,
   "metadata": {},
   "outputs": [
    {
     "name": "stdout",
     "output_type": "stream",
     "text": [
      "rating\n",
      "M             45.54\n",
      "неизвестно    35.71\n",
      "E             34.83\n",
      "T             20.32\n",
      "E10+          11.54\n",
      "Name: eu_sales, dtype: float64\n"
     ]
    },
    {
     "data": {
      "text/plain": [
       "[]"
      ]
     },
     "execution_count": 57,
     "metadata": {},
     "output_type": "execute_result"
    },
    {
     "data": {
      "image/png": "[encoded data removed]",
      "text/plain": [
       "<Figure size 432x288 with 1 Axes>"
      ]
     },
     "metadata": {
      "needs_background": "light"
     },
     "output_type": "display_data"
    }
   ],
   "source": [
    "print(eu_top_rating.sort_values(ascending = False).head(5))\n",
    "eu_top_rating.sort_values(ascending = False).head(5).plot(kind = \"bar\")\n",
    "plt.plot()"
   ]
  },
  {
   "cell_type": "markdown",
   "metadata": {},
   "source": [
    "По рейтингу ESRB самые популярные игры в Европе - Для взрослых (M), с неизвестным рейтингом, для всех (E), для подростков (T)"
   ]
  },
  {
   "cell_type": "code",
   "execution_count": 58,
   "metadata": {},
   "outputs": [
    {
     "name": "stdout",
     "output_type": "stream",
     "text": [
      "rating\n",
      "неизвестно    32.89\n",
      "T              7.70\n",
      "E              5.25\n",
      "M              4.29\n",
      "E10+           3.27\n",
      "Name: jp_sales, dtype: float64\n"
     ]
    },
    {
     "data": {
      "text/plain": [
       "[]"
      ]
     },
     "execution_count": 58,
     "metadata": {},
     "output_type": "execute_result"
    },
    {
     "data": {
      "image/png": "[encoded data removed]",
      "text/plain": [
       "<Figure size 432x288 with 1 Axes>"
      ]
     },
     "metadata": {
      "needs_background": "light"
     },
     "output_type": "display_data"
    }
   ],
   "source": [
    "print(jp_top_rating.sort_values(ascending = False).head(5))\n",
    "jp_top_rating.sort_values(ascending = False).head(5).plot(kind = \"bar\")\n",
    "plt.plot()"
   ]
  },
  {
   "cell_type": "markdown",
   "metadata": {},
   "source": [
    "По рейтингу ESRB самые популярные игры в Японии - для подростков (T), для всех (E), для взрослых (M), но самые популярные игры с неизвестным рейтиногом "
   ]
  },
  {
   "cell_type": "markdown",
   "metadata": {},
   "source": [
    "# Шаг 5. Проверим гипотезы\n"
   ]
  },
  {
   "cell_type": "markdown",
   "metadata": {},
   "source": [
    "**Проверим гипотезу, что средние пользовательские рейтинги платформ Xbox One и PC одинаковые;**\n",
    "\n",
    "H_0: Рейтинг (user_score) пользователей платформ Xbox One = рейтинг (user_score) пользователей платформ PC `\n",
    "\n",
    "H_1: Рейтинг (user_score) пользователей платформ Xbox One ≠ рейтинг (user_score) пользователей платформ PC`\n",
    "\n",
    "alpha = 0.05"
   ]
  },
  {
   "cell_type": "code",
   "execution_count": 59,
   "metadata": {},
   "outputs": [],
   "source": [
    "from scipy import stats as st"
   ]
  },
  {
   "cell_type": "code",
   "execution_count": 60,
   "metadata": {},
   "outputs": [
    {
     "data": {
      "text/html": [
       "<div>\n",
       "<style scoped>\n",
       "    .dataframe tbody tr th:only-of-type {\n",
       "        vertical-align: middle;\n",
       "    }\n",
       "\n",
       "    .dataframe tbody tr th {\n",
       "        vertical-align: top;\n",
       "    }\n",
       "\n",
       "    .dataframe thead th {\n",
       "        text-align: right;\n",
       "    }\n",
       "</style>\n",
       "<table border=\"1\" class=\"dataframe\">\n",
       "  <thead>\n",
       "    <tr style=\"text-align: right;\">\n",
       "      <th></th>\n",
       "      <th>name</th>\n",
       "      <th>platform</th>\n",
       "      <th>year_of_release</th>\n",
       "      <th>genre</th>\n",
       "      <th>na_sales</th>\n",
       "      <th>eu_sales</th>\n",
       "      <th>jp_sales</th>\n",
       "      <th>other_sales</th>\n",
       "      <th>critic_score</th>\n",
       "      <th>user_score</th>\n",
       "      <th>rating</th>\n",
       "      <th>sales_sum</th>\n",
       "    </tr>\n",
       "  </thead>\n",
       "  <tbody>\n",
       "    <tr>\n",
       "      <th>77</th>\n",
       "      <td>FIFA 16</td>\n",
       "      <td>PS4</td>\n",
       "      <td>2015</td>\n",
       "      <td>Sports</td>\n",
       "      <td>1.12</td>\n",
       "      <td>6.12</td>\n",
       "      <td>0.06</td>\n",
       "      <td>1.28</td>\n",
       "      <td>82.0</td>\n",
       "      <td>4.3</td>\n",
       "      <td>E</td>\n",
       "      <td>8.58</td>\n",
       "    </tr>\n",
       "    <tr>\n",
       "      <th>94</th>\n",
       "      <td>FIFA 17</td>\n",
       "      <td>PS4</td>\n",
       "      <td>2016</td>\n",
       "      <td>Sports</td>\n",
       "      <td>0.66</td>\n",
       "      <td>5.75</td>\n",
       "      <td>0.08</td>\n",
       "      <td>1.11</td>\n",
       "      <td>85.0</td>\n",
       "      <td>5.0</td>\n",
       "      <td>E</td>\n",
       "      <td>7.60</td>\n",
       "    </tr>\n",
       "    <tr>\n",
       "      <th>105</th>\n",
       "      <td>Fallout 4</td>\n",
       "      <td>PS4</td>\n",
       "      <td>2015</td>\n",
       "      <td>Role-Playing</td>\n",
       "      <td>2.53</td>\n",
       "      <td>3.27</td>\n",
       "      <td>0.24</td>\n",
       "      <td>1.13</td>\n",
       "      <td>87.0</td>\n",
       "      <td>6.5</td>\n",
       "      <td>M</td>\n",
       "      <td>7.17</td>\n",
       "    </tr>\n",
       "    <tr>\n",
       "      <th>171</th>\n",
       "      <td>Uncharted 4: A Thief's End</td>\n",
       "      <td>PS4</td>\n",
       "      <td>2016</td>\n",
       "      <td>Shooter</td>\n",
       "      <td>1.85</td>\n",
       "      <td>2.50</td>\n",
       "      <td>0.19</td>\n",
       "      <td>0.85</td>\n",
       "      <td>93.0</td>\n",
       "      <td>7.9</td>\n",
       "      <td>T</td>\n",
       "      <td>5.39</td>\n",
       "    </tr>\n",
       "    <tr>\n",
       "      <th>231</th>\n",
       "      <td>Uncharted: The Nathan Drake Collection</td>\n",
       "      <td>PS4</td>\n",
       "      <td>2015</td>\n",
       "      <td>Action</td>\n",
       "      <td>2.07</td>\n",
       "      <td>1.71</td>\n",
       "      <td>0.08</td>\n",
       "      <td>0.76</td>\n",
       "      <td>86.0</td>\n",
       "      <td>8.1</td>\n",
       "      <td>T</td>\n",
       "      <td>4.62</td>\n",
       "    </tr>\n",
       "    <tr>\n",
       "      <th>...</th>\n",
       "      <td>...</td>\n",
       "      <td>...</td>\n",
       "      <td>...</td>\n",
       "      <td>...</td>\n",
       "      <td>...</td>\n",
       "      <td>...</td>\n",
       "      <td>...</td>\n",
       "      <td>...</td>\n",
       "      <td>...</td>\n",
       "      <td>...</td>\n",
       "      <td>...</td>\n",
       "      <td>...</td>\n",
       "    </tr>\n",
       "    <tr>\n",
       "      <th>16544</th>\n",
       "      <td>Assassin's Creed Chronicles</td>\n",
       "      <td>XOne</td>\n",
       "      <td>2016</td>\n",
       "      <td>Action</td>\n",
       "      <td>0.00</td>\n",
       "      <td>0.01</td>\n",
       "      <td>0.00</td>\n",
       "      <td>0.00</td>\n",
       "      <td>-1.0</td>\n",
       "      <td>6.8</td>\n",
       "      <td>T</td>\n",
       "      <td>0.01</td>\n",
       "    </tr>\n",
       "    <tr>\n",
       "      <th>16597</th>\n",
       "      <td>Saints Row: Gat out of Hell</td>\n",
       "      <td>XOne</td>\n",
       "      <td>2015</td>\n",
       "      <td>Action</td>\n",
       "      <td>0.00</td>\n",
       "      <td>0.01</td>\n",
       "      <td>0.00</td>\n",
       "      <td>0.00</td>\n",
       "      <td>65.0</td>\n",
       "      <td>6.0</td>\n",
       "      <td>M</td>\n",
       "      <td>0.01</td>\n",
       "    </tr>\n",
       "    <tr>\n",
       "      <th>16630</th>\n",
       "      <td>Sébastien Loeb Rally Evo</td>\n",
       "      <td>XOne</td>\n",
       "      <td>2016</td>\n",
       "      <td>Racing</td>\n",
       "      <td>0.00</td>\n",
       "      <td>0.01</td>\n",
       "      <td>0.00</td>\n",
       "      <td>0.00</td>\n",
       "      <td>63.0</td>\n",
       "      <td>8.2</td>\n",
       "      <td>E</td>\n",
       "      <td>0.01</td>\n",
       "    </tr>\n",
       "    <tr>\n",
       "      <th>16643</th>\n",
       "      <td>Rugby Challenge 3</td>\n",
       "      <td>XOne</td>\n",
       "      <td>2016</td>\n",
       "      <td>Sports</td>\n",
       "      <td>0.00</td>\n",
       "      <td>0.01</td>\n",
       "      <td>0.00</td>\n",
       "      <td>0.00</td>\n",
       "      <td>-1.0</td>\n",
       "      <td>6.6</td>\n",
       "      <td>E</td>\n",
       "      <td>0.01</td>\n",
       "    </tr>\n",
       "    <tr>\n",
       "      <th>16660</th>\n",
       "      <td>Prison Architect</td>\n",
       "      <td>XOne</td>\n",
       "      <td>2016</td>\n",
       "      <td>Action</td>\n",
       "      <td>0.01</td>\n",
       "      <td>0.00</td>\n",
       "      <td>0.00</td>\n",
       "      <td>0.00</td>\n",
       "      <td>74.0</td>\n",
       "      <td>6.7</td>\n",
       "      <td>неизвестно</td>\n",
       "      <td>0.01</td>\n",
       "    </tr>\n",
       "  </tbody>\n",
       "</table>\n",
       "<p>311 rows × 12 columns</p>\n",
       "</div>"
      ],
      "text/plain": [
       "                                         name platform  year_of_release  \\\n",
       "77                                    FIFA 16      PS4             2015   \n",
       "94                                    FIFA 17      PS4             2016   \n",
       "105                                 Fallout 4      PS4             2015   \n",
       "171                Uncharted 4: A Thief's End      PS4             2016   \n",
       "231    Uncharted: The Nathan Drake Collection      PS4             2015   \n",
       "...                                       ...      ...              ...   \n",
       "16544             Assassin's Creed Chronicles     XOne             2016   \n",
       "16597             Saints Row: Gat out of Hell     XOne             2015   \n",
       "16630                Sébastien Loeb Rally Evo     XOne             2016   \n",
       "16643                       Rugby Challenge 3     XOne             2016   \n",
       "16660                        Prison Architect     XOne             2016   \n",
       "\n",
       "              genre  na_sales  eu_sales  jp_sales  other_sales  critic_score  \\\n",
       "77           Sports      1.12      6.12      0.06         1.28          82.0   \n",
       "94           Sports      0.66      5.75      0.08         1.11          85.0   \n",
       "105    Role-Playing      2.53      3.27      0.24         1.13          87.0   \n",
       "171         Shooter      1.85      2.50      0.19         0.85          93.0   \n",
       "231          Action      2.07      1.71      0.08         0.76          86.0   \n",
       "...             ...       ...       ...       ...          ...           ...   \n",
       "16544        Action      0.00      0.01      0.00         0.00          -1.0   \n",
       "16597        Action      0.00      0.01      0.00         0.00          65.0   \n",
       "16630        Racing      0.00      0.01      0.00         0.00          63.0   \n",
       "16643        Sports      0.00      0.01      0.00         0.00          -1.0   \n",
       "16660        Action      0.01      0.00      0.00         0.00          74.0   \n",
       "\n",
       "       user_score      rating  sales_sum  \n",
       "77            4.3           E       8.58  \n",
       "94            5.0           E       7.60  \n",
       "105           6.5           M       7.17  \n",
       "171           7.9           T       5.39  \n",
       "231           8.1           T       4.62  \n",
       "...           ...         ...        ...  \n",
       "16544         6.8           T       0.01  \n",
       "16597         6.0           M       0.01  \n",
       "16630         8.2           E       0.01  \n",
       "16643         6.6           E       0.01  \n",
       "16660         6.7  неизвестно       0.01  \n",
       "\n",
       "[311 rows x 12 columns]"
      ]
     },
     "execution_count": 60,
     "metadata": {},
     "output_type": "execute_result"
    }
   ],
   "source": [
    "data_for_hypotesis = data.query(\"2015 <= year_of_release <= 2016 & platform == ['XOne', 'PS4'] & user_score != -1\")\n",
    "data_for_hypotesis"
   ]
  },
  {
   "cell_type": "code",
   "execution_count": 61,
   "metadata": {},
   "outputs": [
    {
     "data": {
      "text/plain": [
       "77       4.3\n",
       "94       5.0\n",
       "105      6.5\n",
       "171      7.9\n",
       "231      8.1\n",
       "        ... \n",
       "16486    2.3\n",
       "16499    6.8\n",
       "16500    7.5\n",
       "16526    7.9\n",
       "16530    5.5\n",
       "Name: user_score, Length: 190, dtype: float64"
      ]
     },
     "execution_count": 61,
     "metadata": {},
     "output_type": "execute_result"
    }
   ],
   "source": [
    "PS4 = data_for_hypotesis.query(\"platform == 'PS4'\")\n",
    "XOne = data_for_hypotesis.query(\"platform == 'XOne'\")\n",
    "PS4[\"user_score\"]"
   ]
  },
  {
   "cell_type": "code",
   "execution_count": 62,
   "metadata": {},
   "outputs": [
    {
     "name": "stdout",
     "output_type": "stream",
     "text": [
      "p-значение: 0.06942429992690709\n",
      "Не получилось отвергнуть нулевую гипотезу\n"
     ]
    }
   ],
   "source": [
    "alpha = 0.05 #задали значение уровня значимости\n",
    "results = st.ttest_ind(\n",
    "    PS4[\"user_score\"], \n",
    "    XOne[\"user_score\"], equal_var = False)\n",
    "    # проверяем гипотезу о равенстве средних двух независимых совокупностей\n",
    "\n",
    "print('p-значение:', results.pvalue) # выводим на экран получившеся p-значение)\n",
    "# вывод значения p-value на экран \n",
    "# условный оператор с выводом строки с ответом\n",
    "if results.pvalue < alpha: # сравниваем получившееся p-значение с заданным уровнем статистической значимости:\n",
    "    print(\"Отвергаем нулевую гипотезу\")\n",
    "else:\n",
    "    print(\"Не получилось отвергнуть нулевую гипотезу\")"
   ]
  },
  {
   "cell_type": "markdown",
   "metadata": {},
   "source": [
    "Нулевая гипотеза состоит в том, что средние пользовательские рейтинги платформ Xbox One и PC одинаковые. \n",
    "Для проверки использованы оценки пользователей по платформам Xbox One и PC.\n",
    "Для оценки использован метод ttest_ind() который рассчитывает вероятность совпадения средних значений p-value. Дисперсии выборок не равны, поэтому параметр равной дисперсии equal_var == False\n",
    "\n",
    "В итоге, не получилось отвергнуть нулевую гипотезу о том, что средние пользовательские рейтинги платформ Xbox One и PC одинаковые."
   ]
  },
  {
   "cell_type": "markdown",
   "metadata": {},
   "source": [
    "**Проверим гипотезу, что средние пользовательские рейтинги жанров Action (англ. «действие», экшен-игры) и Sports (англ. «спортивные соревнования») разные**\n",
    "\n",
    "H_0: Рейтинг (user_score) пользователей жанра Action = рейтинг (user_score) пользователей жанра Sports `\n",
    "\n",
    "H_1: Рейтинг (user_score) пользователей жанра Action ≠ рейтинг (user_score) пользователей жанра Sports`\n",
    "\n",
    "alpha = 0.05"
   ]
  },
  {
   "cell_type": "code",
   "execution_count": 63,
   "metadata": {},
   "outputs": [
    {
     "data": {
      "text/html": [
       "<div>\n",
       "<style scoped>\n",
       "    .dataframe tbody tr th:only-of-type {\n",
       "        vertical-align: middle;\n",
       "    }\n",
       "\n",
       "    .dataframe tbody tr th {\n",
       "        vertical-align: top;\n",
       "    }\n",
       "\n",
       "    .dataframe thead th {\n",
       "        text-align: right;\n",
       "    }\n",
       "</style>\n",
       "<table border=\"1\" class=\"dataframe\">\n",
       "  <thead>\n",
       "    <tr style=\"text-align: right;\">\n",
       "      <th></th>\n",
       "      <th>name</th>\n",
       "      <th>platform</th>\n",
       "      <th>year_of_release</th>\n",
       "      <th>genre</th>\n",
       "      <th>na_sales</th>\n",
       "      <th>eu_sales</th>\n",
       "      <th>jp_sales</th>\n",
       "      <th>other_sales</th>\n",
       "      <th>critic_score</th>\n",
       "      <th>user_score</th>\n",
       "      <th>rating</th>\n",
       "      <th>sales_sum</th>\n",
       "    </tr>\n",
       "  </thead>\n",
       "  <tbody>\n",
       "    <tr>\n",
       "      <th>77</th>\n",
       "      <td>FIFA 16</td>\n",
       "      <td>PS4</td>\n",
       "      <td>2015</td>\n",
       "      <td>Sports</td>\n",
       "      <td>1.12</td>\n",
       "      <td>6.12</td>\n",
       "      <td>0.06</td>\n",
       "      <td>1.28</td>\n",
       "      <td>82.0</td>\n",
       "      <td>4.3</td>\n",
       "      <td>E</td>\n",
       "      <td>8.58</td>\n",
       "    </tr>\n",
       "    <tr>\n",
       "      <th>94</th>\n",
       "      <td>FIFA 17</td>\n",
       "      <td>PS4</td>\n",
       "      <td>2016</td>\n",
       "      <td>Sports</td>\n",
       "      <td>0.66</td>\n",
       "      <td>5.75</td>\n",
       "      <td>0.08</td>\n",
       "      <td>1.11</td>\n",
       "      <td>85.0</td>\n",
       "      <td>5.0</td>\n",
       "      <td>E</td>\n",
       "      <td>7.60</td>\n",
       "    </tr>\n",
       "    <tr>\n",
       "      <th>231</th>\n",
       "      <td>Uncharted: The Nathan Drake Collection</td>\n",
       "      <td>PS4</td>\n",
       "      <td>2015</td>\n",
       "      <td>Action</td>\n",
       "      <td>2.07</td>\n",
       "      <td>1.71</td>\n",
       "      <td>0.08</td>\n",
       "      <td>0.76</td>\n",
       "      <td>86.0</td>\n",
       "      <td>8.1</td>\n",
       "      <td>T</td>\n",
       "      <td>4.62</td>\n",
       "    </tr>\n",
       "    <tr>\n",
       "      <th>305</th>\n",
       "      <td>Batman: Arkham Knight</td>\n",
       "      <td>PS4</td>\n",
       "      <td>2015</td>\n",
       "      <td>Action</td>\n",
       "      <td>1.53</td>\n",
       "      <td>1.69</td>\n",
       "      <td>0.10</td>\n",
       "      <td>0.64</td>\n",
       "      <td>87.0</td>\n",
       "      <td>7.6</td>\n",
       "      <td>M</td>\n",
       "      <td>3.96</td>\n",
       "    </tr>\n",
       "    <tr>\n",
       "      <th>314</th>\n",
       "      <td>NBA 2K16</td>\n",
       "      <td>PS4</td>\n",
       "      <td>2015</td>\n",
       "      <td>Sports</td>\n",
       "      <td>2.49</td>\n",
       "      <td>0.66</td>\n",
       "      <td>0.03</td>\n",
       "      <td>0.69</td>\n",
       "      <td>87.0</td>\n",
       "      <td>6.7</td>\n",
       "      <td>E10+</td>\n",
       "      <td>3.87</td>\n",
       "    </tr>\n",
       "    <tr>\n",
       "      <th>...</th>\n",
       "      <td>...</td>\n",
       "      <td>...</td>\n",
       "      <td>...</td>\n",
       "      <td>...</td>\n",
       "      <td>...</td>\n",
       "      <td>...</td>\n",
       "      <td>...</td>\n",
       "      <td>...</td>\n",
       "      <td>...</td>\n",
       "      <td>...</td>\n",
       "      <td>...</td>\n",
       "      <td>...</td>\n",
       "    </tr>\n",
       "    <tr>\n",
       "      <th>16544</th>\n",
       "      <td>Assassin's Creed Chronicles</td>\n",
       "      <td>XOne</td>\n",
       "      <td>2016</td>\n",
       "      <td>Action</td>\n",
       "      <td>0.00</td>\n",
       "      <td>0.01</td>\n",
       "      <td>0.00</td>\n",
       "      <td>0.00</td>\n",
       "      <td>-1.0</td>\n",
       "      <td>6.8</td>\n",
       "      <td>T</td>\n",
       "      <td>0.01</td>\n",
       "    </tr>\n",
       "    <tr>\n",
       "      <th>16597</th>\n",
       "      <td>Saints Row: Gat out of Hell</td>\n",
       "      <td>XOne</td>\n",
       "      <td>2015</td>\n",
       "      <td>Action</td>\n",
       "      <td>0.00</td>\n",
       "      <td>0.01</td>\n",
       "      <td>0.00</td>\n",
       "      <td>0.00</td>\n",
       "      <td>65.0</td>\n",
       "      <td>6.0</td>\n",
       "      <td>M</td>\n",
       "      <td>0.01</td>\n",
       "    </tr>\n",
       "    <tr>\n",
       "      <th>16643</th>\n",
       "      <td>Rugby Challenge 3</td>\n",
       "      <td>XOne</td>\n",
       "      <td>2016</td>\n",
       "      <td>Sports</td>\n",
       "      <td>0.00</td>\n",
       "      <td>0.01</td>\n",
       "      <td>0.00</td>\n",
       "      <td>0.00</td>\n",
       "      <td>-1.0</td>\n",
       "      <td>6.6</td>\n",
       "      <td>E</td>\n",
       "      <td>0.01</td>\n",
       "    </tr>\n",
       "    <tr>\n",
       "      <th>16652</th>\n",
       "      <td>Fast Racing Neo</td>\n",
       "      <td>WiiU</td>\n",
       "      <td>2016</td>\n",
       "      <td>Action</td>\n",
       "      <td>0.00</td>\n",
       "      <td>0.01</td>\n",
       "      <td>0.00</td>\n",
       "      <td>0.00</td>\n",
       "      <td>81.0</td>\n",
       "      <td>8.5</td>\n",
       "      <td>E</td>\n",
       "      <td>0.01</td>\n",
       "    </tr>\n",
       "    <tr>\n",
       "      <th>16660</th>\n",
       "      <td>Prison Architect</td>\n",
       "      <td>XOne</td>\n",
       "      <td>2016</td>\n",
       "      <td>Action</td>\n",
       "      <td>0.01</td>\n",
       "      <td>0.00</td>\n",
       "      <td>0.00</td>\n",
       "      <td>0.00</td>\n",
       "      <td>74.0</td>\n",
       "      <td>6.7</td>\n",
       "      <td>неизвестно</td>\n",
       "      <td>0.01</td>\n",
       "    </tr>\n",
       "  </tbody>\n",
       "</table>\n",
       "<p>275 rows × 12 columns</p>\n",
       "</div>"
      ],
      "text/plain": [
       "                                         name platform  year_of_release  \\\n",
       "77                                    FIFA 16      PS4             2015   \n",
       "94                                    FIFA 17      PS4             2016   \n",
       "231    Uncharted: The Nathan Drake Collection      PS4             2015   \n",
       "305                     Batman: Arkham Knight      PS4             2015   \n",
       "314                                  NBA 2K16      PS4             2015   \n",
       "...                                       ...      ...              ...   \n",
       "16544             Assassin's Creed Chronicles     XOne             2016   \n",
       "16597             Saints Row: Gat out of Hell     XOne             2015   \n",
       "16643                       Rugby Challenge 3     XOne             2016   \n",
       "16652                        Fast Racing Neo      WiiU             2016   \n",
       "16660                        Prison Architect     XOne             2016   \n",
       "\n",
       "        genre  na_sales  eu_sales  jp_sales  other_sales  critic_score  \\\n",
       "77     Sports      1.12      6.12      0.06         1.28          82.0   \n",
       "94     Sports      0.66      5.75      0.08         1.11          85.0   \n",
       "231    Action      2.07      1.71      0.08         0.76          86.0   \n",
       "305    Action      1.53      1.69      0.10         0.64          87.0   \n",
       "314    Sports      2.49      0.66      0.03         0.69          87.0   \n",
       "...       ...       ...       ...       ...          ...           ...   \n",
       "16544  Action      0.00      0.01      0.00         0.00          -1.0   \n",
       "16597  Action      0.00      0.01      0.00         0.00          65.0   \n",
       "16643  Sports      0.00      0.01      0.00         0.00          -1.0   \n",
       "16652  Action      0.00      0.01      0.00         0.00          81.0   \n",
       "16660  Action      0.01      0.00      0.00         0.00          74.0   \n",
       "\n",
       "       user_score      rating  sales_sum  \n",
       "77            4.3           E       8.58  \n",
       "94            5.0           E       7.60  \n",
       "231           8.1           T       4.62  \n",
       "305           7.6           M       3.96  \n",
       "314           6.7        E10+       3.87  \n",
       "...           ...         ...        ...  \n",
       "16544         6.8           T       0.01  \n",
       "16597         6.0           M       0.01  \n",
       "16643         6.6           E       0.01  \n",
       "16652         8.5           E       0.01  \n",
       "16660         6.7  неизвестно       0.01  \n",
       "\n",
       "[275 rows x 12 columns]"
      ]
     },
     "execution_count": 63,
     "metadata": {},
     "output_type": "execute_result"
    }
   ],
   "source": [
    "data_for_hypotesis_action = data.query(\"2015 <= year_of_release <= 2016 & genre == ['Action', 'Sports'] & user_score != -1\")\n",
    "data_for_hypotesis_action"
   ]
  },
  {
   "cell_type": "code",
   "execution_count": 64,
   "metadata": {},
   "outputs": [],
   "source": [
    "action = data_for_hypotesis_action.query(\"genre == 'Action'\")\n",
    "sports = data_for_hypotesis_action.query(\"genre == 'Sports'\")"
   ]
  },
  {
   "cell_type": "code",
   "execution_count": 65,
   "metadata": {},
   "outputs": [
    {
     "name": "stdout",
     "output_type": "stream",
     "text": [
      "p-значение: 5.97163549920592e-10\n",
      "Отвергаем нулевую гипотезу\n"
     ]
    }
   ],
   "source": [
    "#Проверим гипотезу, что средние пользовательские рейтинги жанров Action (англ. «действие», экшен-игры) и Sports (англ. «спортивные соревнования») разные.\n",
    "alpha = 0.05 #задали значение уровня значимости\n",
    "results = st.ttest_ind(\n",
    "    action[\"user_score\"], \n",
    "    sports[\"user_score\"], equal_var = False)\n",
    "    # проверяем гипотезу о равенстве средних двух независимых совокупностей\n",
    "\n",
    "print('p-значение:', results.pvalue) # выводим на экран получившеся p-значение)\n",
    "# вывод значения p-value на экран \n",
    "# условный оператор с выводом строки с ответом\n",
    "if results.pvalue < alpha: # сравниваем получившееся p-значение с заданным уровнем статистической значимости:\n",
    "    print(\"Отвергаем нулевую гипотезу\")\n",
    "else:\n",
    "    print(\"Не получилось отвергнуть нулевую гипотезу\")"
   ]
  },
  {
   "cell_type": "markdown",
   "metadata": {},
   "source": [
    "Проверили гипотезу о том, что средние пользовательские рейтинги жанров Action (англ. «действие», экшен-игры) и Sports (англ. «спортивные соревнования») разные. Для оценки использован метод ttest_ind() который рассчитывает вероятность совпадения средних значений p-value. Дисперсии выборок не равны, поэтому параметр равной дисперсии equal_var == False\n",
    "\n",
    "Не получилось отвергнуть нулевую гипотезу о том, что средние пользовательские рейтинги жанров Action и Sports разные. Т.к. полученная вероятность совпадения значений меньше критического уровня статистической значимости"
   ]
  },
  {
   "cell_type": "markdown",
   "metadata": {},
   "source": [
    "# Шаг 6. Напишем общий вывод\n"
   ]
  },
  {
   "cell_type": "markdown",
   "metadata": {},
   "source": [
    "1) Было вначале нам предоставлено 16713 данных по видеоиграм, продаваемых по всему миру, после корректировки и удаления некоторых пропущенных данных нами проанализтировнао 16444\n",
    "2) Больше всего выручку получают платформы PS4 и XOne\n",
    "3) При анализе платформ из ТОП-10. Вывод об отсутствии зависимости подтверждается. Анализ не выявил сильной зависимости продаж от каких либо отзывов.\n",
    "4) По глобальным продажам есть три выдяляющихся жанра являеются Shooter, Sports, Role-Playing\n",
    "5) По статическому тесту определили, что средние пользовательские рейтинги платформ Xbox One и PC одинаковы\n",
    "6) По статическому тесту определили, что средние пользовательские рейтинги жанров Action и Sports разные\n",
    "7)В Европе платформы распределены равномерно, это значит, что есть конкуренция, спрос и продажи.\n",
    "Большую часть продаж в Японии занимают национальные платформы, которые продаются полностью или преимущественно в Японии (3DS, PSP, PSV,). В Северной Америке платформы распределены ещё более равномерно чем даже в Европе, что говорит о самой высокой конкуренции, а также о стабильном спросе."
   ]
  }
 ],
 "metadata": {
  "ExecuteTimeLog": [
   {
    "duration": 497,
    "start_time": "2023-01-19T19:23:01.737Z"
   },
   {
    "duration": 55,
    "start_time": "2023-01-19T19:32:12.561Z"
   },
   {
    "duration": 3,
    "start_time": "2023-01-19T19:32:18.892Z"
   },
   {
    "duration": 21,
    "start_time": "2023-01-19T19:32:21.682Z"
   },
   {
    "duration": 17,
    "start_time": "2023-01-19T19:42:59.332Z"
   },
   {
    "duration": 17,
    "start_time": "2023-01-19T19:45:06.031Z"
   },
   {
    "duration": 9,
    "start_time": "2023-01-19T19:45:13.862Z"
   },
   {
    "duration": 7,
    "start_time": "2023-01-19T19:55:45.580Z"
   },
   {
    "duration": 5,
    "start_time": "2023-01-19T19:56:00.881Z"
   },
   {
    "duration": 4,
    "start_time": "2023-01-19T19:56:17.792Z"
   },
   {
    "duration": 4,
    "start_time": "2023-01-19T19:56:36.131Z"
   },
   {
    "duration": 5,
    "start_time": "2023-01-19T19:56:51.011Z"
   },
   {
    "duration": 4,
    "start_time": "2023-01-20T07:05:17.506Z"
   },
   {
    "duration": 0,
    "start_time": "2023-01-20T07:05:17.792Z"
   },
   {
    "duration": 0,
    "start_time": "2023-01-20T07:05:17.796Z"
   },
   {
    "duration": 70,
    "start_time": "2023-01-20T07:05:20.385Z"
   },
   {
    "duration": 3,
    "start_time": "2023-01-20T07:05:27.265Z"
   },
   {
    "duration": 67,
    "start_time": "2023-01-20T07:05:28.565Z"
   },
   {
    "duration": 3,
    "start_time": "2023-01-20T07:05:31.785Z"
   },
   {
    "duration": 20,
    "start_time": "2023-01-20T07:05:34.025Z"
   },
   {
    "duration": 15,
    "start_time": "2023-01-20T07:05:36.705Z"
   },
   {
    "duration": 10,
    "start_time": "2023-01-20T07:05:39.745Z"
   },
   {
    "duration": 17,
    "start_time": "2023-01-20T07:06:47.325Z"
   },
   {
    "duration": 0,
    "start_time": "2023-01-20T07:15:15.433Z"
   },
   {
    "duration": 0,
    "start_time": "2023-01-20T07:15:15.436Z"
   },
   {
    "duration": 14,
    "start_time": "2023-01-20T07:15:44.626Z"
   },
   {
    "duration": 3,
    "start_time": "2023-01-20T07:16:04.286Z"
   },
   {
    "duration": 14,
    "start_time": "2023-01-20T07:16:06.305Z"
   },
   {
    "duration": 18,
    "start_time": "2023-01-20T07:18:19.616Z"
   },
   {
    "duration": 8,
    "start_time": "2023-01-20T07:19:56.839Z"
   },
   {
    "duration": 73,
    "start_time": "2023-01-20T07:20:08.726Z"
   },
   {
    "duration": 7,
    "start_time": "2023-01-20T07:20:18.335Z"
   },
   {
    "duration": 1120,
    "start_time": "2023-01-20T07:22:40.915Z"
   },
   {
    "duration": 1247,
    "start_time": "2023-01-20T07:23:14.606Z"
   },
   {
    "duration": 27,
    "start_time": "2023-01-20T07:23:30.347Z"
   },
   {
    "duration": 8,
    "start_time": "2023-01-20T07:29:52.967Z"
   },
   {
    "duration": 11,
    "start_time": "2023-01-20T07:30:09.130Z"
   },
   {
    "duration": 76,
    "start_time": "2023-01-20T07:30:18.697Z"
   },
   {
    "duration": 12,
    "start_time": "2023-01-20T07:30:25.042Z"
   },
   {
    "duration": 15,
    "start_time": "2023-01-20T07:30:30.576Z"
   },
   {
    "duration": 10,
    "start_time": "2023-01-20T07:30:37.306Z"
   },
   {
    "duration": 14,
    "start_time": "2023-01-20T07:30:40.986Z"
   },
   {
    "duration": 9,
    "start_time": "2023-01-20T07:30:45.896Z"
   },
   {
    "duration": 15,
    "start_time": "2023-01-20T07:32:58.857Z"
   },
   {
    "duration": 9,
    "start_time": "2023-01-20T07:33:09.606Z"
   },
   {
    "duration": 5,
    "start_time": "2023-01-20T07:33:15.428Z"
   },
   {
    "duration": 5,
    "start_time": "2023-01-20T07:33:17.628Z"
   },
   {
    "duration": 1121,
    "start_time": "2023-01-20T07:36:03.977Z"
   },
   {
    "duration": 63,
    "start_time": "2023-01-20T07:36:05.100Z"
   },
   {
    "duration": 3,
    "start_time": "2023-01-20T07:36:05.164Z"
   },
   {
    "duration": 21,
    "start_time": "2023-01-20T07:36:05.169Z"
   },
   {
    "duration": 35,
    "start_time": "2023-01-20T07:36:05.191Z"
   },
   {
    "duration": 30,
    "start_time": "2023-01-20T07:36:05.228Z"
   },
   {
    "duration": 5,
    "start_time": "2023-01-20T07:36:05.259Z"
   },
   {
    "duration": 14,
    "start_time": "2023-01-20T07:36:05.266Z"
   },
   {
    "duration": 14,
    "start_time": "2023-01-20T07:36:05.282Z"
   },
   {
    "duration": 109,
    "start_time": "2023-01-20T07:36:05.298Z"
   },
   {
    "duration": 12,
    "start_time": "2023-01-20T07:36:28.367Z"
   },
   {
    "duration": 9,
    "start_time": "2023-01-20T07:36:40.868Z"
   },
   {
    "duration": 10,
    "start_time": "2023-01-20T07:36:51.617Z"
   },
   {
    "duration": 17,
    "start_time": "2023-01-20T07:37:06.717Z"
   },
   {
    "duration": 6,
    "start_time": "2023-01-20T07:54:05.562Z"
   },
   {
    "duration": 4,
    "start_time": "2023-01-20T07:54:27.023Z"
   },
   {
    "duration": 12,
    "start_time": "2023-01-20T07:54:38.293Z"
   },
   {
    "duration": 4,
    "start_time": "2023-01-20T07:54:53.863Z"
   },
   {
    "duration": 66,
    "start_time": "2023-01-20T07:54:56.324Z"
   },
   {
    "duration": 10,
    "start_time": "2023-01-20T07:55:05.674Z"
   },
   {
    "duration": 5,
    "start_time": "2023-01-20T07:55:08.313Z"
   },
   {
    "duration": 1365,
    "start_time": "2023-01-20T07:57:06.796Z"
   },
   {
    "duration": 67,
    "start_time": "2023-01-20T07:57:08.164Z"
   },
   {
    "duration": 4,
    "start_time": "2023-01-20T07:57:08.232Z"
   },
   {
    "duration": 9,
    "start_time": "2023-01-20T07:57:08.238Z"
   },
   {
    "duration": 6,
    "start_time": "2023-01-20T07:57:08.249Z"
   },
   {
    "duration": 21,
    "start_time": "2023-01-20T07:57:08.257Z"
   },
   {
    "duration": 28,
    "start_time": "2023-01-20T07:57:08.280Z"
   },
   {
    "duration": 18,
    "start_time": "2023-01-20T07:57:08.310Z"
   },
   {
    "duration": 5,
    "start_time": "2023-01-20T07:57:08.354Z"
   },
   {
    "duration": 15,
    "start_time": "2023-01-20T07:57:08.360Z"
   },
   {
    "duration": 11,
    "start_time": "2023-01-20T07:57:08.377Z"
   },
   {
    "duration": 13,
    "start_time": "2023-01-20T07:57:08.389Z"
   },
   {
    "duration": 20,
    "start_time": "2023-01-20T07:57:08.404Z"
   },
   {
    "duration": 27,
    "start_time": "2023-01-20T07:57:08.427Z"
   },
   {
    "duration": 10,
    "start_time": "2023-01-20T07:57:08.456Z"
   },
   {
    "duration": 14,
    "start_time": "2023-01-20T07:57:08.468Z"
   },
   {
    "duration": 2,
    "start_time": "2023-01-20T07:57:08.484Z"
   },
   {
    "duration": 2,
    "start_time": "2023-01-20T07:57:31.923Z"
   },
   {
    "duration": 6,
    "start_time": "2023-01-20T07:57:38.733Z"
   },
   {
    "duration": 7,
    "start_time": "2023-01-20T07:59:54.463Z"
   },
   {
    "duration": 4,
    "start_time": "2023-01-20T08:00:04.403Z"
   },
   {
    "duration": 9,
    "start_time": "2023-01-20T08:00:29.332Z"
   },
   {
    "duration": 12,
    "start_time": "2023-01-20T08:02:28.233Z"
   },
   {
    "duration": 8,
    "start_time": "2023-01-20T08:02:31.963Z"
   },
   {
    "duration": 4,
    "start_time": "2023-01-20T08:02:36.923Z"
   },
   {
    "duration": 1380,
    "start_time": "2023-01-20T14:48:53.617Z"
   },
   {
    "duration": 248,
    "start_time": "2023-01-20T14:48:55.000Z"
   },
   {
    "duration": 4,
    "start_time": "2023-01-20T14:48:55.249Z"
   },
   {
    "duration": 14,
    "start_time": "2023-01-20T14:48:55.255Z"
   },
   {
    "duration": 29,
    "start_time": "2023-01-20T14:48:55.272Z"
   },
   {
    "duration": 50,
    "start_time": "2023-01-20T14:48:55.303Z"
   },
   {
    "duration": 51,
    "start_time": "2023-01-20T14:48:55.355Z"
   },
   {
    "duration": 23,
    "start_time": "2023-01-20T14:48:55.408Z"
   },
   {
    "duration": 13,
    "start_time": "2023-01-20T14:48:55.433Z"
   },
   {
    "duration": 35,
    "start_time": "2023-01-20T14:48:55.447Z"
   },
   {
    "duration": 22,
    "start_time": "2023-01-20T14:48:55.484Z"
   },
   {
    "duration": 34,
    "start_time": "2023-01-20T14:48:55.507Z"
   },
   {
    "duration": 47,
    "start_time": "2023-01-20T14:48:55.543Z"
   },
   {
    "duration": 18,
    "start_time": "2023-01-20T14:48:55.594Z"
   },
   {
    "duration": 31,
    "start_time": "2023-01-20T14:48:55.614Z"
   },
   {
    "duration": 22,
    "start_time": "2023-01-20T14:48:55.647Z"
   },
   {
    "duration": 26,
    "start_time": "2023-01-20T14:48:55.671Z"
   },
   {
    "duration": 35,
    "start_time": "2023-01-20T14:48:55.699Z"
   },
   {
    "duration": 21,
    "start_time": "2023-01-20T14:48:55.736Z"
   },
   {
    "duration": 4,
    "start_time": "2023-01-20T15:18:15.893Z"
   },
   {
    "duration": 13,
    "start_time": "2023-01-20T15:18:25.200Z"
   },
   {
    "duration": 9,
    "start_time": "2023-01-20T15:19:59.549Z"
   },
   {
    "duration": 25,
    "start_time": "2023-01-20T15:20:02.557Z"
   },
   {
    "duration": 30,
    "start_time": "2023-01-20T15:20:16.526Z"
   },
   {
    "duration": 28,
    "start_time": "2023-01-20T15:20:43.034Z"
   },
   {
    "duration": 26,
    "start_time": "2023-01-20T15:25:57.422Z"
   },
   {
    "duration": 100,
    "start_time": "2023-01-20T15:31:36.375Z"
   },
   {
    "duration": 236,
    "start_time": "2023-01-20T15:31:42.778Z"
   },
   {
    "duration": 14,
    "start_time": "2023-01-20T15:31:54.184Z"
   },
   {
    "duration": 20,
    "start_time": "2023-01-20T15:33:23.977Z"
   },
   {
    "duration": 13,
    "start_time": "2023-01-20T15:33:54.137Z"
   },
   {
    "duration": 9,
    "start_time": "2023-01-20T15:34:13.355Z"
   },
   {
    "duration": 7,
    "start_time": "2023-01-20T15:34:21.258Z"
   },
   {
    "duration": 7,
    "start_time": "2023-01-20T15:34:26.571Z"
   },
   {
    "duration": 16,
    "start_time": "2023-01-20T15:34:40.344Z"
   },
   {
    "duration": 53,
    "start_time": "2023-01-20T15:35:08.898Z"
   },
   {
    "duration": 39,
    "start_time": "2023-01-20T15:35:13.823Z"
   },
   {
    "duration": 54,
    "start_time": "2023-01-20T15:35:20.126Z"
   },
   {
    "duration": 51,
    "start_time": "2023-01-20T15:35:50.080Z"
   },
   {
    "duration": 14,
    "start_time": "2023-01-20T15:35:57.788Z"
   },
   {
    "duration": 29,
    "start_time": "2023-01-20T15:36:20.660Z"
   },
   {
    "duration": 16,
    "start_time": "2023-01-20T15:36:52.004Z"
   },
   {
    "duration": 10,
    "start_time": "2023-01-20T16:06:16.870Z"
   },
   {
    "duration": 9,
    "start_time": "2023-01-20T16:06:21.344Z"
   },
   {
    "duration": 157,
    "start_time": "2023-01-20T16:06:29.040Z"
   },
   {
    "duration": 45,
    "start_time": "2023-01-20T16:07:31.621Z"
   },
   {
    "duration": 4,
    "start_time": "2023-01-20T16:07:35.331Z"
   },
   {
    "duration": 33,
    "start_time": "2023-01-20T16:08:44.444Z"
   },
   {
    "duration": 11,
    "start_time": "2023-01-20T16:08:44.479Z"
   },
   {
    "duration": 849,
    "start_time": "2023-01-20T16:09:14.979Z"
   },
   {
    "duration": 12,
    "start_time": "2023-01-20T16:09:27.912Z"
   },
   {
    "duration": 14,
    "start_time": "2023-01-20T16:10:00.874Z"
   },
   {
    "duration": 6,
    "start_time": "2023-01-20T16:10:19.178Z"
   },
   {
    "duration": 7,
    "start_time": "2023-01-20T16:10:29.882Z"
   },
   {
    "duration": 5,
    "start_time": "2023-01-20T16:10:41.730Z"
   },
   {
    "duration": 16,
    "start_time": "2023-01-20T16:10:44.330Z"
   },
   {
    "duration": 14,
    "start_time": "2023-01-20T16:11:16.197Z"
   },
   {
    "duration": 13,
    "start_time": "2023-01-20T16:11:22.670Z"
   },
   {
    "duration": 15,
    "start_time": "2023-01-20T16:11:25.313Z"
   },
   {
    "duration": 12,
    "start_time": "2023-01-20T16:11:28.096Z"
   },
   {
    "duration": 15,
    "start_time": "2023-01-20T16:14:04.651Z"
   },
   {
    "duration": 5,
    "start_time": "2023-01-20T16:14:23.707Z"
   },
   {
    "duration": 17,
    "start_time": "2023-01-20T16:15:11.891Z"
   },
   {
    "duration": 20,
    "start_time": "2023-01-20T16:15:47.037Z"
   },
   {
    "duration": 13,
    "start_time": "2023-01-20T16:16:46.992Z"
   },
   {
    "duration": 28,
    "start_time": "2023-01-20T16:16:57.080Z"
   },
   {
    "duration": 31,
    "start_time": "2023-01-20T16:17:09.264Z"
   },
   {
    "duration": 18,
    "start_time": "2023-01-20T16:17:59.224Z"
   },
   {
    "duration": 18,
    "start_time": "2023-01-20T16:18:05.918Z"
   },
   {
    "duration": 7,
    "start_time": "2023-01-20T16:18:17.278Z"
   },
   {
    "duration": 15,
    "start_time": "2023-01-20T16:18:34.793Z"
   },
   {
    "duration": 18,
    "start_time": "2023-01-20T16:18:57.583Z"
   },
   {
    "duration": 16,
    "start_time": "2023-01-20T16:19:59.668Z"
   },
   {
    "duration": 300,
    "start_time": "2023-01-20T16:20:18.457Z"
   },
   {
    "duration": 154,
    "start_time": "2023-01-20T16:20:35.563Z"
   },
   {
    "duration": 1199,
    "start_time": "2023-01-21T10:08:55.905Z"
   },
   {
    "duration": 197,
    "start_time": "2023-01-21T10:08:57.106Z"
   },
   {
    "duration": 4,
    "start_time": "2023-01-21T10:08:57.304Z"
   },
   {
    "duration": 9,
    "start_time": "2023-01-21T10:08:57.309Z"
   },
   {
    "duration": 20,
    "start_time": "2023-01-21T10:08:57.320Z"
   },
   {
    "duration": 32,
    "start_time": "2023-01-21T10:08:57.341Z"
   },
   {
    "duration": 15,
    "start_time": "2023-01-21T10:08:57.375Z"
   },
   {
    "duration": 5,
    "start_time": "2023-01-21T10:08:57.391Z"
   },
   {
    "duration": 7,
    "start_time": "2023-01-21T10:08:57.398Z"
   },
   {
    "duration": 12,
    "start_time": "2023-01-21T10:08:57.406Z"
   },
   {
    "duration": 37,
    "start_time": "2023-01-21T10:08:57.420Z"
   },
   {
    "duration": 17,
    "start_time": "2023-01-21T10:08:57.459Z"
   },
   {
    "duration": 3,
    "start_time": "2023-01-21T10:08:57.477Z"
   },
   {
    "duration": 8,
    "start_time": "2023-01-21T10:08:57.483Z"
   },
   {
    "duration": 8,
    "start_time": "2023-01-21T10:08:57.493Z"
   },
   {
    "duration": 6,
    "start_time": "2023-01-21T10:08:57.502Z"
   },
   {
    "duration": 12,
    "start_time": "2023-01-21T10:08:57.510Z"
   },
   {
    "duration": 45,
    "start_time": "2023-01-21T10:08:57.524Z"
   },
   {
    "duration": 9,
    "start_time": "2023-01-21T10:08:57.571Z"
   },
   {
    "duration": 160,
    "start_time": "2023-01-21T10:08:57.581Z"
   },
   {
    "duration": 16,
    "start_time": "2023-01-21T10:08:57.742Z"
   },
   {
    "duration": 272,
    "start_time": "2023-01-21T10:08:57.760Z"
   },
   {
    "duration": 3,
    "start_time": "2023-01-21T10:08:58.033Z"
   },
   {
    "duration": 8,
    "start_time": "2023-01-21T10:08:58.037Z"
   },
   {
    "duration": 7,
    "start_time": "2023-01-21T10:08:58.048Z"
   },
   {
    "duration": 7,
    "start_time": "2023-01-21T10:08:58.056Z"
   },
   {
    "duration": 71,
    "start_time": "2023-01-21T10:08:58.064Z"
   },
   {
    "duration": 0,
    "start_time": "2023-01-21T10:08:58.136Z"
   },
   {
    "duration": 0,
    "start_time": "2023-01-21T10:08:58.137Z"
   },
   {
    "duration": 4,
    "start_time": "2023-01-21T10:48:17.502Z"
   },
   {
    "duration": 1080,
    "start_time": "2023-01-21T10:51:08.509Z"
   },
   {
    "duration": 64,
    "start_time": "2023-01-21T10:51:09.591Z"
   },
   {
    "duration": 3,
    "start_time": "2023-01-21T10:51:09.657Z"
   },
   {
    "duration": 6,
    "start_time": "2023-01-21T10:51:09.662Z"
   },
   {
    "duration": 19,
    "start_time": "2023-01-21T10:51:09.669Z"
   },
   {
    "duration": 25,
    "start_time": "2023-01-21T10:51:09.689Z"
   },
   {
    "duration": 12,
    "start_time": "2023-01-21T10:51:09.715Z"
   },
   {
    "duration": 20,
    "start_time": "2023-01-21T10:51:09.728Z"
   },
   {
    "duration": 7,
    "start_time": "2023-01-21T10:51:09.749Z"
   },
   {
    "duration": 10,
    "start_time": "2023-01-21T10:51:09.758Z"
   },
   {
    "duration": 10,
    "start_time": "2023-01-21T10:51:09.770Z"
   },
   {
    "duration": 15,
    "start_time": "2023-01-21T10:51:09.782Z"
   },
   {
    "duration": 3,
    "start_time": "2023-01-21T10:51:09.798Z"
   },
   {
    "duration": 17,
    "start_time": "2023-01-21T10:51:09.802Z"
   },
   {
    "duration": 12,
    "start_time": "2023-01-21T10:51:09.820Z"
   },
   {
    "duration": 15,
    "start_time": "2023-01-21T10:51:09.835Z"
   },
   {
    "duration": 10,
    "start_time": "2023-01-21T10:51:09.852Z"
   },
   {
    "duration": 22,
    "start_time": "2023-01-21T10:51:09.863Z"
   },
   {
    "duration": 10,
    "start_time": "2023-01-21T10:51:09.887Z"
   },
   {
    "duration": 174,
    "start_time": "2023-01-21T10:51:09.899Z"
   },
   {
    "duration": 12,
    "start_time": "2023-01-21T10:51:10.075Z"
   },
   {
    "duration": 270,
    "start_time": "2023-01-21T10:51:10.089Z"
   },
   {
    "duration": 3,
    "start_time": "2023-01-21T10:51:10.361Z"
   },
   {
    "duration": 4,
    "start_time": "2023-01-21T10:51:10.366Z"
   },
   {
    "duration": 5,
    "start_time": "2023-01-21T10:51:10.371Z"
   },
   {
    "duration": 5,
    "start_time": "2023-01-21T10:51:10.377Z"
   },
   {
    "duration": 7,
    "start_time": "2023-01-21T10:51:10.383Z"
   },
   {
    "duration": 70,
    "start_time": "2023-01-21T10:51:10.393Z"
   },
   {
    "duration": 0,
    "start_time": "2023-01-21T10:51:10.464Z"
   },
   {
    "duration": 0,
    "start_time": "2023-01-21T10:51:10.465Z"
   },
   {
    "duration": 99,
    "start_time": "2023-01-21T10:52:12.071Z"
   },
   {
    "duration": 10,
    "start_time": "2023-01-21T10:54:12.865Z"
   },
   {
    "duration": 12,
    "start_time": "2023-01-21T10:54:25.478Z"
   },
   {
    "duration": 177,
    "start_time": "2023-01-21T10:55:35.746Z"
   },
   {
    "duration": 26,
    "start_time": "2023-01-21T10:55:53.094Z"
   },
   {
    "duration": 22,
    "start_time": "2023-01-21T10:55:59.932Z"
   },
   {
    "duration": 268,
    "start_time": "2023-01-21T10:56:13.071Z"
   },
   {
    "duration": 12,
    "start_time": "2023-01-21T10:56:31.727Z"
   },
   {
    "duration": 6,
    "start_time": "2023-01-21T10:57:58.955Z"
   },
   {
    "duration": 15,
    "start_time": "2023-01-21T10:58:04.136Z"
   },
   {
    "duration": 14,
    "start_time": "2023-01-21T10:58:35.090Z"
   },
   {
    "duration": 7,
    "start_time": "2023-01-21T10:58:54.665Z"
   },
   {
    "duration": 8,
    "start_time": "2023-01-21T10:59:23.428Z"
   },
   {
    "duration": 11,
    "start_time": "2023-01-21T11:00:40.105Z"
   },
   {
    "duration": 12,
    "start_time": "2023-01-21T11:01:07.889Z"
   },
   {
    "duration": 11,
    "start_time": "2023-01-21T11:01:19.872Z"
   },
   {
    "duration": 21,
    "start_time": "2023-01-21T11:03:42.422Z"
   },
   {
    "duration": 16,
    "start_time": "2023-01-21T11:04:26.295Z"
   },
   {
    "duration": 24,
    "start_time": "2023-01-21T11:04:31.634Z"
   },
   {
    "duration": 13,
    "start_time": "2023-01-21T11:05:11.260Z"
   },
   {
    "duration": 13,
    "start_time": "2023-01-21T11:06:18.933Z"
   },
   {
    "duration": 19,
    "start_time": "2023-01-21T11:06:39.744Z"
   },
   {
    "duration": 14,
    "start_time": "2023-01-21T11:06:48.718Z"
   },
   {
    "duration": 7,
    "start_time": "2023-01-21T11:07:23.413Z"
   },
   {
    "duration": 9,
    "start_time": "2023-01-21T11:07:34.371Z"
   },
   {
    "duration": 11,
    "start_time": "2023-01-21T11:08:29.844Z"
   },
   {
    "duration": 8,
    "start_time": "2023-01-21T11:08:55.053Z"
   },
   {
    "duration": 10,
    "start_time": "2023-01-21T11:09:00.519Z"
   },
   {
    "duration": 9,
    "start_time": "2023-01-21T11:10:06.659Z"
   },
   {
    "duration": 12,
    "start_time": "2023-01-21T11:10:11.626Z"
   },
   {
    "duration": 11,
    "start_time": "2023-01-21T11:10:16.214Z"
   },
   {
    "duration": 57,
    "start_time": "2023-01-21T11:11:55.575Z"
   },
   {
    "duration": 4,
    "start_time": "2023-01-21T11:11:57.910Z"
   },
   {
    "duration": 1117,
    "start_time": "2023-01-21T11:12:04.039Z"
   },
   {
    "duration": 73,
    "start_time": "2023-01-21T11:12:05.158Z"
   },
   {
    "duration": 7,
    "start_time": "2023-01-21T11:12:05.233Z"
   },
   {
    "duration": 4,
    "start_time": "2023-01-21T11:12:05.242Z"
   },
   {
    "duration": 30,
    "start_time": "2023-01-21T11:12:05.248Z"
   },
   {
    "duration": 39,
    "start_time": "2023-01-21T11:12:05.280Z"
   },
   {
    "duration": 17,
    "start_time": "2023-01-21T11:12:05.321Z"
   },
   {
    "duration": 8,
    "start_time": "2023-01-21T11:12:05.340Z"
   },
   {
    "duration": 7,
    "start_time": "2023-01-21T11:12:05.350Z"
   },
   {
    "duration": 12,
    "start_time": "2023-01-21T11:12:05.360Z"
   },
   {
    "duration": 13,
    "start_time": "2023-01-21T11:12:05.373Z"
   },
   {
    "duration": 14,
    "start_time": "2023-01-21T11:12:05.387Z"
   },
   {
    "duration": 2,
    "start_time": "2023-01-21T11:12:05.402Z"
   },
   {
    "duration": 8,
    "start_time": "2023-01-21T11:12:05.405Z"
   },
   {
    "duration": 9,
    "start_time": "2023-01-21T11:12:05.414Z"
   },
   {
    "duration": 4,
    "start_time": "2023-01-21T11:12:05.448Z"
   },
   {
    "duration": 11,
    "start_time": "2023-01-21T11:12:05.454Z"
   },
   {
    "duration": 23,
    "start_time": "2023-01-21T11:12:05.466Z"
   },
   {
    "duration": 10,
    "start_time": "2023-01-21T11:12:05.490Z"
   },
   {
    "duration": 170,
    "start_time": "2023-01-21T11:12:05.502Z"
   },
   {
    "duration": 12,
    "start_time": "2023-01-21T11:12:05.673Z"
   },
   {
    "duration": 273,
    "start_time": "2023-01-21T11:12:05.686Z"
   },
   {
    "duration": 4,
    "start_time": "2023-01-21T11:12:05.960Z"
   },
   {
    "duration": 22,
    "start_time": "2023-01-21T11:12:05.965Z"
   },
   {
    "duration": 19,
    "start_time": "2023-01-21T11:12:05.988Z"
   },
   {
    "duration": 12,
    "start_time": "2023-01-21T11:12:06.008Z"
   },
   {
    "duration": 18,
    "start_time": "2023-01-21T11:12:06.022Z"
   },
   {
    "duration": 546,
    "start_time": "2023-01-21T11:12:06.044Z"
   },
   {
    "duration": 3,
    "start_time": "2023-01-21T11:12:06.592Z"
   },
   {
    "duration": 6,
    "start_time": "2023-01-21T11:12:06.597Z"
   },
   {
    "duration": 5,
    "start_time": "2023-01-21T11:12:06.605Z"
   },
   {
    "duration": 8,
    "start_time": "2023-01-21T11:12:06.612Z"
   },
   {
    "duration": 70,
    "start_time": "2023-01-21T11:12:06.622Z"
   },
   {
    "duration": 0,
    "start_time": "2023-01-21T11:12:06.694Z"
   },
   {
    "duration": 0,
    "start_time": "2023-01-21T11:12:06.695Z"
   },
   {
    "duration": 752,
    "start_time": "2023-01-21T11:12:32.239Z"
   },
   {
    "duration": 652,
    "start_time": "2023-01-21T11:12:53.018Z"
   },
   {
    "duration": 740,
    "start_time": "2023-01-21T11:13:11.328Z"
   },
   {
    "duration": 746,
    "start_time": "2023-01-21T11:13:36.592Z"
   },
   {
    "duration": 21,
    "start_time": "2023-01-21T11:16:11.716Z"
   },
   {
    "duration": 4,
    "start_time": "2023-01-21T11:16:30.381Z"
   },
   {
    "duration": 6,
    "start_time": "2023-01-21T11:16:54.571Z"
   },
   {
    "duration": 97,
    "start_time": "2023-01-21T11:17:56.460Z"
   },
   {
    "duration": 8,
    "start_time": "2023-01-21T11:18:03.804Z"
   },
   {
    "duration": 10,
    "start_time": "2023-01-21T11:18:12.631Z"
   },
   {
    "duration": 8,
    "start_time": "2023-01-21T11:18:26.503Z"
   },
   {
    "duration": 649,
    "start_time": "2023-01-21T11:19:15.654Z"
   },
   {
    "duration": 2,
    "start_time": "2023-01-21T11:33:39.360Z"
   },
   {
    "duration": 33,
    "start_time": "2023-01-21T12:05:42.327Z"
   },
   {
    "duration": 12,
    "start_time": "2023-01-21T12:06:25.059Z"
   },
   {
    "duration": 16,
    "start_time": "2023-01-21T12:07:04.333Z"
   },
   {
    "duration": 9,
    "start_time": "2023-01-21T12:07:55.079Z"
   },
   {
    "duration": 10,
    "start_time": "2023-01-21T12:08:09.922Z"
   },
   {
    "duration": 11,
    "start_time": "2023-01-21T12:08:44.617Z"
   },
   {
    "duration": 21,
    "start_time": "2023-01-21T12:13:26.983Z"
   },
   {
    "duration": 6,
    "start_time": "2023-01-21T12:14:06.712Z"
   },
   {
    "duration": 22,
    "start_time": "2023-01-21T12:14:11.463Z"
   },
   {
    "duration": 18,
    "start_time": "2023-01-21T12:15:15.681Z"
   },
   {
    "duration": 41,
    "start_time": "2023-01-21T12:15:32.378Z"
   },
   {
    "duration": 17,
    "start_time": "2023-01-21T12:15:47.906Z"
   },
   {
    "duration": 23,
    "start_time": "2023-01-21T12:15:57.614Z"
   },
   {
    "duration": 22,
    "start_time": "2023-01-21T12:17:24.170Z"
   },
   {
    "duration": 18,
    "start_time": "2023-01-21T12:17:36.158Z"
   },
   {
    "duration": 13,
    "start_time": "2023-01-21T12:18:56.728Z"
   },
   {
    "duration": 200,
    "start_time": "2023-01-21T12:19:10.139Z"
   },
   {
    "duration": 117,
    "start_time": "2023-01-21T12:19:38.437Z"
   },
   {
    "duration": 94,
    "start_time": "2023-01-21T12:19:50.593Z"
   },
   {
    "duration": 98,
    "start_time": "2023-01-21T12:20:16.829Z"
   },
   {
    "duration": 102,
    "start_time": "2023-01-21T12:20:21.639Z"
   },
   {
    "duration": 114,
    "start_time": "2023-01-21T12:20:29.060Z"
   },
   {
    "duration": 12203,
    "start_time": "2023-01-21T12:20:58.470Z"
   },
   {
    "duration": 12273,
    "start_time": "2023-01-21T12:21:35.353Z"
   },
   {
    "duration": 8,
    "start_time": "2023-01-21T12:30:24.132Z"
   },
   {
    "duration": 10,
    "start_time": "2023-01-21T12:30:50.439Z"
   },
   {
    "duration": 6,
    "start_time": "2023-01-21T12:31:41.067Z"
   },
   {
    "duration": 6,
    "start_time": "2023-01-21T12:36:17.072Z"
   },
   {
    "duration": 9,
    "start_time": "2023-01-21T12:36:34.139Z"
   },
   {
    "duration": 105,
    "start_time": "2023-01-21T12:36:46.043Z"
   },
   {
    "duration": 137,
    "start_time": "2023-01-21T12:36:56.613Z"
   },
   {
    "duration": 101,
    "start_time": "2023-01-21T12:37:53.475Z"
   },
   {
    "duration": 104,
    "start_time": "2023-01-21T12:38:53.974Z"
   },
   {
    "duration": 133,
    "start_time": "2023-01-21T12:39:26.558Z"
   },
   {
    "duration": 134,
    "start_time": "2023-01-21T12:39:36.695Z"
   },
   {
    "duration": 193,
    "start_time": "2023-01-21T12:39:55.222Z"
   },
   {
    "duration": 101,
    "start_time": "2023-01-21T12:40:53.485Z"
   },
   {
    "duration": 110,
    "start_time": "2023-01-21T12:41:02.425Z"
   },
   {
    "duration": 110,
    "start_time": "2023-01-21T12:41:51.417Z"
   },
   {
    "duration": 111,
    "start_time": "2023-01-21T12:41:58.891Z"
   },
   {
    "duration": 11,
    "start_time": "2023-01-21T12:42:32.529Z"
   },
   {
    "duration": 8,
    "start_time": "2023-01-21T12:42:40.897Z"
   },
   {
    "duration": 11,
    "start_time": "2023-01-21T12:43:03.766Z"
   },
   {
    "duration": 106,
    "start_time": "2023-01-21T12:43:23.873Z"
   },
   {
    "duration": 110,
    "start_time": "2023-01-21T12:44:53.166Z"
   },
   {
    "duration": 108,
    "start_time": "2023-01-21T12:45:05.382Z"
   },
   {
    "duration": 6,
    "start_time": "2023-01-21T12:45:29.348Z"
   },
   {
    "duration": 7,
    "start_time": "2023-01-21T12:47:36.988Z"
   },
   {
    "duration": 7,
    "start_time": "2023-01-21T12:47:53.145Z"
   },
   {
    "duration": 135,
    "start_time": "2023-01-21T12:48:15.263Z"
   },
   {
    "duration": 119,
    "start_time": "2023-01-21T12:48:38.093Z"
   },
   {
    "duration": 123,
    "start_time": "2023-01-21T12:48:47.885Z"
   },
   {
    "duration": 104,
    "start_time": "2023-01-21T12:50:12.996Z"
   },
   {
    "duration": 122,
    "start_time": "2023-01-21T12:50:30.011Z"
   },
   {
    "duration": 6,
    "start_time": "2023-01-21T12:50:40.271Z"
   },
   {
    "duration": 6,
    "start_time": "2023-01-21T12:51:41.138Z"
   },
   {
    "duration": 113,
    "start_time": "2023-01-21T12:51:43.027Z"
   },
   {
    "duration": 119,
    "start_time": "2023-01-21T12:51:45.387Z"
   },
   {
    "duration": 104,
    "start_time": "2023-01-21T12:51:48.291Z"
   },
   {
    "duration": 99,
    "start_time": "2023-01-21T12:52:26.558Z"
   },
   {
    "duration": 96,
    "start_time": "2023-01-21T12:52:38.607Z"
   },
   {
    "duration": 125,
    "start_time": "2023-01-21T12:52:38.705Z"
   },
   {
    "duration": 6,
    "start_time": "2023-01-21T12:52:38.856Z"
   },
   {
    "duration": 112,
    "start_time": "2023-01-21T12:53:12.369Z"
   },
   {
    "duration": 98,
    "start_time": "2023-01-21T12:53:19.063Z"
   },
   {
    "duration": 98,
    "start_time": "2023-01-21T12:53:25.970Z"
   },
   {
    "duration": 109,
    "start_time": "2023-01-21T12:53:34.049Z"
   },
   {
    "duration": 108,
    "start_time": "2023-01-21T12:53:42.221Z"
   },
   {
    "duration": 111,
    "start_time": "2023-01-21T12:53:48.259Z"
   },
   {
    "duration": 102,
    "start_time": "2023-01-21T12:53:55.982Z"
   },
   {
    "duration": 387,
    "start_time": "2023-01-21T12:54:01.313Z"
   },
   {
    "duration": 109,
    "start_time": "2023-01-21T12:54:06.093Z"
   },
   {
    "duration": 109,
    "start_time": "2023-01-21T12:59:00.714Z"
   },
   {
    "duration": 6,
    "start_time": "2023-01-21T12:59:12.119Z"
   },
   {
    "duration": 104,
    "start_time": "2023-01-21T12:59:13.380Z"
   },
   {
    "duration": 116,
    "start_time": "2023-01-21T12:59:17.868Z"
   },
   {
    "duration": 105,
    "start_time": "2023-01-21T12:59:20.364Z"
   },
   {
    "duration": 8,
    "start_time": "2023-01-21T13:01:32.436Z"
   },
   {
    "duration": 10,
    "start_time": "2023-01-21T13:02:00.596Z"
   },
   {
    "duration": 8,
    "start_time": "2023-01-21T13:02:06.928Z"
   },
   {
    "duration": 8,
    "start_time": "2023-01-21T13:02:17.323Z"
   },
   {
    "duration": 8,
    "start_time": "2023-01-21T13:02:54.223Z"
   },
   {
    "duration": 6,
    "start_time": "2023-01-21T13:17:59.617Z"
   },
   {
    "duration": 8,
    "start_time": "2023-01-21T13:18:34.238Z"
   },
   {
    "duration": 8,
    "start_time": "2023-01-21T13:18:43.135Z"
   },
   {
    "duration": 9,
    "start_time": "2023-01-21T13:19:07.355Z"
   },
   {
    "duration": 8,
    "start_time": "2023-01-21T13:19:13.375Z"
   },
   {
    "duration": 11,
    "start_time": "2023-01-21T13:19:15.472Z"
   },
   {
    "duration": 118,
    "start_time": "2023-01-21T13:25:51.249Z"
   },
   {
    "duration": 137,
    "start_time": "2023-01-21T13:26:05.496Z"
   },
   {
    "duration": 113,
    "start_time": "2023-01-21T13:26:37.356Z"
   },
   {
    "duration": 109,
    "start_time": "2023-01-21T13:27:16.007Z"
   },
   {
    "duration": 106,
    "start_time": "2023-01-21T13:27:16.117Z"
   },
   {
    "duration": 1328,
    "start_time": "2023-01-21T18:02:23.151Z"
   },
   {
    "duration": 111,
    "start_time": "2023-01-21T18:02:24.481Z"
   },
   {
    "duration": 5,
    "start_time": "2023-01-21T18:02:24.593Z"
   },
   {
    "duration": 4,
    "start_time": "2023-01-21T18:02:24.600Z"
   },
   {
    "duration": 18,
    "start_time": "2023-01-21T18:02:24.606Z"
   },
   {
    "duration": 32,
    "start_time": "2023-01-21T18:02:24.626Z"
   },
   {
    "duration": 19,
    "start_time": "2023-01-21T18:02:24.660Z"
   },
   {
    "duration": 6,
    "start_time": "2023-01-21T18:02:24.681Z"
   },
   {
    "duration": 10,
    "start_time": "2023-01-21T18:02:24.688Z"
   },
   {
    "duration": 10,
    "start_time": "2023-01-21T18:02:24.701Z"
   },
   {
    "duration": 47,
    "start_time": "2023-01-21T18:02:24.712Z"
   },
   {
    "duration": 19,
    "start_time": "2023-01-21T18:02:24.761Z"
   },
   {
    "duration": 2,
    "start_time": "2023-01-21T18:02:24.782Z"
   },
   {
    "duration": 7,
    "start_time": "2023-01-21T18:02:24.786Z"
   },
   {
    "duration": 9,
    "start_time": "2023-01-21T18:02:24.795Z"
   },
   {
    "duration": 5,
    "start_time": "2023-01-21T18:02:24.806Z"
   },
   {
    "duration": 32,
    "start_time": "2023-01-21T18:02:24.812Z"
   },
   {
    "duration": 25,
    "start_time": "2023-01-21T18:02:24.847Z"
   },
   {
    "duration": 10,
    "start_time": "2023-01-21T18:02:24.874Z"
   },
   {
    "duration": 206,
    "start_time": "2023-01-21T18:02:24.886Z"
   },
   {
    "duration": 15,
    "start_time": "2023-01-21T18:02:25.094Z"
   },
   {
    "duration": 317,
    "start_time": "2023-01-21T18:02:25.110Z"
   },
   {
    "duration": 12,
    "start_time": "2023-01-21T18:02:25.429Z"
   },
   {
    "duration": 20,
    "start_time": "2023-01-21T18:02:25.443Z"
   },
   {
    "duration": 13,
    "start_time": "2023-01-21T18:02:25.465Z"
   },
   {
    "duration": 8,
    "start_time": "2023-01-21T18:02:25.480Z"
   },
   {
    "duration": 18,
    "start_time": "2023-01-21T18:02:25.490Z"
   },
   {
    "duration": 942,
    "start_time": "2023-01-21T18:02:25.511Z"
   },
   {
    "duration": 7,
    "start_time": "2023-01-21T18:02:26.455Z"
   },
   {
    "duration": 13,
    "start_time": "2023-01-21T18:02:26.464Z"
   },
   {
    "duration": 726,
    "start_time": "2023-01-21T18:02:26.479Z"
   },
   {
    "duration": 13,
    "start_time": "2023-01-21T18:02:27.206Z"
   },
   {
    "duration": 22,
    "start_time": "2023-01-21T18:02:27.220Z"
   },
   {
    "duration": 7,
    "start_time": "2023-01-21T18:02:27.244Z"
   },
   {
    "duration": 14,
    "start_time": "2023-01-21T18:02:27.253Z"
   },
   {
    "duration": 9,
    "start_time": "2023-01-21T18:02:27.268Z"
   },
   {
    "duration": 8,
    "start_time": "2023-01-21T18:02:27.279Z"
   },
   {
    "duration": 154,
    "start_time": "2023-01-21T18:02:27.289Z"
   },
   {
    "duration": 156,
    "start_time": "2023-01-21T18:02:27.448Z"
   },
   {
    "duration": 146,
    "start_time": "2023-01-21T18:02:27.606Z"
   },
   {
    "duration": 10,
    "start_time": "2023-01-21T18:02:27.756Z"
   },
   {
    "duration": 166,
    "start_time": "2023-01-21T18:02:27.768Z"
   },
   {
    "duration": 143,
    "start_time": "2023-01-21T18:02:27.941Z"
   },
   {
    "duration": 166,
    "start_time": "2023-01-21T18:02:28.086Z"
   },
   {
    "duration": 8,
    "start_time": "2023-01-21T18:02:28.254Z"
   },
   {
    "duration": 149,
    "start_time": "2023-01-21T18:02:28.264Z"
   },
   {
    "duration": 146,
    "start_time": "2023-01-21T18:02:28.416Z"
   },
   {
    "duration": 140,
    "start_time": "2023-01-21T18:02:28.564Z"
   },
   {
    "duration": 2,
    "start_time": "2023-01-21T18:02:28.706Z"
   },
   {
    "duration": 5,
    "start_time": "2023-01-21T18:02:28.710Z"
   },
   {
    "duration": 43,
    "start_time": "2023-01-21T18:02:28.716Z"
   },
   {
    "duration": 25,
    "start_time": "2023-01-21T18:09:26.050Z"
   },
   {
    "duration": 30,
    "start_time": "2023-01-21T18:11:03.691Z"
   },
   {
    "duration": 33,
    "start_time": "2023-01-21T18:11:46.090Z"
   },
   {
    "duration": 29,
    "start_time": "2023-01-21T18:12:21.181Z"
   },
   {
    "duration": 121,
    "start_time": "2023-01-21T18:14:26.256Z"
   },
   {
    "duration": 8,
    "start_time": "2023-01-21T18:14:43.340Z"
   },
   {
    "duration": 29,
    "start_time": "2023-01-21T18:14:49.811Z"
   },
   {
    "duration": 10,
    "start_time": "2023-01-21T18:15:05.301Z"
   },
   {
    "duration": 11,
    "start_time": "2023-01-21T18:15:46.820Z"
   },
   {
    "duration": 3,
    "start_time": "2023-01-21T18:16:18.370Z"
   },
   {
    "duration": 6,
    "start_time": "2023-01-21T18:16:32.201Z"
   },
   {
    "duration": 28,
    "start_time": "2023-01-21T18:19:43.100Z"
   },
   {
    "duration": 8,
    "start_time": "2023-01-21T18:21:05.060Z"
   },
   {
    "duration": 6,
    "start_time": "2023-01-21T18:21:17.643Z"
   },
   {
    "duration": 6,
    "start_time": "2023-01-21T18:25:59.581Z"
   },
   {
    "duration": 4,
    "start_time": "2023-01-21T18:28:22.371Z"
   },
   {
    "duration": 5,
    "start_time": "2023-01-21T18:38:13.361Z"
   },
   {
    "duration": 7,
    "start_time": "2023-01-21T18:40:06.631Z"
   },
   {
    "duration": 6,
    "start_time": "2023-01-21T18:40:09.302Z"
   },
   {
    "duration": 134,
    "start_time": "2023-01-21T18:44:33.111Z"
   },
   {
    "duration": 241,
    "start_time": "2023-01-21T18:45:00.382Z"
   },
   {
    "duration": 49,
    "start_time": "2023-01-21T18:46:09.531Z"
   },
   {
    "duration": 112,
    "start_time": "2023-01-21T18:46:29.091Z"
   },
   {
    "duration": 133,
    "start_time": "2023-01-21T18:47:22.221Z"
   },
   {
    "duration": 122,
    "start_time": "2023-01-21T18:47:35.792Z"
   },
   {
    "duration": 117,
    "start_time": "2023-01-21T18:47:41.624Z"
   },
   {
    "duration": 120,
    "start_time": "2023-01-21T18:47:48.447Z"
   },
   {
    "duration": 110,
    "start_time": "2023-01-21T18:47:53.081Z"
   },
   {
    "duration": 130,
    "start_time": "2023-01-21T18:47:57.148Z"
   },
   {
    "duration": 148,
    "start_time": "2023-01-21T18:48:45.024Z"
   },
   {
    "duration": 123,
    "start_time": "2023-01-21T18:48:57.407Z"
   },
   {
    "duration": 1514,
    "start_time": "2023-01-22T18:55:50.318Z"
   },
   {
    "duration": 206,
    "start_time": "2023-01-22T18:55:51.834Z"
   },
   {
    "duration": 4,
    "start_time": "2023-01-22T18:55:52.042Z"
   },
   {
    "duration": 10,
    "start_time": "2023-01-22T18:55:52.048Z"
   },
   {
    "duration": 33,
    "start_time": "2023-01-22T18:55:52.060Z"
   },
   {
    "duration": 34,
    "start_time": "2023-01-22T18:55:52.095Z"
   },
   {
    "duration": 14,
    "start_time": "2023-01-22T18:55:52.131Z"
   },
   {
    "duration": 8,
    "start_time": "2023-01-22T18:55:52.147Z"
   },
   {
    "duration": 11,
    "start_time": "2023-01-22T18:55:52.157Z"
   },
   {
    "duration": 11,
    "start_time": "2023-01-22T18:55:52.170Z"
   },
   {
    "duration": 21,
    "start_time": "2023-01-22T18:55:52.183Z"
   },
   {
    "duration": 33,
    "start_time": "2023-01-22T18:55:52.206Z"
   },
   {
    "duration": 3,
    "start_time": "2023-01-22T18:55:52.240Z"
   },
   {
    "duration": 22,
    "start_time": "2023-01-22T18:55:52.246Z"
   },
   {
    "duration": 37,
    "start_time": "2023-01-22T18:55:52.270Z"
   },
   {
    "duration": 13,
    "start_time": "2023-01-22T18:55:52.309Z"
   },
   {
    "duration": 20,
    "start_time": "2023-01-22T18:55:52.325Z"
   },
   {
    "duration": 48,
    "start_time": "2023-01-22T18:55:52.347Z"
   },
   {
    "duration": 8,
    "start_time": "2023-01-22T18:55:52.397Z"
   },
   {
    "duration": 38,
    "start_time": "2023-01-22T18:55:52.408Z"
   },
   {
    "duration": 219,
    "start_time": "2023-01-22T18:55:52.449Z"
   },
   {
    "duration": 13,
    "start_time": "2023-01-22T18:55:52.670Z"
   },
   {
    "duration": 319,
    "start_time": "2023-01-22T18:55:52.685Z"
   },
   {
    "duration": 4,
    "start_time": "2023-01-22T18:55:53.006Z"
   },
   {
    "duration": 33,
    "start_time": "2023-01-22T18:55:53.011Z"
   },
   {
    "duration": 24,
    "start_time": "2023-01-22T18:55:53.045Z"
   },
   {
    "duration": 7,
    "start_time": "2023-01-22T18:55:53.071Z"
   },
   {
    "duration": 14,
    "start_time": "2023-01-22T18:55:53.080Z"
   },
   {
    "duration": 943,
    "start_time": "2023-01-22T18:55:53.095Z"
   },
   {
    "duration": 7,
    "start_time": "2023-01-22T18:55:54.040Z"
   },
   {
    "duration": 17,
    "start_time": "2023-01-22T18:55:54.048Z"
   },
   {
    "duration": 729,
    "start_time": "2023-01-22T18:55:54.067Z"
   },
   {
    "duration": 17,
    "start_time": "2023-01-22T18:55:54.799Z"
   },
   {
    "duration": 31,
    "start_time": "2023-01-22T18:55:54.819Z"
   },
   {
    "duration": 6,
    "start_time": "2023-01-22T18:55:54.852Z"
   },
   {
    "duration": 22,
    "start_time": "2023-01-22T18:55:54.860Z"
   },
   {
    "duration": 16,
    "start_time": "2023-01-22T18:55:54.884Z"
   },
   {
    "duration": 18,
    "start_time": "2023-01-22T18:55:54.902Z"
   },
   {
    "duration": 131,
    "start_time": "2023-01-22T18:55:54.922Z"
   },
   {
    "duration": 155,
    "start_time": "2023-01-22T18:55:55.055Z"
   },
   {
    "duration": 137,
    "start_time": "2023-01-22T18:55:55.215Z"
   },
   {
    "duration": 6,
    "start_time": "2023-01-22T18:55:55.354Z"
   },
   {
    "duration": 179,
    "start_time": "2023-01-22T18:55:55.361Z"
   },
   {
    "duration": 150,
    "start_time": "2023-01-22T18:55:55.542Z"
   },
   {
    "duration": 126,
    "start_time": "2023-01-22T18:55:55.693Z"
   },
   {
    "duration": 19,
    "start_time": "2023-01-22T18:55:55.821Z"
   },
   {
    "duration": 127,
    "start_time": "2023-01-22T18:55:55.841Z"
   },
   {
    "duration": 128,
    "start_time": "2023-01-22T18:55:55.970Z"
   },
   {
    "duration": 140,
    "start_time": "2023-01-22T18:55:56.099Z"
   },
   {
    "duration": 3,
    "start_time": "2023-01-22T18:55:56.241Z"
   },
   {
    "duration": 57,
    "start_time": "2023-01-22T18:55:56.246Z"
   },
   {
    "duration": 10,
    "start_time": "2023-01-22T18:55:56.305Z"
   },
   {
    "duration": 15,
    "start_time": "2023-01-22T18:55:56.316Z"
   },
   {
    "duration": 41,
    "start_time": "2023-01-22T18:55:56.338Z"
   },
   {
    "duration": 8,
    "start_time": "2023-01-22T18:55:56.381Z"
   },
   {
    "duration": 14,
    "start_time": "2023-01-22T18:55:56.390Z"
   },
   {
    "duration": 62,
    "start_time": "2023-01-22T18:55:56.558Z"
   },
   {
    "duration": 5,
    "start_time": "2023-01-22T18:55:58.846Z"
   },
   {
    "duration": 22,
    "start_time": "2023-01-22T18:56:08.847Z"
   },
   {
    "duration": 31,
    "start_time": "2023-01-22T18:56:37.357Z"
   },
   {
    "duration": 586,
    "start_time": "2023-01-22T18:56:53.959Z"
   },
   {
    "duration": 126,
    "start_time": "2023-01-22T18:57:32.497Z"
   },
   {
    "duration": 4,
    "start_time": "2023-01-22T18:57:58.467Z"
   },
   {
    "duration": 6,
    "start_time": "2023-01-22T18:58:06.767Z"
   },
   {
    "duration": 4,
    "start_time": "2023-01-22T18:58:57.807Z"
   },
   {
    "duration": 30,
    "start_time": "2023-01-22T18:59:02.948Z"
   },
   {
    "duration": 6,
    "start_time": "2023-01-22T18:59:11.399Z"
   },
   {
    "duration": 1143,
    "start_time": "2023-01-22T18:59:30.557Z"
   },
   {
    "duration": 70,
    "start_time": "2023-01-22T18:59:31.703Z"
   },
   {
    "duration": 4,
    "start_time": "2023-01-22T18:59:31.775Z"
   },
   {
    "duration": 33,
    "start_time": "2023-01-22T18:59:31.781Z"
   },
   {
    "duration": 41,
    "start_time": "2023-01-22T18:59:31.816Z"
   },
   {
    "duration": 529,
    "start_time": "2023-01-22T18:59:31.859Z"
   },
   {
    "duration": 3,
    "start_time": "2023-01-22T18:59:32.390Z"
   },
   {
    "duration": 33,
    "start_time": "2023-01-22T18:59:32.395Z"
   },
   {
    "duration": 42,
    "start_time": "2023-01-22T18:59:32.430Z"
   },
   {
    "duration": 50,
    "start_time": "2023-01-22T18:59:32.477Z"
   },
   {
    "duration": 24,
    "start_time": "2023-01-22T18:59:32.529Z"
   },
   {
    "duration": 34,
    "start_time": "2023-01-22T18:59:32.555Z"
   },
   {
    "duration": 32,
    "start_time": "2023-01-22T18:59:32.592Z"
   },
   {
    "duration": 35,
    "start_time": "2023-01-22T18:59:32.626Z"
   },
   {
    "duration": 25,
    "start_time": "2023-01-22T18:59:32.664Z"
   },
   {
    "duration": 36,
    "start_time": "2023-01-22T18:59:32.692Z"
   },
   {
    "duration": 23,
    "start_time": "2023-01-22T18:59:32.731Z"
   },
   {
    "duration": 20,
    "start_time": "2023-01-22T18:59:32.757Z"
   },
   {
    "duration": 34,
    "start_time": "2023-01-22T18:59:32.779Z"
   },
   {
    "duration": 11,
    "start_time": "2023-01-22T18:59:32.815Z"
   },
   {
    "duration": 52,
    "start_time": "2023-01-22T18:59:32.827Z"
   },
   {
    "duration": 29,
    "start_time": "2023-01-22T18:59:32.881Z"
   },
   {
    "duration": 42,
    "start_time": "2023-01-22T18:59:32.911Z"
   },
   {
    "duration": 8,
    "start_time": "2023-01-22T18:59:32.955Z"
   },
   {
    "duration": 50,
    "start_time": "2023-01-22T18:59:32.966Z"
   },
   {
    "duration": 183,
    "start_time": "2023-01-22T18:59:33.018Z"
   },
   {
    "duration": 13,
    "start_time": "2023-01-22T18:59:33.203Z"
   },
   {
    "duration": 312,
    "start_time": "2023-01-22T18:59:33.237Z"
   },
   {
    "duration": 5,
    "start_time": "2023-01-22T18:59:33.551Z"
   },
   {
    "duration": 24,
    "start_time": "2023-01-22T18:59:33.557Z"
   },
   {
    "duration": 28,
    "start_time": "2023-01-22T18:59:33.583Z"
   },
   {
    "duration": 12,
    "start_time": "2023-01-22T18:59:33.613Z"
   },
   {
    "duration": 18,
    "start_time": "2023-01-22T18:59:33.627Z"
   },
   {
    "duration": 1040,
    "start_time": "2023-01-22T18:59:33.647Z"
   },
   {
    "duration": 7,
    "start_time": "2023-01-22T18:59:34.689Z"
   },
   {
    "duration": 22,
    "start_time": "2023-01-22T18:59:34.698Z"
   },
   {
    "duration": 637,
    "start_time": "2023-01-22T18:59:34.722Z"
   },
   {
    "duration": 11,
    "start_time": "2023-01-22T18:59:35.361Z"
   },
   {
    "duration": 40,
    "start_time": "2023-01-22T18:59:35.374Z"
   },
   {
    "duration": 8,
    "start_time": "2023-01-22T18:59:35.416Z"
   },
   {
    "duration": 33,
    "start_time": "2023-01-22T18:59:35.426Z"
   },
   {
    "duration": 25,
    "start_time": "2023-01-22T18:59:35.460Z"
   },
   {
    "duration": 19,
    "start_time": "2023-01-22T18:59:35.487Z"
   },
   {
    "duration": 146,
    "start_time": "2023-01-22T18:59:35.508Z"
   },
   {
    "duration": 149,
    "start_time": "2023-01-22T18:59:35.655Z"
   },
   {
    "duration": 164,
    "start_time": "2023-01-22T18:59:35.807Z"
   },
   {
    "duration": 8,
    "start_time": "2023-01-22T18:59:35.973Z"
   },
   {
    "duration": 145,
    "start_time": "2023-01-22T18:59:35.983Z"
   },
   {
    "duration": 168,
    "start_time": "2023-01-22T18:59:36.129Z"
   },
   {
    "duration": 142,
    "start_time": "2023-01-22T18:59:36.299Z"
   },
   {
    "duration": 8,
    "start_time": "2023-01-22T18:59:36.443Z"
   },
   {
    "duration": 240,
    "start_time": "2023-01-22T18:59:36.452Z"
   },
   {
    "duration": 130,
    "start_time": "2023-01-22T18:59:36.694Z"
   },
   {
    "duration": 145,
    "start_time": "2023-01-22T18:59:36.838Z"
   },
   {
    "duration": 3,
    "start_time": "2023-01-22T18:59:36.985Z"
   },
   {
    "duration": 36,
    "start_time": "2023-01-22T18:59:36.989Z"
   },
   {
    "duration": 20,
    "start_time": "2023-01-22T18:59:37.027Z"
   },
   {
    "duration": 24,
    "start_time": "2023-01-22T18:59:37.049Z"
   },
   {
    "duration": 45,
    "start_time": "2023-01-22T18:59:37.075Z"
   },
   {
    "duration": 8,
    "start_time": "2023-01-22T18:59:37.122Z"
   },
   {
    "duration": 14,
    "start_time": "2023-01-22T18:59:37.132Z"
   },
   {
    "duration": 1248,
    "start_time": "2023-01-25T09:37:11.489Z"
   },
   {
    "duration": 129,
    "start_time": "2023-01-25T09:37:12.739Z"
   },
   {
    "duration": 4,
    "start_time": "2023-01-25T09:37:12.870Z"
   },
   {
    "duration": 24,
    "start_time": "2023-01-25T09:37:12.876Z"
   },
   {
    "duration": 32,
    "start_time": "2023-01-25T09:37:12.902Z"
   },
   {
    "duration": 436,
    "start_time": "2023-01-25T09:37:12.936Z"
   },
   {
    "duration": 4,
    "start_time": "2023-01-25T09:37:13.374Z"
   },
   {
    "duration": 8,
    "start_time": "2023-01-25T09:37:13.379Z"
   },
   {
    "duration": 16,
    "start_time": "2023-01-25T09:37:13.388Z"
   },
   {
    "duration": 45,
    "start_time": "2023-01-25T09:37:13.407Z"
   },
   {
    "duration": 11,
    "start_time": "2023-01-25T09:37:13.454Z"
   },
   {
    "duration": 25,
    "start_time": "2023-01-25T09:37:13.467Z"
   },
   {
    "duration": 19,
    "start_time": "2023-01-25T09:37:13.494Z"
   },
   {
    "duration": 11,
    "start_time": "2023-01-25T09:37:13.514Z"
   },
   {
    "duration": 12,
    "start_time": "2023-01-25T09:37:13.527Z"
   },
   {
    "duration": 16,
    "start_time": "2023-01-25T09:37:13.540Z"
   },
   {
    "duration": 3,
    "start_time": "2023-01-25T09:37:13.557Z"
   },
   {
    "duration": 17,
    "start_time": "2023-01-25T09:37:13.561Z"
   },
   {
    "duration": 10,
    "start_time": "2023-01-25T09:37:13.580Z"
   },
   {
    "duration": 4,
    "start_time": "2023-01-25T09:37:13.591Z"
   },
   {
    "duration": 8,
    "start_time": "2023-01-25T09:37:13.597Z"
   },
   {
    "duration": 11,
    "start_time": "2023-01-25T09:37:13.606Z"
   },
   {
    "duration": 31,
    "start_time": "2023-01-25T09:37:13.618Z"
   },
   {
    "duration": 3,
    "start_time": "2023-01-25T09:37:13.651Z"
   },
   {
    "duration": 16,
    "start_time": "2023-01-25T09:37:13.655Z"
   },
   {
    "duration": 151,
    "start_time": "2023-01-25T09:37:13.673Z"
   },
   {
    "duration": 22,
    "start_time": "2023-01-25T09:37:13.826Z"
   },
   {
    "duration": 266,
    "start_time": "2023-01-25T09:37:13.852Z"
   },
   {
    "duration": 4,
    "start_time": "2023-01-25T09:37:14.120Z"
   },
   {
    "duration": 23,
    "start_time": "2023-01-25T09:37:14.126Z"
   },
   {
    "duration": 11,
    "start_time": "2023-01-25T09:37:14.151Z"
   },
   {
    "duration": 6,
    "start_time": "2023-01-25T09:37:14.164Z"
   },
   {
    "duration": 12,
    "start_time": "2023-01-25T09:37:14.172Z"
   },
   {
    "duration": 965,
    "start_time": "2023-01-25T09:37:14.186Z"
   },
   {
    "duration": 6,
    "start_time": "2023-01-25T09:37:15.152Z"
   },
   {
    "duration": 24,
    "start_time": "2023-01-25T09:37:15.159Z"
   },
   {
    "duration": 525,
    "start_time": "2023-01-25T09:37:15.184Z"
   },
   {
    "duration": 11,
    "start_time": "2023-01-25T09:37:15.711Z"
   },
   {
    "duration": 18,
    "start_time": "2023-01-25T09:37:15.736Z"
   },
   {
    "duration": 24,
    "start_time": "2023-01-25T09:37:15.756Z"
   },
   {
    "duration": 26,
    "start_time": "2023-01-25T09:37:15.782Z"
   },
   {
    "duration": 11,
    "start_time": "2023-01-25T09:37:15.810Z"
   },
   {
    "duration": 33,
    "start_time": "2023-01-25T09:37:15.823Z"
   },
   {
    "duration": 111,
    "start_time": "2023-01-25T09:37:15.858Z"
   },
   {
    "duration": 130,
    "start_time": "2023-01-25T09:37:15.970Z"
   },
   {
    "duration": 106,
    "start_time": "2023-01-25T09:37:16.103Z"
   },
   {
    "duration": 7,
    "start_time": "2023-01-25T09:37:16.210Z"
   },
   {
    "duration": 138,
    "start_time": "2023-01-25T09:37:16.218Z"
   },
   {
    "duration": 136,
    "start_time": "2023-01-25T09:37:16.358Z"
   },
   {
    "duration": 188,
    "start_time": "2023-01-25T09:37:16.496Z"
   },
   {
    "duration": 7,
    "start_time": "2023-01-25T09:37:16.686Z"
   },
   {
    "duration": 119,
    "start_time": "2023-01-25T09:37:16.694Z"
   },
   {
    "duration": 102,
    "start_time": "2023-01-25T09:37:16.815Z"
   },
   {
    "duration": 111,
    "start_time": "2023-01-25T09:37:16.936Z"
   },
   {
    "duration": 3,
    "start_time": "2023-01-25T09:37:17.048Z"
   },
   {
    "duration": 47,
    "start_time": "2023-01-25T09:37:17.052Z"
   },
   {
    "duration": 8,
    "start_time": "2023-01-25T09:37:17.101Z"
   },
   {
    "duration": 27,
    "start_time": "2023-01-25T09:37:17.110Z"
   },
   {
    "duration": 63,
    "start_time": "2023-01-25T09:37:17.138Z"
   },
   {
    "duration": 6,
    "start_time": "2023-01-25T09:37:17.203Z"
   },
   {
    "duration": 16,
    "start_time": "2023-01-25T09:37:17.211Z"
   },
   {
    "duration": 6,
    "start_time": "2023-01-25T09:40:34.772Z"
   },
   {
    "duration": 7,
    "start_time": "2023-01-25T09:41:37.552Z"
   },
   {
    "duration": 7,
    "start_time": "2023-01-25T09:41:40.386Z"
   },
   {
    "duration": 6,
    "start_time": "2023-01-25T09:41:49.148Z"
   },
   {
    "duration": 43,
    "start_time": "2023-01-25T09:42:12.860Z"
   },
   {
    "duration": 108,
    "start_time": "2023-01-25T09:43:43.863Z"
   },
   {
    "duration": 32,
    "start_time": "2023-01-25T09:44:01.235Z"
   },
   {
    "duration": 27,
    "start_time": "2023-01-25T09:44:43.227Z"
   },
   {
    "duration": 8,
    "start_time": "2023-01-25T09:45:12.055Z"
   },
   {
    "duration": 5,
    "start_time": "2023-01-25T09:45:17.960Z"
   },
   {
    "duration": 8,
    "start_time": "2023-01-25T09:45:22.786Z"
   },
   {
    "duration": 19,
    "start_time": "2023-01-25T09:46:23.682Z"
   },
   {
    "duration": 49,
    "start_time": "2023-01-25T09:46:43.045Z"
   },
   {
    "duration": 41,
    "start_time": "2023-01-25T09:46:52.070Z"
   },
   {
    "duration": 23,
    "start_time": "2023-01-25T09:46:56.979Z"
   },
   {
    "duration": 31,
    "start_time": "2023-01-25T09:47:08.286Z"
   },
   {
    "duration": 47,
    "start_time": "2023-01-25T09:47:34.419Z"
   },
   {
    "duration": 45,
    "start_time": "2023-01-25T09:47:47.753Z"
   },
   {
    "duration": 4,
    "start_time": "2023-01-25T09:47:53.188Z"
   },
   {
    "duration": 11,
    "start_time": "2023-01-25T09:48:00.408Z"
   },
   {
    "duration": 1315,
    "start_time": "2023-01-25T19:31:16.710Z"
   },
   {
    "duration": 226,
    "start_time": "2023-01-25T19:31:18.028Z"
   },
   {
    "duration": 5,
    "start_time": "2023-01-25T19:31:18.255Z"
   },
   {
    "duration": 63,
    "start_time": "2023-01-25T19:31:18.262Z"
   },
   {
    "duration": 37,
    "start_time": "2023-01-25T19:31:18.327Z"
   },
   {
    "duration": 501,
    "start_time": "2023-01-25T19:31:18.366Z"
   },
   {
    "duration": 3,
    "start_time": "2023-01-25T19:31:18.868Z"
   },
   {
    "duration": 25,
    "start_time": "2023-01-25T19:31:18.873Z"
   },
   {
    "duration": 30,
    "start_time": "2023-01-25T19:31:18.900Z"
   },
   {
    "duration": 37,
    "start_time": "2023-01-25T19:31:18.933Z"
   },
   {
    "duration": 16,
    "start_time": "2023-01-25T19:31:18.972Z"
   },
   {
    "duration": 15,
    "start_time": "2023-01-25T19:31:18.990Z"
   },
   {
    "duration": 26,
    "start_time": "2023-01-25T19:31:19.007Z"
   },
   {
    "duration": 23,
    "start_time": "2023-01-25T19:31:19.035Z"
   },
   {
    "duration": 27,
    "start_time": "2023-01-25T19:31:19.060Z"
   },
   {
    "duration": 34,
    "start_time": "2023-01-25T19:31:19.089Z"
   },
   {
    "duration": 7,
    "start_time": "2023-01-25T19:31:19.125Z"
   },
   {
    "duration": 20,
    "start_time": "2023-01-25T19:31:19.134Z"
   },
   {
    "duration": 29,
    "start_time": "2023-01-25T19:31:19.156Z"
   },
   {
    "duration": 21,
    "start_time": "2023-01-25T19:31:19.187Z"
   },
   {
    "duration": 20,
    "start_time": "2023-01-25T19:31:19.210Z"
   },
   {
    "duration": 24,
    "start_time": "2023-01-25T19:31:19.232Z"
   },
   {
    "duration": 25,
    "start_time": "2023-01-25T19:31:19.258Z"
   },
   {
    "duration": 4,
    "start_time": "2023-01-25T19:31:19.284Z"
   },
   {
    "duration": 15,
    "start_time": "2023-01-25T19:31:19.290Z"
   },
   {
    "duration": 158,
    "start_time": "2023-01-25T19:31:19.306Z"
   },
   {
    "duration": 18,
    "start_time": "2023-01-25T19:31:19.466Z"
   },
   {
    "duration": 354,
    "start_time": "2023-01-25T19:31:19.488Z"
   },
   {
    "duration": 4,
    "start_time": "2023-01-25T19:31:19.844Z"
   },
   {
    "duration": 16,
    "start_time": "2023-01-25T19:31:19.850Z"
   },
   {
    "duration": 13,
    "start_time": "2023-01-25T19:31:19.881Z"
   },
   {
    "duration": 12,
    "start_time": "2023-01-25T19:31:19.895Z"
   },
   {
    "duration": 14,
    "start_time": "2023-01-25T19:31:19.909Z"
   },
   {
    "duration": 1040,
    "start_time": "2023-01-25T19:31:19.925Z"
   },
   {
    "duration": 14,
    "start_time": "2023-01-25T19:31:20.967Z"
   },
   {
    "duration": 12,
    "start_time": "2023-01-25T19:31:20.983Z"
   },
   {
    "duration": 605,
    "start_time": "2023-01-25T19:31:20.996Z"
   },
   {
    "duration": 8,
    "start_time": "2023-01-25T19:31:21.602Z"
   },
   {
    "duration": 14,
    "start_time": "2023-01-25T19:31:21.613Z"
   },
   {
    "duration": 6,
    "start_time": "2023-01-25T19:31:21.629Z"
   },
   {
    "duration": 10,
    "start_time": "2023-01-25T19:31:21.637Z"
   },
   {
    "duration": 12,
    "start_time": "2023-01-25T19:31:21.649Z"
   },
   {
    "duration": 31,
    "start_time": "2023-01-25T19:31:21.662Z"
   },
   {
    "duration": 7,
    "start_time": "2023-01-25T19:31:21.695Z"
   },
   {
    "duration": 9,
    "start_time": "2023-01-25T19:31:21.703Z"
   },
   {
    "duration": 9,
    "start_time": "2023-01-25T19:31:21.714Z"
   },
   {
    "duration": 9,
    "start_time": "2023-01-25T19:31:21.724Z"
   },
   {
    "duration": 164,
    "start_time": "2023-01-25T19:31:21.735Z"
   },
   {
    "duration": 159,
    "start_time": "2023-01-25T19:31:21.901Z"
   },
   {
    "duration": 136,
    "start_time": "2023-01-25T19:31:22.063Z"
   },
   {
    "duration": 7,
    "start_time": "2023-01-25T19:31:22.201Z"
   },
   {
    "duration": 131,
    "start_time": "2023-01-25T19:31:22.210Z"
   },
   {
    "duration": 140,
    "start_time": "2023-01-25T19:31:22.343Z"
   },
   {
    "duration": 125,
    "start_time": "2023-01-25T19:31:22.484Z"
   },
   {
    "duration": 7,
    "start_time": "2023-01-25T19:31:22.610Z"
   },
   {
    "duration": 222,
    "start_time": "2023-01-25T19:31:22.618Z"
   },
   {
    "duration": 123,
    "start_time": "2023-01-25T19:31:22.841Z"
   },
   {
    "duration": 140,
    "start_time": "2023-01-25T19:31:22.966Z"
   },
   {
    "duration": 2,
    "start_time": "2023-01-25T19:31:23.108Z"
   },
   {
    "duration": 31,
    "start_time": "2023-01-25T19:31:23.112Z"
   },
   {
    "duration": 10,
    "start_time": "2023-01-25T19:31:23.145Z"
   },
   {
    "duration": 27,
    "start_time": "2023-01-25T19:31:23.157Z"
   },
   {
    "duration": 27,
    "start_time": "2023-01-25T19:31:23.187Z"
   },
   {
    "duration": 7,
    "start_time": "2023-01-25T19:31:23.215Z"
   },
   {
    "duration": 9,
    "start_time": "2023-01-25T19:31:23.223Z"
   },
   {
    "duration": 12,
    "start_time": "2023-01-25T19:33:52.790Z"
   },
   {
    "duration": 25,
    "start_time": "2023-01-25T19:34:14.210Z"
   },
   {
    "duration": 5,
    "start_time": "2023-01-25T19:34:33.631Z"
   },
   {
    "duration": 5,
    "start_time": "2023-01-25T19:35:50.040Z"
   },
   {
    "duration": 15,
    "start_time": "2023-01-25T19:39:05.880Z"
   },
   {
    "duration": 9,
    "start_time": "2023-01-25T19:39:21.129Z"
   },
   {
    "duration": 15,
    "start_time": "2023-01-25T19:39:29.270Z"
   },
   {
    "duration": 10,
    "start_time": "2023-01-25T19:39:34.429Z"
   },
   {
    "duration": 823,
    "start_time": "2023-01-25T19:43:40.049Z"
   },
   {
    "duration": 968,
    "start_time": "2023-01-25T19:45:55.559Z"
   },
   {
    "duration": 13,
    "start_time": "2023-01-25T19:51:46.237Z"
   },
   {
    "duration": 96,
    "start_time": "2023-01-25T19:53:37.757Z"
   },
   {
    "duration": 18,
    "start_time": "2023-01-25T19:53:49.007Z"
   },
   {
    "duration": 11,
    "start_time": "2023-01-25T19:54:22.688Z"
   },
   {
    "duration": 13,
    "start_time": "2023-01-25T19:55:11.246Z"
   },
   {
    "duration": 14,
    "start_time": "2023-01-25T19:55:46.294Z"
   },
   {
    "duration": 11,
    "start_time": "2023-01-25T19:56:13.987Z"
   }
  ],
  "kernelspec": {
   "display_name": "Python 3 (ipykernel)",
   "language": "python",
   "name": "python3"
  },
  "language_info": {
   "codemirror_mode": {
    "name": "ipython",
    "version": 3
   },
   "file_extension": ".py",
   "mimetype": "text/x-python",
   "name": "python",
   "nbconvert_exporter": "python",
   "pygments_lexer": "ipython3",
   "version": "3.9.5"
  },
  "toc": {
   "base_numbering": 1,
   "nav_menu": {},
   "number_sections": true,
   "sideBar": true,
   "skip_h1_title": true,
   "title_cell": "Table of Contents",
   "title_sidebar": "Contents",
   "toc_cell": false,
   "toc_position": {},
   "toc_section_display": true,
   "toc_window_display": false
  }
 },
 "nbformat": 4,
 "nbformat_minor": 2
}
